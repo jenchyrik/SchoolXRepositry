{
 "cells": [
  {
   "cell_type": "code",
   "execution_count": 139,
   "metadata": {},
   "outputs": [
    {
     "name": "stdout",
     "output_type": "stream",
     "text": [
      "Once there lived an old man and old woman.The old man said, \"Old woman, bake me a bun.\" \"What can I make it from? I have no flour.\" \"Eh, eh, old woman! Scrape the cupboard, sweep the flour bin, and you will find enough flour.\" The old woman picked up a duster, scraped the cupboard, swept the flour bin and gathered about two handfuls of flour. She mixed the dough with sour cream, fried it in butter, and put the bun on the window sill to cool. The bun lay and lay there. Suddenly it rolled off the window sill to the bench, from the bench to the floor, from the floor to the door. Then it rolled over the threshold to the entrance hall, from the entrance hall to the porch, from the porch to the courtyard, from the courtyard trough the gate and on and on. The bun rolled along the road and met a hare. \"Little bun, little bun, I shall eat you up!\" said the hare. \"Don't eat me, slant-eyed hare! I will sing you a song,\" said the bun, and sang: I was scraped from the cupboard, Swept from the bin, Kneaded with sour cream, Fried in butter, And coolled on the sill. I got away from Grandpa, I got away from Grandma And I'll get away from you, hare! And the bun rolled away before the hare even saw it move! The bun rolled on and met a wolf. \"Little bun, little bun, I shall eat you up,\" said the wolf. \"Don't eat me, gray wolf!\" said the bun. \"I will sing you a song.\" And the bun sang: I was scraped from the cupboard, Swept from the bin, Kneaded with sour cream, Fried in butter, And coolled on the sill. I got away from Grandpa, I got away from Grandma I got away from the hare, And I'll get away from you, gray wolf! And the bun rolled away before the wolf even saw it move! The bun rolled on and met a bear. \"Little bun, little bun, I shall eat you up,\" the bear said. \"You will not, pigeon toes!\" And the bun sang: I was scraped from the cupboard, Swept from the bin, Kneaded with sour cream, Fried in butter, And coolled on the sill. I got away from Grandpa, I got away from Grandma I got away from the hare, I got away from the wolf, And I'll get away from you, big bear! And again the bun rolled away before the bear even saw it move! The bun rolled and rolled and met a fox. \"Hello, little bun, how nice yor are!\" said the fox. And the bun sang: I was scraped from the cupboard, Swept from the bin, Kneaded with sour cream, Fried in butter, And coolled on the sill. I got away from Grandpa, I got away from Grandma, I got away from the hare, I got away from the wolf, I got away from bear, And I'll get away from you, old fox! \"What a wonderful song!\" said the fox. \"But little bun, I have became old now and hard of hearing. Come sit on my snout and sing your song again a little louder.\" The bun jumped up on the fox's snout and sang the same song. \"Thank you, little bun, that was a wonderful song. I'd like to hear it again. Come sit on my tongue and sing it for the last time,\" said the fox, sticking out her tongue. The bun foolishly jumped onto her tongue and- snatch!- she ate it.\n",
      "\n",
      "\n"
     ]
    }
   ],
   "source": [
    "with open('kolobok.txt', 'r') as file:\n",
    "    text = file.read()\n",
    "print(text) "
   ]
  },
  {
   "cell_type": "code",
   "execution_count": 140,
   "metadata": {},
   "outputs": [
    {
     "name": "stdout",
     "output_type": "stream",
     "text": [
      "Note: you may need to restart the kernel to use updated packages.\n"
     ]
    },
    {
     "name": "stderr",
     "output_type": "stream",
     "text": [
      "\n",
      "[notice] A new release of pip is available: 23.2.1 -> 23.3\n",
      "[notice] To update, run: C:\\Users\\Евгений\\AppData\\Local\\Microsoft\\WindowsApps\\PythonSoftwareFoundation.Python.3.11_qbz5n2kfra8p0\\python.exe -m pip install --upgrade pip\n"
     ]
    },
    {
     "name": "stdout",
     "output_type": "stream",
     "text": [
      "Note: you may need to restart the kernel to use updated packages.\n"
     ]
    },
    {
     "name": "stderr",
     "output_type": "stream",
     "text": [
      "\n",
      "[notice] A new release of pip is available: 23.2.1 -> 23.3\n",
      "[notice] To update, run: C:\\Users\\Евгений\\AppData\\Local\\Microsoft\\WindowsApps\\PythonSoftwareFoundation.Python.3.11_qbz5n2kfra8p0\\python.exe -m pip install --upgrade pip\n",
      "[nltk_data] Downloading package punkt to\n",
      "[nltk_data]     C:\\Users\\Евгений\\AppData\\Roaming\\nltk_data...\n",
      "[nltk_data]   Package punkt is already up-to-date!\n"
     ]
    },
    {
     "data": {
      "text/plain": [
       "True"
      ]
     },
     "execution_count": 140,
     "metadata": {},
     "output_type": "execute_result"
    }
   ],
   "source": [
    "%pip install nltk -q\n",
    "%pip install spacy -q\n",
    "import nltk\n",
    "from nltk.corpus import brown\n",
    "from nltk.tokenize import word_tokenize\n",
    "from nltk.tokenize import RegexpTokenizer\n",
    "from nltk.tokenize import ReppTokenizer\n",
    "from nltk.tokenize import StanfordSegmenter\n",
    "from nltk.tokenize import SExprTokenizer\n",
    "from nltk.tokenize import MWETokenizer\n",
    "from nltk.tokenize import LegalitySyllableTokenizer\n",
    "from nltk.tokenize import ToktokTokenizer\n",
    "from collections import Counter\n",
    "import spacy\n",
    "import timeit\n",
    "nltk.download('punkt')"
   ]
  },
  {
   "cell_type": "code",
   "execution_count": 141,
   "metadata": {},
   "outputs": [
    {
     "name": "stderr",
     "output_type": "stream",
     "text": [
      "C:\\Users\\Евгений\\AppData\\Local\\Packages\\PythonSoftwareFoundation.Python.3.11_qbz5n2kfra8p0\\LocalCache\\local-packages\\Python311\\site-packages\\nltk\\tokenize\\sonority_sequencing.py:102: UserWarning: Character not defined in sonority_hierarchy, assigning as vowel: ' '\n",
      "  warnings.warn(\n",
      "C:\\Users\\Евгений\\AppData\\Local\\Packages\\PythonSoftwareFoundation.Python.3.11_qbz5n2kfra8p0\\LocalCache\\local-packages\\Python311\\site-packages\\nltk\\tokenize\\sonority_sequencing.py:102: UserWarning: Character not defined in sonority_hierarchy, assigning as vowel: '\n",
      "'\n",
      "  warnings.warn(\n"
     ]
    }
   ],
   "source": [
    "ans01 = nltk.tokenize.BlanklineTokenizer().tokenize(text) \n",
    "# Разбивает текст на токены, когда обнаруживает пустую строку или две последовательные новые строки\n",
    "ans02 = nltk.tokenize.WordPunctTokenizer().tokenize(text) \n",
    "# Разбивает текст на отдельные слова и пунктуацию\n",
    "ans03 = nltk.tokenize.LineTokenizer().tokenize(text) \n",
    "# Разделяет текст на токены по символу новой строки (\\n) или последовательности символов новой строки\n",
    "ans04 = nltk.tokenize.MWETokenizer().tokenize(text) \n",
    "# Мульти-словной (Multi-Word Expression) токенизатор, который найдет и разделит заданные мульти-словные выражения в тексте\n",
    "ans05 = nltk.tokenize.NLTKWordTokenizer().tokenize(text) \n",
    "# Разделяет текст на слова, используя правила для английского языка\n",
    "ans06 = nltk.tokenize.PunktSentenceTokenizer().tokenize(text)\n",
    "# Разбивает текст на предложения на основе знаков препинания и других языковых шаблонов\n",
    "ans07 = nltk.tokenize.RegexpTokenizer(pattern=r'\\w').tokenize(text) \n",
    "# Токенизатор использует регулярное выражение в качестве шаблона для поиска и разделения текста на токены\n",
    "#ans08 = nltk.tokenize.ReppTokenizer(тут надо путь к библиотеке).tokenize(text)\n",
    "# Не работает скотина\n",
    "ans09 = nltk.tokenize.SExprTokenizer().tokenize(text)\n",
    "# Разделяет текст на токены, считая, что текст представляет из себя \"сингл-выражение\" или \"фразу-выражение\"\n",
    "ans10 = nltk.tokenize.SpaceTokenizer().tokenize(text)\n",
    "# Разделяет по пробелам\n",
    "#ans11 = nltk.tokenize.StanfordSegmenter().tokenize(text)\n",
    "# Не работает скотина\n",
    "ans12 = nltk.tokenize.SyllableTokenizer().tokenize(text)\n",
    "# Разделяет по слогам в словах\n",
    "ans13 = nltk.tokenize.TabTokenizer().tokenize(text)\n",
    "# Разделяет текст на токены на основе символа табуляции (\\t)\n",
    "ans14 = nltk.tokenize.TextTilingTokenizer().tokenize(text)\n",
    "# Разбивает текст на блоки, на основе алгоритма TextTiling, который ищет тематические переходы и границы секций в тексте\n",
    "ans15 = nltk.tokenize.ToktokTokenizer().tokenize(text)\n",
    "# Очень быстрый токенизатор, работающий на основе некоторых языковых шаблонов\n",
    "ans16 = nltk.tokenize.TreebankWordDetokenizer().tokenize(ans15)\n",
    "# Объединяет токены обратно в текст, используя правила, соответствующие древовидной структуре токенов\n",
    "ans17 = nltk.tokenize.TreebankWordTokenizer().tokenize(text)\n",
    "# Разбивает текст на слова и пунктуацию, используя правила из деревянного банка корпуса Penn Treebank\n",
    "ans18 = nltk.tokenize.TweetTokenizer().tokenize(text)\n",
    "# Для текстов в Twitter, учитывает особенности сообщений в соцсети\n",
    "ans19 = nltk.tokenize.WhitespaceTokenizer().tokenize(text) \n",
    "# Разделяет текст на токены на основе символов пробела\n",
    "ans20 = LegalitySyllableTokenizer(tokenized_source_text=text).tokenize(token=text)\n",
    "# Разбивает текст на токены на основе легальных слогов в словах"
   ]
  },
  {
   "cell_type": "code",
   "execution_count": 142,
   "metadata": {},
   "outputs": [
    {
     "name": "stdout",
     "output_type": "stream",
     "text": [
      "['Once there lived an old man and old woman.The old man said, \"Old woman, bake me a bun.\" \"What can I make it from? I have no flour.\" \"Eh, eh, old woman! Scrape the cupboard, sweep the flour bin, and you will find enough flour.\" The old woman picked up a duster, scraped the cupboard, swept the flour bin and gathered about two handfuls of flour. She mixed the dough with sour cream, fried it in butter, and put the bun on the window sill to cool. The bun lay and lay there. Suddenly it rolled off the window sill to the bench, from the bench to the floor, from the floor to the door. Then it rolled over the threshold to the entrance hall, from the entrance hall to the porch, from the porch to the courtyard, from the courtyard trough the gate and on and on. The bun rolled along the road and met a hare. \"Little bun, little bun, I shall eat you up!\" said the hare. \"Don\\'t eat me, slant-eyed hare! I will sing you a song,\" said the bun, and sang: I was scraped from the cupboard, Swept from the bin, Kneaded with sour cream, Fried in butter, And coolled on the sill. I got away from Grandpa, I got away from Grandma And I\\'ll get away from you, hare! And the bun rolled away before the hare even saw it move! The bun rolled on and met a wolf. \"Little bun, little bun, I shall eat you up,\" said the wolf. \"Don\\'t eat me, gray wolf!\" said the bun. \"I will sing you a song.\" And the bun sang: I was scraped from the cupboard, Swept from the bin, Kneaded with sour cream, Fried in butter, And coolled on the sill. I got away from Grandpa, I got away from Grandma I got away from the hare, And I\\'ll get away from you, gray wolf! And the bun rolled away before the wolf even saw it move! The bun rolled on and met a bear. \"Little bun, little bun, I shall eat you up,\" the bear said. \"You will not, pigeon toes!\" And the bun sang: I was scraped from the cupboard, Swept from the bin, Kneaded with sour cream, Fried in butter, And coolled on the sill. I got away from Grandpa, I got away from Grandma I got away from the hare, I got away from the wolf, And I\\'ll get away from you, big bear! And again the bun rolled away before the bear even saw it move! The bun rolled and rolled and met a fox. \"Hello, little bun, how nice yor are!\" said the fox. And the bun sang: I was scraped from the cupboard, Swept from the bin, Kneaded with sour cream, Fried in butter, And coolled on the sill. I got away from Grandpa, I got away from Grandma, I got away from the hare, I got away from the wolf, I got away from bear, And I\\'ll get away from you, old fox! \"What a wonderful song!\" said the fox. \"But little bun, I have became old now and hard of hearing. Come sit on my snout and sing your song again a little louder.\" The bun jumped up on the fox\\'s snout and sang the same song. \"Thank you, little bun, that was a wonderful song. I\\'d like to hear it again. Come sit on my tongue and sing it for the last time,\" said the fox, sticking out her tongue. The bun foolishly jumped onto her tongue and- snatch!- she ate it.']\n"
     ]
    }
   ],
   "source": [
    "print(ans01)\n",
    "# описание"
   ]
  },
  {
   "cell_type": "code",
   "execution_count": 143,
   "metadata": {},
   "outputs": [
    {
     "name": "stdout",
     "output_type": "stream",
     "text": [
      "['Once', 'there', 'lived', 'an', 'old', 'man', 'and', 'old', 'woman', '.', 'The', 'old', 'man', 'said', ',', '\"', 'Old', 'woman', ',', 'bake', 'me', 'a', 'bun', '.\"', '\"', 'What', 'can', 'I', 'make', 'it', 'from', '?', 'I', 'have', 'no', 'flour', '.\"', '\"', 'Eh', ',', 'eh', ',', 'old', 'woman', '!', 'Scrape', 'the', 'cupboard', ',', 'sweep', 'the', 'flour', 'bin', ',', 'and', 'you', 'will', 'find', 'enough', 'flour', '.\"', 'The', 'old', 'woman', 'picked', 'up', 'a', 'duster', ',', 'scraped', 'the', 'cupboard', ',', 'swept', 'the', 'flour', 'bin', 'and', 'gathered', 'about', 'two', 'handfuls', 'of', 'flour', '.', 'She', 'mixed', 'the', 'dough', 'with', 'sour', 'cream', ',', 'fried', 'it', 'in', 'butter', ',', 'and', 'put', 'the', 'bun', 'on', 'the', 'window', 'sill', 'to', 'cool', '.', 'The', 'bun', 'lay', 'and', 'lay', 'there', '.', 'Suddenly', 'it', 'rolled', 'off', 'the', 'window', 'sill', 'to', 'the', 'bench', ',', 'from', 'the', 'bench', 'to', 'the', 'floor', ',', 'from', 'the', 'floor', 'to', 'the', 'door', '.', 'Then', 'it', 'rolled', 'over', 'the', 'threshold', 'to', 'the', 'entrance', 'hall', ',', 'from', 'the', 'entrance', 'hall', 'to', 'the', 'porch', ',', 'from', 'the', 'porch', 'to', 'the', 'courtyard', ',', 'from', 'the', 'courtyard', 'trough', 'the', 'gate', 'and', 'on', 'and', 'on', '.', 'The', 'bun', 'rolled', 'along', 'the', 'road', 'and', 'met', 'a', 'hare', '.', '\"', 'Little', 'bun', ',', 'little', 'bun', ',', 'I', 'shall', 'eat', 'you', 'up', '!\"', 'said', 'the', 'hare', '.', '\"', 'Don', \"'\", 't', 'eat', 'me', ',', 'slant', '-', 'eyed', 'hare', '!', 'I', 'will', 'sing', 'you', 'a', 'song', ',\"', 'said', 'the', 'bun', ',', 'and', 'sang', ':', 'I', 'was', 'scraped', 'from', 'the', 'cupboard', ',', 'Swept', 'from', 'the', 'bin', ',', 'Kneaded', 'with', 'sour', 'cream', ',', 'Fried', 'in', 'butter', ',', 'And', 'coolled', 'on', 'the', 'sill', '.', 'I', 'got', 'away', 'from', 'Grandpa', ',', 'I', 'got', 'away', 'from', 'Grandma', 'And', 'I', \"'\", 'll', 'get', 'away', 'from', 'you', ',', 'hare', '!', 'And', 'the', 'bun', 'rolled', 'away', 'before', 'the', 'hare', 'even', 'saw', 'it', 'move', '!', 'The', 'bun', 'rolled', 'on', 'and', 'met', 'a', 'wolf', '.', '\"', 'Little', 'bun', ',', 'little', 'bun', ',', 'I', 'shall', 'eat', 'you', 'up', ',\"', 'said', 'the', 'wolf', '.', '\"', 'Don', \"'\", 't', 'eat', 'me', ',', 'gray', 'wolf', '!\"', 'said', 'the', 'bun', '.', '\"', 'I', 'will', 'sing', 'you', 'a', 'song', '.\"', 'And', 'the', 'bun', 'sang', ':', 'I', 'was', 'scraped', 'from', 'the', 'cupboard', ',', 'Swept', 'from', 'the', 'bin', ',', 'Kneaded', 'with', 'sour', 'cream', ',', 'Fried', 'in', 'butter', ',', 'And', 'coolled', 'on', 'the', 'sill', '.', 'I', 'got', 'away', 'from', 'Grandpa', ',', 'I', 'got', 'away', 'from', 'Grandma', 'I', 'got', 'away', 'from', 'the', 'hare', ',', 'And', 'I', \"'\", 'll', 'get', 'away', 'from', 'you', ',', 'gray', 'wolf', '!', 'And', 'the', 'bun', 'rolled', 'away', 'before', 'the', 'wolf', 'even', 'saw', 'it', 'move', '!', 'The', 'bun', 'rolled', 'on', 'and', 'met', 'a', 'bear', '.', '\"', 'Little', 'bun', ',', 'little', 'bun', ',', 'I', 'shall', 'eat', 'you', 'up', ',\"', 'the', 'bear', 'said', '.', '\"', 'You', 'will', 'not', ',', 'pigeon', 'toes', '!\"', 'And', 'the', 'bun', 'sang', ':', 'I', 'was', 'scraped', 'from', 'the', 'cupboard', ',', 'Swept', 'from', 'the', 'bin', ',', 'Kneaded', 'with', 'sour', 'cream', ',', 'Fried', 'in', 'butter', ',', 'And', 'coolled', 'on', 'the', 'sill', '.', 'I', 'got', 'away', 'from', 'Grandpa', ',', 'I', 'got', 'away', 'from', 'Grandma', 'I', 'got', 'away', 'from', 'the', 'hare', ',', 'I', 'got', 'away', 'from', 'the', 'wolf', ',', 'And', 'I', \"'\", 'll', 'get', 'away', 'from', 'you', ',', 'big', 'bear', '!', 'And', 'again', 'the', 'bun', 'rolled', 'away', 'before', 'the', 'bear', 'even', 'saw', 'it', 'move', '!', 'The', 'bun', 'rolled', 'and', 'rolled', 'and', 'met', 'a', 'fox', '.', '\"', 'Hello', ',', 'little', 'bun', ',', 'how', 'nice', 'yor', 'are', '!\"', 'said', 'the', 'fox', '.', 'And', 'the', 'bun', 'sang', ':', 'I', 'was', 'scraped', 'from', 'the', 'cupboard', ',', 'Swept', 'from', 'the', 'bin', ',', 'Kneaded', 'with', 'sour', 'cream', ',', 'Fried', 'in', 'butter', ',', 'And', 'coolled', 'on', 'the', 'sill', '.', 'I', 'got', 'away', 'from', 'Grandpa', ',', 'I', 'got', 'away', 'from', 'Grandma', ',', 'I', 'got', 'away', 'from', 'the', 'hare', ',', 'I', 'got', 'away', 'from', 'the', 'wolf', ',', 'I', 'got', 'away', 'from', 'bear', ',', 'And', 'I', \"'\", 'll', 'get', 'away', 'from', 'you', ',', 'old', 'fox', '!', '\"', 'What', 'a', 'wonderful', 'song', '!\"', 'said', 'the', 'fox', '.', '\"', 'But', 'little', 'bun', ',', 'I', 'have', 'became', 'old', 'now', 'and', 'hard', 'of', 'hearing', '.', 'Come', 'sit', 'on', 'my', 'snout', 'and', 'sing', 'your', 'song', 'again', 'a', 'little', 'louder', '.\"', 'The', 'bun', 'jumped', 'up', 'on', 'the', 'fox', \"'\", 's', 'snout', 'and', 'sang', 'the', 'same', 'song', '.', '\"', 'Thank', 'you', ',', 'little', 'bun', ',', 'that', 'was', 'a', 'wonderful', 'song', '.', 'I', \"'\", 'd', 'like', 'to', 'hear', 'it', 'again', '.', 'Come', 'sit', 'on', 'my', 'tongue', 'and', 'sing', 'it', 'for', 'the', 'last', 'time', ',\"', 'said', 'the', 'fox', ',', 'sticking', 'out', 'her', 'tongue', '.', 'The', 'bun', 'foolishly', 'jumped', 'onto', 'her', 'tongue', 'and', '-', 'snatch', '!-', 'she', 'ate', 'it', '.']\n"
     ]
    }
   ],
   "source": [
    "print(ans02)"
   ]
  },
  {
   "cell_type": "code",
   "execution_count": 144,
   "metadata": {},
   "outputs": [
    {
     "name": "stdout",
     "output_type": "stream",
     "text": [
      "['Once there lived an old man and old woman.The old man said, \"Old woman, bake me a bun.\" \"What can I make it from? I have no flour.\" \"Eh, eh, old woman! Scrape the cupboard, sweep the flour bin, and you will find enough flour.\" The old woman picked up a duster, scraped the cupboard, swept the flour bin and gathered about two handfuls of flour. She mixed the dough with sour cream, fried it in butter, and put the bun on the window sill to cool. The bun lay and lay there. Suddenly it rolled off the window sill to the bench, from the bench to the floor, from the floor to the door. Then it rolled over the threshold to the entrance hall, from the entrance hall to the porch, from the porch to the courtyard, from the courtyard trough the gate and on and on. The bun rolled along the road and met a hare. \"Little bun, little bun, I shall eat you up!\" said the hare. \"Don\\'t eat me, slant-eyed hare! I will sing you a song,\" said the bun, and sang: I was scraped from the cupboard, Swept from the bin, Kneaded with sour cream, Fried in butter, And coolled on the sill. I got away from Grandpa, I got away from Grandma And I\\'ll get away from you, hare! And the bun rolled away before the hare even saw it move! The bun rolled on and met a wolf. \"Little bun, little bun, I shall eat you up,\" said the wolf. \"Don\\'t eat me, gray wolf!\" said the bun. \"I will sing you a song.\" And the bun sang: I was scraped from the cupboard, Swept from the bin, Kneaded with sour cream, Fried in butter, And coolled on the sill. I got away from Grandpa, I got away from Grandma I got away from the hare, And I\\'ll get away from you, gray wolf! And the bun rolled away before the wolf even saw it move! The bun rolled on and met a bear. \"Little bun, little bun, I shall eat you up,\" the bear said. \"You will not, pigeon toes!\" And the bun sang: I was scraped from the cupboard, Swept from the bin, Kneaded with sour cream, Fried in butter, And coolled on the sill. I got away from Grandpa, I got away from Grandma I got away from the hare, I got away from the wolf, And I\\'ll get away from you, big bear! And again the bun rolled away before the bear even saw it move! The bun rolled and rolled and met a fox. \"Hello, little bun, how nice yor are!\" said the fox. And the bun sang: I was scraped from the cupboard, Swept from the bin, Kneaded with sour cream, Fried in butter, And coolled on the sill. I got away from Grandpa, I got away from Grandma, I got away from the hare, I got away from the wolf, I got away from bear, And I\\'ll get away from you, old fox! \"What a wonderful song!\" said the fox. \"But little bun, I have became old now and hard of hearing. Come sit on my snout and sing your song again a little louder.\" The bun jumped up on the fox\\'s snout and sang the same song. \"Thank you, little bun, that was a wonderful song. I\\'d like to hear it again. Come sit on my tongue and sing it for the last time,\" said the fox, sticking out her tongue. The bun foolishly jumped onto her tongue and- snatch!- she ate it.']\n"
     ]
    }
   ],
   "source": [
    "print(ans03)"
   ]
  },
  {
   "cell_type": "code",
   "execution_count": 145,
   "metadata": {},
   "outputs": [
    {
     "name": "stdout",
     "output_type": "stream",
     "text": [
      "['O', 'n', 'c', 'e', ' ', 't', 'h', 'e', 'r', 'e', ' ', 'l', 'i', 'v', 'e', 'd', ' ', 'a', 'n', ' ', 'o', 'l', 'd', ' ', 'm', 'a', 'n', ' ', 'a', 'n', 'd', ' ', 'o', 'l', 'd', ' ', 'w', 'o', 'm', 'a', 'n', '.', 'T', 'h', 'e', ' ', 'o', 'l', 'd', ' ', 'm', 'a', 'n', ' ', 's', 'a', 'i', 'd', ',', ' ', '\"', 'O', 'l', 'd', ' ', 'w', 'o', 'm', 'a', 'n', ',', ' ', 'b', 'a', 'k', 'e', ' ', 'm', 'e', ' ', 'a', ' ', 'b', 'u', 'n', '.', '\"', ' ', '\"', 'W', 'h', 'a', 't', ' ', 'c', 'a', 'n', ' ', 'I', ' ', 'm', 'a', 'k', 'e', ' ', 'i', 't', ' ', 'f', 'r', 'o', 'm', '?', ' ', 'I', ' ', 'h', 'a', 'v', 'e', ' ', 'n', 'o', ' ', 'f', 'l', 'o', 'u', 'r', '.', '\"', ' ', '\"', 'E', 'h', ',', ' ', 'e', 'h', ',', ' ', 'o', 'l', 'd', ' ', 'w', 'o', 'm', 'a', 'n', '!', ' ', 'S', 'c', 'r', 'a', 'p', 'e', ' ', 't', 'h', 'e', ' ', 'c', 'u', 'p', 'b', 'o', 'a', 'r', 'd', ',', ' ', 's', 'w', 'e', 'e', 'p', ' ', 't', 'h', 'e', ' ', 'f', 'l', 'o', 'u', 'r', ' ', 'b', 'i', 'n', ',', ' ', 'a', 'n', 'd', ' ', 'y', 'o', 'u', ' ', 'w', 'i', 'l', 'l', ' ', 'f', 'i', 'n', 'd', ' ', 'e', 'n', 'o', 'u', 'g', 'h', ' ', 'f', 'l', 'o', 'u', 'r', '.', '\"', ' ', 'T', 'h', 'e', ' ', 'o', 'l', 'd', ' ', 'w', 'o', 'm', 'a', 'n', ' ', 'p', 'i', 'c', 'k', 'e', 'd', ' ', 'u', 'p', ' ', 'a', ' ', 'd', 'u', 's', 't', 'e', 'r', ',', ' ', 's', 'c', 'r', 'a', 'p', 'e', 'd', ' ', 't', 'h', 'e', ' ', 'c', 'u', 'p', 'b', 'o', 'a', 'r', 'd', ',', ' ', 's', 'w', 'e', 'p', 't', ' ', 't', 'h', 'e', ' ', 'f', 'l', 'o', 'u', 'r', ' ', 'b', 'i', 'n', ' ', 'a', 'n', 'd', ' ', 'g', 'a', 't', 'h', 'e', 'r', 'e', 'd', ' ', 'a', 'b', 'o', 'u', 't', ' ', 't', 'w', 'o', ' ', 'h', 'a', 'n', 'd', 'f', 'u', 'l', 's', ' ', 'o', 'f', ' ', 'f', 'l', 'o', 'u', 'r', '.', ' ', 'S', 'h', 'e', ' ', 'm', 'i', 'x', 'e', 'd', ' ', 't', 'h', 'e', ' ', 'd', 'o', 'u', 'g', 'h', ' ', 'w', 'i', 't', 'h', ' ', 's', 'o', 'u', 'r', ' ', 'c', 'r', 'e', 'a', 'm', ',', ' ', 'f', 'r', 'i', 'e', 'd', ' ', 'i', 't', ' ', 'i', 'n', ' ', 'b', 'u', 't', 't', 'e', 'r', ',', ' ', 'a', 'n', 'd', ' ', 'p', 'u', 't', ' ', 't', 'h', 'e', ' ', 'b', 'u', 'n', ' ', 'o', 'n', ' ', 't', 'h', 'e', ' ', 'w', 'i', 'n', 'd', 'o', 'w', ' ', 's', 'i', 'l', 'l', ' ', 't', 'o', ' ', 'c', 'o', 'o', 'l', '.', ' ', 'T', 'h', 'e', ' ', 'b', 'u', 'n', ' ', 'l', 'a', 'y', ' ', 'a', 'n', 'd', ' ', 'l', 'a', 'y', ' ', 't', 'h', 'e', 'r', 'e', '.', ' ', 'S', 'u', 'd', 'd', 'e', 'n', 'l', 'y', ' ', 'i', 't', ' ', 'r', 'o', 'l', 'l', 'e', 'd', ' ', 'o', 'f', 'f', ' ', 't', 'h', 'e', ' ', 'w', 'i', 'n', 'd', 'o', 'w', ' ', 's', 'i', 'l', 'l', ' ', 't', 'o', ' ', 't', 'h', 'e', ' ', 'b', 'e', 'n', 'c', 'h', ',', ' ', 'f', 'r', 'o', 'm', ' ', 't', 'h', 'e', ' ', 'b', 'e', 'n', 'c', 'h', ' ', 't', 'o', ' ', 't', 'h', 'e', ' ', 'f', 'l', 'o', 'o', 'r', ',', ' ', 'f', 'r', 'o', 'm', ' ', 't', 'h', 'e', ' ', 'f', 'l', 'o', 'o', 'r', ' ', 't', 'o', ' ', 't', 'h', 'e', ' ', 'd', 'o', 'o', 'r', '.', ' ', 'T', 'h', 'e', 'n', ' ', 'i', 't', ' ', 'r', 'o', 'l', 'l', 'e', 'd', ' ', 'o', 'v', 'e', 'r', ' ', 't', 'h', 'e', ' ', 't', 'h', 'r', 'e', 's', 'h', 'o', 'l', 'd', ' ', 't', 'o', ' ', 't', 'h', 'e', ' ', 'e', 'n', 't', 'r', 'a', 'n', 'c', 'e', ' ', 'h', 'a', 'l', 'l', ',', ' ', 'f', 'r', 'o', 'm', ' ', 't', 'h', 'e', ' ', 'e', 'n', 't', 'r', 'a', 'n', 'c', 'e', ' ', 'h', 'a', 'l', 'l', ' ', 't', 'o', ' ', 't', 'h', 'e', ' ', 'p', 'o', 'r', 'c', 'h', ',', ' ', 'f', 'r', 'o', 'm', ' ', 't', 'h', 'e', ' ', 'p', 'o', 'r', 'c', 'h', ' ', 't', 'o', ' ', 't', 'h', 'e', ' ', 'c', 'o', 'u', 'r', 't', 'y', 'a', 'r', 'd', ',', ' ', 'f', 'r', 'o', 'm', ' ', 't', 'h', 'e', ' ', 'c', 'o', 'u', 'r', 't', 'y', 'a', 'r', 'd', ' ', 't', 'r', 'o', 'u', 'g', 'h', ' ', 't', 'h', 'e', ' ', 'g', 'a', 't', 'e', ' ', 'a', 'n', 'd', ' ', 'o', 'n', ' ', 'a', 'n', 'd', ' ', 'o', 'n', '.', ' ', 'T', 'h', 'e', ' ', 'b', 'u', 'n', ' ', 'r', 'o', 'l', 'l', 'e', 'd', ' ', 'a', 'l', 'o', 'n', 'g', ' ', 't', 'h', 'e', ' ', 'r', 'o', 'a', 'd', ' ', 'a', 'n', 'd', ' ', 'm', 'e', 't', ' ', 'a', ' ', 'h', 'a', 'r', 'e', '.', ' ', '\"', 'L', 'i', 't', 't', 'l', 'e', ' ', 'b', 'u', 'n', ',', ' ', 'l', 'i', 't', 't', 'l', 'e', ' ', 'b', 'u', 'n', ',', ' ', 'I', ' ', 's', 'h', 'a', 'l', 'l', ' ', 'e', 'a', 't', ' ', 'y', 'o', 'u', ' ', 'u', 'p', '!', '\"', ' ', 's', 'a', 'i', 'd', ' ', 't', 'h', 'e', ' ', 'h', 'a', 'r', 'e', '.', ' ', '\"', 'D', 'o', 'n', \"'\", 't', ' ', 'e', 'a', 't', ' ', 'm', 'e', ',', ' ', 's', 'l', 'a', 'n', 't', '-', 'e', 'y', 'e', 'd', ' ', 'h', 'a', 'r', 'e', '!', ' ', 'I', ' ', 'w', 'i', 'l', 'l', ' ', 's', 'i', 'n', 'g', ' ', 'y', 'o', 'u', ' ', 'a', ' ', 's', 'o', 'n', 'g', ',', '\"', ' ', 's', 'a', 'i', 'd', ' ', 't', 'h', 'e', ' ', 'b', 'u', 'n', ',', ' ', 'a', 'n', 'd', ' ', 's', 'a', 'n', 'g', ':', ' ', 'I', ' ', 'w', 'a', 's', ' ', 's', 'c', 'r', 'a', 'p', 'e', 'd', ' ', 'f', 'r', 'o', 'm', ' ', 't', 'h', 'e', ' ', 'c', 'u', 'p', 'b', 'o', 'a', 'r', 'd', ',', ' ', 'S', 'w', 'e', 'p', 't', ' ', 'f', 'r', 'o', 'm', ' ', 't', 'h', 'e', ' ', 'b', 'i', 'n', ',', ' ', 'K', 'n', 'e', 'a', 'd', 'e', 'd', ' ', 'w', 'i', 't', 'h', ' ', 's', 'o', 'u', 'r', ' ', 'c', 'r', 'e', 'a', 'm', ',', ' ', 'F', 'r', 'i', 'e', 'd', ' ', 'i', 'n', ' ', 'b', 'u', 't', 't', 'e', 'r', ',', ' ', 'A', 'n', 'd', ' ', 'c', 'o', 'o', 'l', 'l', 'e', 'd', ' ', 'o', 'n', ' ', 't', 'h', 'e', ' ', 's', 'i', 'l', 'l', '.', ' ', 'I', ' ', 'g', 'o', 't', ' ', 'a', 'w', 'a', 'y', ' ', 'f', 'r', 'o', 'm', ' ', 'G', 'r', 'a', 'n', 'd', 'p', 'a', ',', ' ', 'I', ' ', 'g', 'o', 't', ' ', 'a', 'w', 'a', 'y', ' ', 'f', 'r', 'o', 'm', ' ', 'G', 'r', 'a', 'n', 'd', 'm', 'a', ' ', 'A', 'n', 'd', ' ', 'I', \"'\", 'l', 'l', ' ', 'g', 'e', 't', ' ', 'a', 'w', 'a', 'y', ' ', 'f', 'r', 'o', 'm', ' ', 'y', 'o', 'u', ',', ' ', 'h', 'a', 'r', 'e', '!', ' ', 'A', 'n', 'd', ' ', 't', 'h', 'e', ' ', 'b', 'u', 'n', ' ', 'r', 'o', 'l', 'l', 'e', 'd', ' ', 'a', 'w', 'a', 'y', ' ', 'b', 'e', 'f', 'o', 'r', 'e', ' ', 't', 'h', 'e', ' ', 'h', 'a', 'r', 'e', ' ', 'e', 'v', 'e', 'n', ' ', 's', 'a', 'w', ' ', 'i', 't', ' ', 'm', 'o', 'v', 'e', '!', ' ', 'T', 'h', 'e', ' ', 'b', 'u', 'n', ' ', 'r', 'o', 'l', 'l', 'e', 'd', ' ', 'o', 'n', ' ', 'a', 'n', 'd', ' ', 'm', 'e', 't', ' ', 'a', ' ', 'w', 'o', 'l', 'f', '.', ' ', '\"', 'L', 'i', 't', 't', 'l', 'e', ' ', 'b', 'u', 'n', ',', ' ', 'l', 'i', 't', 't', 'l', 'e', ' ', 'b', 'u', 'n', ',', ' ', 'I', ' ', 's', 'h', 'a', 'l', 'l', ' ', 'e', 'a', 't', ' ', 'y', 'o', 'u', ' ', 'u', 'p', ',', '\"', ' ', 's', 'a', 'i', 'd', ' ', 't', 'h', 'e', ' ', 'w', 'o', 'l', 'f', '.', ' ', '\"', 'D', 'o', 'n', \"'\", 't', ' ', 'e', 'a', 't', ' ', 'm', 'e', ',', ' ', 'g', 'r', 'a', 'y', ' ', 'w', 'o', 'l', 'f', '!', '\"', ' ', 's', 'a', 'i', 'd', ' ', 't', 'h', 'e', ' ', 'b', 'u', 'n', '.', ' ', '\"', 'I', ' ', 'w', 'i', 'l', 'l', ' ', 's', 'i', 'n', 'g', ' ', 'y', 'o', 'u', ' ', 'a', ' ', 's', 'o', 'n', 'g', '.', '\"', ' ', 'A', 'n', 'd', ' ', 't', 'h', 'e', ' ', 'b', 'u', 'n', ' ', 's', 'a', 'n', 'g', ':', ' ', 'I', ' ', 'w', 'a', 's', ' ', 's', 'c', 'r', 'a', 'p', 'e', 'd', ' ', 'f', 'r', 'o', 'm', ' ', 't', 'h', 'e', ' ', 'c', 'u', 'p', 'b', 'o', 'a', 'r', 'd', ',', ' ', 'S', 'w', 'e', 'p', 't', ' ', 'f', 'r', 'o', 'm', ' ', 't', 'h', 'e', ' ', 'b', 'i', 'n', ',', ' ', 'K', 'n', 'e', 'a', 'd', 'e', 'd', ' ', 'w', 'i', 't', 'h', ' ', 's', 'o', 'u', 'r', ' ', 'c', 'r', 'e', 'a', 'm', ',', ' ', 'F', 'r', 'i', 'e', 'd', ' ', 'i', 'n', ' ', 'b', 'u', 't', 't', 'e', 'r', ',', ' ', 'A', 'n', 'd', ' ', 'c', 'o', 'o', 'l', 'l', 'e', 'd', ' ', 'o', 'n', ' ', 't', 'h', 'e', ' ', 's', 'i', 'l', 'l', '.', ' ', 'I', ' ', 'g', 'o', 't', ' ', 'a', 'w', 'a', 'y', ' ', 'f', 'r', 'o', 'm', ' ', 'G', 'r', 'a', 'n', 'd', 'p', 'a', ',', ' ', 'I', ' ', 'g', 'o', 't', ' ', 'a', 'w', 'a', 'y', ' ', 'f', 'r', 'o', 'm', ' ', 'G', 'r', 'a', 'n', 'd', 'm', 'a', ' ', 'I', ' ', 'g', 'o', 't', ' ', 'a', 'w', 'a', 'y', ' ', 'f', 'r', 'o', 'm', ' ', 't', 'h', 'e', ' ', 'h', 'a', 'r', 'e', ',', ' ', 'A', 'n', 'd', ' ', 'I', \"'\", 'l', 'l', ' ', 'g', 'e', 't', ' ', 'a', 'w', 'a', 'y', ' ', 'f', 'r', 'o', 'm', ' ', 'y', 'o', 'u', ',', ' ', 'g', 'r', 'a', 'y', ' ', 'w', 'o', 'l', 'f', '!', ' ', 'A', 'n', 'd', ' ', 't', 'h', 'e', ' ', 'b', 'u', 'n', ' ', 'r', 'o', 'l', 'l', 'e', 'd', ' ', 'a', 'w', 'a', 'y', ' ', 'b', 'e', 'f', 'o', 'r', 'e', ' ', 't', 'h', 'e', ' ', 'w', 'o', 'l', 'f', ' ', 'e', 'v', 'e', 'n', ' ', 's', 'a', 'w', ' ', 'i', 't', ' ', 'm', 'o', 'v', 'e', '!', ' ', 'T', 'h', 'e', ' ', 'b', 'u', 'n', ' ', 'r', 'o', 'l', 'l', 'e', 'd', ' ', 'o', 'n', ' ', 'a', 'n', 'd', ' ', 'm', 'e', 't', ' ', 'a', ' ', 'b', 'e', 'a', 'r', '.', ' ', '\"', 'L', 'i', 't', 't', 'l', 'e', ' ', 'b', 'u', 'n', ',', ' ', 'l', 'i', 't', 't', 'l', 'e', ' ', 'b', 'u', 'n', ',', ' ', 'I', ' ', 's', 'h', 'a', 'l', 'l', ' ', 'e', 'a', 't', ' ', 'y', 'o', 'u', ' ', 'u', 'p', ',', '\"', ' ', 't', 'h', 'e', ' ', 'b', 'e', 'a', 'r', ' ', 's', 'a', 'i', 'd', '.', ' ', '\"', 'Y', 'o', 'u', ' ', 'w', 'i', 'l', 'l', ' ', 'n', 'o', 't', ',', ' ', 'p', 'i', 'g', 'e', 'o', 'n', ' ', 't', 'o', 'e', 's', '!', '\"', ' ', 'A', 'n', 'd', ' ', 't', 'h', 'e', ' ', 'b', 'u', 'n', ' ', 's', 'a', 'n', 'g', ':', ' ', 'I', ' ', 'w', 'a', 's', ' ', 's', 'c', 'r', 'a', 'p', 'e', 'd', ' ', 'f', 'r', 'o', 'm', ' ', 't', 'h', 'e', ' ', 'c', 'u', 'p', 'b', 'o', 'a', 'r', 'd', ',', ' ', 'S', 'w', 'e', 'p', 't', ' ', 'f', 'r', 'o', 'm', ' ', 't', 'h', 'e', ' ', 'b', 'i', 'n', ',', ' ', 'K', 'n', 'e', 'a', 'd', 'e', 'd', ' ', 'w', 'i', 't', 'h', ' ', 's', 'o', 'u', 'r', ' ', 'c', 'r', 'e', 'a', 'm', ',', ' ', 'F', 'r', 'i', 'e', 'd', ' ', 'i', 'n', ' ', 'b', 'u', 't', 't', 'e', 'r', ',', ' ', 'A', 'n', 'd', ' ', 'c', 'o', 'o', 'l', 'l', 'e', 'd', ' ', 'o', 'n', ' ', 't', 'h', 'e', ' ', 's', 'i', 'l', 'l', '.', ' ', 'I', ' ', 'g', 'o', 't', ' ', 'a', 'w', 'a', 'y', ' ', 'f', 'r', 'o', 'm', ' ', 'G', 'r', 'a', 'n', 'd', 'p', 'a', ',', ' ', 'I', ' ', 'g', 'o', 't', ' ', 'a', 'w', 'a', 'y', ' ', 'f', 'r', 'o', 'm', ' ', 'G', 'r', 'a', 'n', 'd', 'm', 'a', ' ', 'I', ' ', 'g', 'o', 't', ' ', 'a', 'w', 'a', 'y', ' ', 'f', 'r', 'o', 'm', ' ', 't', 'h', 'e', ' ', 'h', 'a', 'r', 'e', ',', ' ', 'I', ' ', 'g', 'o', 't', ' ', 'a', 'w', 'a', 'y', ' ', 'f', 'r', 'o', 'm', ' ', 't', 'h', 'e', ' ', 'w', 'o', 'l', 'f', ',', ' ', 'A', 'n', 'd', ' ', 'I', \"'\", 'l', 'l', ' ', 'g', 'e', 't', ' ', 'a', 'w', 'a', 'y', ' ', 'f', 'r', 'o', 'm', ' ', 'y', 'o', 'u', ',', ' ', 'b', 'i', 'g', ' ', 'b', 'e', 'a', 'r', '!', ' ', 'A', 'n', 'd', ' ', 'a', 'g', 'a', 'i', 'n', ' ', 't', 'h', 'e', ' ', 'b', 'u', 'n', ' ', 'r', 'o', 'l', 'l', 'e', 'd', ' ', 'a', 'w', 'a', 'y', ' ', 'b', 'e', 'f', 'o', 'r', 'e', ' ', 't', 'h', 'e', ' ', 'b', 'e', 'a', 'r', ' ', 'e', 'v', 'e', 'n', ' ', 's', 'a', 'w', ' ', 'i', 't', ' ', 'm', 'o', 'v', 'e', '!', ' ', 'T', 'h', 'e', ' ', 'b', 'u', 'n', ' ', 'r', 'o', 'l', 'l', 'e', 'd', ' ', 'a', 'n', 'd', ' ', 'r', 'o', 'l', 'l', 'e', 'd', ' ', 'a', 'n', 'd', ' ', 'm', 'e', 't', ' ', 'a', ' ', 'f', 'o', 'x', '.', ' ', '\"', 'H', 'e', 'l', 'l', 'o', ',', ' ', 'l', 'i', 't', 't', 'l', 'e', ' ', 'b', 'u', 'n', ',', ' ', 'h', 'o', 'w', ' ', 'n', 'i', 'c', 'e', ' ', 'y', 'o', 'r', ' ', 'a', 'r', 'e', '!', '\"', ' ', 's', 'a', 'i', 'd', ' ', 't', 'h', 'e', ' ', 'f', 'o', 'x', '.', ' ', 'A', 'n', 'd', ' ', 't', 'h', 'e', ' ', 'b', 'u', 'n', ' ', 's', 'a', 'n', 'g', ':', ' ', 'I', ' ', 'w', 'a', 's', ' ', 's', 'c', 'r', 'a', 'p', 'e', 'd', ' ', 'f', 'r', 'o', 'm', ' ', 't', 'h', 'e', ' ', 'c', 'u', 'p', 'b', 'o', 'a', 'r', 'd', ',', ' ', 'S', 'w', 'e', 'p', 't', ' ', 'f', 'r', 'o', 'm', ' ', 't', 'h', 'e', ' ', 'b', 'i', 'n', ',', ' ', 'K', 'n', 'e', 'a', 'd', 'e', 'd', ' ', 'w', 'i', 't', 'h', ' ', 's', 'o', 'u', 'r', ' ', 'c', 'r', 'e', 'a', 'm', ',', ' ', 'F', 'r', 'i', 'e', 'd', ' ', 'i', 'n', ' ', 'b', 'u', 't', 't', 'e', 'r', ',', ' ', 'A', 'n', 'd', ' ', 'c', 'o', 'o', 'l', 'l', 'e', 'd', ' ', 'o', 'n', ' ', 't', 'h', 'e', ' ', 's', 'i', 'l', 'l', '.', ' ', 'I', ' ', 'g', 'o', 't', ' ', 'a', 'w', 'a', 'y', ' ', 'f', 'r', 'o', 'm', ' ', 'G', 'r', 'a', 'n', 'd', 'p', 'a', ',', ' ', 'I', ' ', 'g', 'o', 't', ' ', 'a', 'w', 'a', 'y', ' ', 'f', 'r', 'o', 'm', ' ', 'G', 'r', 'a', 'n', 'd', 'm', 'a', ',', ' ', 'I', ' ', 'g', 'o', 't', ' ', 'a', 'w', 'a', 'y', ' ', 'f', 'r', 'o', 'm', ' ', 't', 'h', 'e', ' ', 'h', 'a', 'r', 'e', ',', ' ', 'I', ' ', 'g', 'o', 't', ' ', 'a', 'w', 'a', 'y', ' ', 'f', 'r', 'o', 'm', ' ', 't', 'h', 'e', ' ', 'w', 'o', 'l', 'f', ',', ' ', 'I', ' ', 'g', 'o', 't', ' ', 'a', 'w', 'a', 'y', ' ', 'f', 'r', 'o', 'm', ' ', 'b', 'e', 'a', 'r', ',', ' ', 'A', 'n', 'd', ' ', 'I', \"'\", 'l', 'l', ' ', 'g', 'e', 't', ' ', 'a', 'w', 'a', 'y', ' ', 'f', 'r', 'o', 'm', ' ', 'y', 'o', 'u', ',', ' ', 'o', 'l', 'd', ' ', 'f', 'o', 'x', '!', ' ', '\"', 'W', 'h', 'a', 't', ' ', 'a', ' ', 'w', 'o', 'n', 'd', 'e', 'r', 'f', 'u', 'l', ' ', 's', 'o', 'n', 'g', '!', '\"', ' ', 's', 'a', 'i', 'd', ' ', 't', 'h', 'e', ' ', 'f', 'o', 'x', '.', ' ', '\"', 'B', 'u', 't', ' ', 'l', 'i', 't', 't', 'l', 'e', ' ', 'b', 'u', 'n', ',', ' ', 'I', ' ', 'h', 'a', 'v', 'e', ' ', 'b', 'e', 'c', 'a', 'm', 'e', ' ', 'o', 'l', 'd', ' ', 'n', 'o', 'w', ' ', 'a', 'n', 'd', ' ', 'h', 'a', 'r', 'd', ' ', 'o', 'f', ' ', 'h', 'e', 'a', 'r', 'i', 'n', 'g', '.', ' ', 'C', 'o', 'm', 'e', ' ', 's', 'i', 't', ' ', 'o', 'n', ' ', 'm', 'y', ' ', 's', 'n', 'o', 'u', 't', ' ', 'a', 'n', 'd', ' ', 's', 'i', 'n', 'g', ' ', 'y', 'o', 'u', 'r', ' ', 's', 'o', 'n', 'g', ' ', 'a', 'g', 'a', 'i', 'n', ' ', 'a', ' ', 'l', 'i', 't', 't', 'l', 'e', ' ', 'l', 'o', 'u', 'd', 'e', 'r', '.', '\"', ' ', 'T', 'h', 'e', ' ', 'b', 'u', 'n', ' ', 'j', 'u', 'm', 'p', 'e', 'd', ' ', 'u', 'p', ' ', 'o', 'n', ' ', 't', 'h', 'e', ' ', 'f', 'o', 'x', \"'\", 's', ' ', 's', 'n', 'o', 'u', 't', ' ', 'a', 'n', 'd', ' ', 's', 'a', 'n', 'g', ' ', 't', 'h', 'e', ' ', 's', 'a', 'm', 'e', ' ', 's', 'o', 'n', 'g', '.', ' ', '\"', 'T', 'h', 'a', 'n', 'k', ' ', 'y', 'o', 'u', ',', ' ', 'l', 'i', 't', 't', 'l', 'e', ' ', 'b', 'u', 'n', ',', ' ', 't', 'h', 'a', 't', ' ', 'w', 'a', 's', ' ', 'a', ' ', 'w', 'o', 'n', 'd', 'e', 'r', 'f', 'u', 'l', ' ', 's', 'o', 'n', 'g', '.', ' ', 'I', \"'\", 'd', ' ', 'l', 'i', 'k', 'e', ' ', 't', 'o', ' ', 'h', 'e', 'a', 'r', ' ', 'i', 't', ' ', 'a', 'g', 'a', 'i', 'n', '.', ' ', 'C', 'o', 'm', 'e', ' ', 's', 'i', 't', ' ', 'o', 'n', ' ', 'm', 'y', ' ', 't', 'o', 'n', 'g', 'u', 'e', ' ', 'a', 'n', 'd', ' ', 's', 'i', 'n', 'g', ' ', 'i', 't', ' ', 'f', 'o', 'r', ' ', 't', 'h', 'e', ' ', 'l', 'a', 's', 't', ' ', 't', 'i', 'm', 'e', ',', '\"', ' ', 's', 'a', 'i', 'd', ' ', 't', 'h', 'e', ' ', 'f', 'o', 'x', ',', ' ', 's', 't', 'i', 'c', 'k', 'i', 'n', 'g', ' ', 'o', 'u', 't', ' ', 'h', 'e', 'r', ' ', 't', 'o', 'n', 'g', 'u', 'e', '.', ' ', 'T', 'h', 'e', ' ', 'b', 'u', 'n', ' ', 'f', 'o', 'o', 'l', 'i', 's', 'h', 'l', 'y', ' ', 'j', 'u', 'm', 'p', 'e', 'd', ' ', 'o', 'n', 't', 'o', ' ', 'h', 'e', 'r', ' ', 't', 'o', 'n', 'g', 'u', 'e', ' ', 'a', 'n', 'd', '-', ' ', 's', 'n', 'a', 't', 'c', 'h', '!', '-', ' ', 's', 'h', 'e', ' ', 'a', 't', 'e', ' ', 'i', 't', '.', '\\n', '\\n']\n"
     ]
    }
   ],
   "source": [
    "print(ans04)"
   ]
  },
  {
   "cell_type": "code",
   "execution_count": 146,
   "metadata": {},
   "outputs": [
    {
     "name": "stdout",
     "output_type": "stream",
     "text": [
      "['Once', 'there', 'lived', 'an', 'old', 'man', 'and', 'old', 'woman.The', 'old', 'man', 'said', ',', '``', 'Old', 'woman', ',', 'bake', 'me', 'a', 'bun.', \"''\", '``', 'What', 'can', 'I', 'make', 'it', 'from', '?', 'I', 'have', 'no', 'flour.', \"''\", '``', 'Eh', ',', 'eh', ',', 'old', 'woman', '!', 'Scrape', 'the', 'cupboard', ',', 'sweep', 'the', 'flour', 'bin', ',', 'and', 'you', 'will', 'find', 'enough', 'flour.', \"''\", 'The', 'old', 'woman', 'picked', 'up', 'a', 'duster', ',', 'scraped', 'the', 'cupboard', ',', 'swept', 'the', 'flour', 'bin', 'and', 'gathered', 'about', 'two', 'handfuls', 'of', 'flour.', 'She', 'mixed', 'the', 'dough', 'with', 'sour', 'cream', ',', 'fried', 'it', 'in', 'butter', ',', 'and', 'put', 'the', 'bun', 'on', 'the', 'window', 'sill', 'to', 'cool.', 'The', 'bun', 'lay', 'and', 'lay', 'there.', 'Suddenly', 'it', 'rolled', 'off', 'the', 'window', 'sill', 'to', 'the', 'bench', ',', 'from', 'the', 'bench', 'to', 'the', 'floor', ',', 'from', 'the', 'floor', 'to', 'the', 'door.', 'Then', 'it', 'rolled', 'over', 'the', 'threshold', 'to', 'the', 'entrance', 'hall', ',', 'from', 'the', 'entrance', 'hall', 'to', 'the', 'porch', ',', 'from', 'the', 'porch', 'to', 'the', 'courtyard', ',', 'from', 'the', 'courtyard', 'trough', 'the', 'gate', 'and', 'on', 'and', 'on.', 'The', 'bun', 'rolled', 'along', 'the', 'road', 'and', 'met', 'a', 'hare.', '``', 'Little', 'bun', ',', 'little', 'bun', ',', 'I', 'shall', 'eat', 'you', 'up', '!', \"''\", 'said', 'the', 'hare.', '``', 'Do', \"n't\", 'eat', 'me', ',', 'slant-eyed', 'hare', '!', 'I', 'will', 'sing', 'you', 'a', 'song', ',', \"''\", 'said', 'the', 'bun', ',', 'and', 'sang', ':', 'I', 'was', 'scraped', 'from', 'the', 'cupboard', ',', 'Swept', 'from', 'the', 'bin', ',', 'Kneaded', 'with', 'sour', 'cream', ',', 'Fried', 'in', 'butter', ',', 'And', 'coolled', 'on', 'the', 'sill.', 'I', 'got', 'away', 'from', 'Grandpa', ',', 'I', 'got', 'away', 'from', 'Grandma', 'And', 'I', \"'ll\", 'get', 'away', 'from', 'you', ',', 'hare', '!', 'And', 'the', 'bun', 'rolled', 'away', 'before', 'the', 'hare', 'even', 'saw', 'it', 'move', '!', 'The', 'bun', 'rolled', 'on', 'and', 'met', 'a', 'wolf.', '``', 'Little', 'bun', ',', 'little', 'bun', ',', 'I', 'shall', 'eat', 'you', 'up', ',', \"''\", 'said', 'the', 'wolf.', '``', 'Do', \"n't\", 'eat', 'me', ',', 'gray', 'wolf', '!', \"''\", 'said', 'the', 'bun.', '``', 'I', 'will', 'sing', 'you', 'a', 'song.', \"''\", 'And', 'the', 'bun', 'sang', ':', 'I', 'was', 'scraped', 'from', 'the', 'cupboard', ',', 'Swept', 'from', 'the', 'bin', ',', 'Kneaded', 'with', 'sour', 'cream', ',', 'Fried', 'in', 'butter', ',', 'And', 'coolled', 'on', 'the', 'sill.', 'I', 'got', 'away', 'from', 'Grandpa', ',', 'I', 'got', 'away', 'from', 'Grandma', 'I', 'got', 'away', 'from', 'the', 'hare', ',', 'And', 'I', \"'ll\", 'get', 'away', 'from', 'you', ',', 'gray', 'wolf', '!', 'And', 'the', 'bun', 'rolled', 'away', 'before', 'the', 'wolf', 'even', 'saw', 'it', 'move', '!', 'The', 'bun', 'rolled', 'on', 'and', 'met', 'a', 'bear.', '``', 'Little', 'bun', ',', 'little', 'bun', ',', 'I', 'shall', 'eat', 'you', 'up', ',', \"''\", 'the', 'bear', 'said.', '``', 'You', 'will', 'not', ',', 'pigeon', 'toes', '!', \"''\", 'And', 'the', 'bun', 'sang', ':', 'I', 'was', 'scraped', 'from', 'the', 'cupboard', ',', 'Swept', 'from', 'the', 'bin', ',', 'Kneaded', 'with', 'sour', 'cream', ',', 'Fried', 'in', 'butter', ',', 'And', 'coolled', 'on', 'the', 'sill.', 'I', 'got', 'away', 'from', 'Grandpa', ',', 'I', 'got', 'away', 'from', 'Grandma', 'I', 'got', 'away', 'from', 'the', 'hare', ',', 'I', 'got', 'away', 'from', 'the', 'wolf', ',', 'And', 'I', \"'ll\", 'get', 'away', 'from', 'you', ',', 'big', 'bear', '!', 'And', 'again', 'the', 'bun', 'rolled', 'away', 'before', 'the', 'bear', 'even', 'saw', 'it', 'move', '!', 'The', 'bun', 'rolled', 'and', 'rolled', 'and', 'met', 'a', 'fox.', '``', 'Hello', ',', 'little', 'bun', ',', 'how', 'nice', 'yor', 'are', '!', \"''\", 'said', 'the', 'fox.', 'And', 'the', 'bun', 'sang', ':', 'I', 'was', 'scraped', 'from', 'the', 'cupboard', ',', 'Swept', 'from', 'the', 'bin', ',', 'Kneaded', 'with', 'sour', 'cream', ',', 'Fried', 'in', 'butter', ',', 'And', 'coolled', 'on', 'the', 'sill.', 'I', 'got', 'away', 'from', 'Grandpa', ',', 'I', 'got', 'away', 'from', 'Grandma', ',', 'I', 'got', 'away', 'from', 'the', 'hare', ',', 'I', 'got', 'away', 'from', 'the', 'wolf', ',', 'I', 'got', 'away', 'from', 'bear', ',', 'And', 'I', \"'ll\", 'get', 'away', 'from', 'you', ',', 'old', 'fox', '!', '``', 'What', 'a', 'wonderful', 'song', '!', \"''\", 'said', 'the', 'fox.', '``', 'But', 'little', 'bun', ',', 'I', 'have', 'became', 'old', 'now', 'and', 'hard', 'of', 'hearing.', 'Come', 'sit', 'on', 'my', 'snout', 'and', 'sing', 'your', 'song', 'again', 'a', 'little', 'louder.', \"''\", 'The', 'bun', 'jumped', 'up', 'on', 'the', 'fox', \"'s\", 'snout', 'and', 'sang', 'the', 'same', 'song.', '``', 'Thank', 'you', ',', 'little', 'bun', ',', 'that', 'was', 'a', 'wonderful', 'song.', 'I', \"'d\", 'like', 'to', 'hear', 'it', 'again.', 'Come', 'sit', 'on', 'my', 'tongue', 'and', 'sing', 'it', 'for', 'the', 'last', 'time', ',', \"''\", 'said', 'the', 'fox', ',', 'sticking', 'out', 'her', 'tongue.', 'The', 'bun', 'foolishly', 'jumped', 'onto', 'her', 'tongue', 'and-', 'snatch', '!', '-', 'she', 'ate', 'it', '.']\n"
     ]
    }
   ],
   "source": [
    "print(ans05)"
   ]
  },
  {
   "cell_type": "code",
   "execution_count": 147,
   "metadata": {},
   "outputs": [
    {
     "name": "stdout",
     "output_type": "stream",
     "text": [
      "['Once there lived an old man and old woman.The old man said, \"Old woman, bake me a bun.\"', '\"What can I make it from?', 'I have no flour.\"', '\"Eh, eh, old woman!', 'Scrape the cupboard, sweep the flour bin, and you will find enough flour.\"', 'The old woman picked up a duster, scraped the cupboard, swept the flour bin and gathered about two handfuls of flour.', 'She mixed the dough with sour cream, fried it in butter, and put the bun on the window sill to cool.', 'The bun lay and lay there.', 'Suddenly it rolled off the window sill to the bench, from the bench to the floor, from the floor to the door.', 'Then it rolled over the threshold to the entrance hall, from the entrance hall to the porch, from the porch to the courtyard, from the courtyard trough the gate and on and on.', 'The bun rolled along the road and met a hare.', '\"Little bun, little bun, I shall eat you up!\"', 'said the hare.', '\"Don\\'t eat me, slant-eyed hare!', 'I will sing you a song,\" said the bun, and sang: I was scraped from the cupboard, Swept from the bin, Kneaded with sour cream, Fried in butter, And coolled on the sill.', \"I got away from Grandpa, I got away from Grandma And I'll get away from you, hare!\", 'And the bun rolled away before the hare even saw it move!', 'The bun rolled on and met a wolf.', '\"Little bun, little bun, I shall eat you up,\" said the wolf.', '\"Don\\'t eat me, gray wolf!\"', 'said the bun.', '\"I will sing you a song.\"', 'And the bun sang: I was scraped from the cupboard, Swept from the bin, Kneaded with sour cream, Fried in butter, And coolled on the sill.', \"I got away from Grandpa, I got away from Grandma I got away from the hare, And I'll get away from you, gray wolf!\", 'And the bun rolled away before the wolf even saw it move!', 'The bun rolled on and met a bear.', '\"Little bun, little bun, I shall eat you up,\" the bear said.', '\"You will not, pigeon toes!\"', 'And the bun sang: I was scraped from the cupboard, Swept from the bin, Kneaded with sour cream, Fried in butter, And coolled on the sill.', \"I got away from Grandpa, I got away from Grandma I got away from the hare, I got away from the wolf, And I'll get away from you, big bear!\", 'And again the bun rolled away before the bear even saw it move!', 'The bun rolled and rolled and met a fox.', '\"Hello, little bun, how nice yor are!\"', 'said the fox.', 'And the bun sang: I was scraped from the cupboard, Swept from the bin, Kneaded with sour cream, Fried in butter, And coolled on the sill.', \"I got away from Grandpa, I got away from Grandma, I got away from the hare, I got away from the wolf, I got away from bear, And I'll get away from you, old fox!\", '\"What a wonderful song!\"', 'said the fox.', '\"But little bun, I have became old now and hard of hearing.', 'Come sit on my snout and sing your song again a little louder.\"', \"The bun jumped up on the fox's snout and sang the same song.\", '\"Thank you, little bun, that was a wonderful song.', \"I'd like to hear it again.\", 'Come sit on my tongue and sing it for the last time,\" said the fox, sticking out her tongue.', 'The bun foolishly jumped onto her tongue and- snatch!- she ate it.']\n"
     ]
    }
   ],
   "source": [
    "print(ans06)"
   ]
  },
  {
   "cell_type": "code",
   "execution_count": 148,
   "metadata": {},
   "outputs": [
    {
     "name": "stdout",
     "output_type": "stream",
     "text": [
      "['O', 'n', 'c', 'e', 't', 'h', 'e', 'r', 'e', 'l', 'i', 'v', 'e', 'd', 'a', 'n', 'o', 'l', 'd', 'm', 'a', 'n', 'a', 'n', 'd', 'o', 'l', 'd', 'w', 'o', 'm', 'a', 'n', 'T', 'h', 'e', 'o', 'l', 'd', 'm', 'a', 'n', 's', 'a', 'i', 'd', 'O', 'l', 'd', 'w', 'o', 'm', 'a', 'n', 'b', 'a', 'k', 'e', 'm', 'e', 'a', 'b', 'u', 'n', 'W', 'h', 'a', 't', 'c', 'a', 'n', 'I', 'm', 'a', 'k', 'e', 'i', 't', 'f', 'r', 'o', 'm', 'I', 'h', 'a', 'v', 'e', 'n', 'o', 'f', 'l', 'o', 'u', 'r', 'E', 'h', 'e', 'h', 'o', 'l', 'd', 'w', 'o', 'm', 'a', 'n', 'S', 'c', 'r', 'a', 'p', 'e', 't', 'h', 'e', 'c', 'u', 'p', 'b', 'o', 'a', 'r', 'd', 's', 'w', 'e', 'e', 'p', 't', 'h', 'e', 'f', 'l', 'o', 'u', 'r', 'b', 'i', 'n', 'a', 'n', 'd', 'y', 'o', 'u', 'w', 'i', 'l', 'l', 'f', 'i', 'n', 'd', 'e', 'n', 'o', 'u', 'g', 'h', 'f', 'l', 'o', 'u', 'r', 'T', 'h', 'e', 'o', 'l', 'd', 'w', 'o', 'm', 'a', 'n', 'p', 'i', 'c', 'k', 'e', 'd', 'u', 'p', 'a', 'd', 'u', 's', 't', 'e', 'r', 's', 'c', 'r', 'a', 'p', 'e', 'd', 't', 'h', 'e', 'c', 'u', 'p', 'b', 'o', 'a', 'r', 'd', 's', 'w', 'e', 'p', 't', 't', 'h', 'e', 'f', 'l', 'o', 'u', 'r', 'b', 'i', 'n', 'a', 'n', 'd', 'g', 'a', 't', 'h', 'e', 'r', 'e', 'd', 'a', 'b', 'o', 'u', 't', 't', 'w', 'o', 'h', 'a', 'n', 'd', 'f', 'u', 'l', 's', 'o', 'f', 'f', 'l', 'o', 'u', 'r', 'S', 'h', 'e', 'm', 'i', 'x', 'e', 'd', 't', 'h', 'e', 'd', 'o', 'u', 'g', 'h', 'w', 'i', 't', 'h', 's', 'o', 'u', 'r', 'c', 'r', 'e', 'a', 'm', 'f', 'r', 'i', 'e', 'd', 'i', 't', 'i', 'n', 'b', 'u', 't', 't', 'e', 'r', 'a', 'n', 'd', 'p', 'u', 't', 't', 'h', 'e', 'b', 'u', 'n', 'o', 'n', 't', 'h', 'e', 'w', 'i', 'n', 'd', 'o', 'w', 's', 'i', 'l', 'l', 't', 'o', 'c', 'o', 'o', 'l', 'T', 'h', 'e', 'b', 'u', 'n', 'l', 'a', 'y', 'a', 'n', 'd', 'l', 'a', 'y', 't', 'h', 'e', 'r', 'e', 'S', 'u', 'd', 'd', 'e', 'n', 'l', 'y', 'i', 't', 'r', 'o', 'l', 'l', 'e', 'd', 'o', 'f', 'f', 't', 'h', 'e', 'w', 'i', 'n', 'd', 'o', 'w', 's', 'i', 'l', 'l', 't', 'o', 't', 'h', 'e', 'b', 'e', 'n', 'c', 'h', 'f', 'r', 'o', 'm', 't', 'h', 'e', 'b', 'e', 'n', 'c', 'h', 't', 'o', 't', 'h', 'e', 'f', 'l', 'o', 'o', 'r', 'f', 'r', 'o', 'm', 't', 'h', 'e', 'f', 'l', 'o', 'o', 'r', 't', 'o', 't', 'h', 'e', 'd', 'o', 'o', 'r', 'T', 'h', 'e', 'n', 'i', 't', 'r', 'o', 'l', 'l', 'e', 'd', 'o', 'v', 'e', 'r', 't', 'h', 'e', 't', 'h', 'r', 'e', 's', 'h', 'o', 'l', 'd', 't', 'o', 't', 'h', 'e', 'e', 'n', 't', 'r', 'a', 'n', 'c', 'e', 'h', 'a', 'l', 'l', 'f', 'r', 'o', 'm', 't', 'h', 'e', 'e', 'n', 't', 'r', 'a', 'n', 'c', 'e', 'h', 'a', 'l', 'l', 't', 'o', 't', 'h', 'e', 'p', 'o', 'r', 'c', 'h', 'f', 'r', 'o', 'm', 't', 'h', 'e', 'p', 'o', 'r', 'c', 'h', 't', 'o', 't', 'h', 'e', 'c', 'o', 'u', 'r', 't', 'y', 'a', 'r', 'd', 'f', 'r', 'o', 'm', 't', 'h', 'e', 'c', 'o', 'u', 'r', 't', 'y', 'a', 'r', 'd', 't', 'r', 'o', 'u', 'g', 'h', 't', 'h', 'e', 'g', 'a', 't', 'e', 'a', 'n', 'd', 'o', 'n', 'a', 'n', 'd', 'o', 'n', 'T', 'h', 'e', 'b', 'u', 'n', 'r', 'o', 'l', 'l', 'e', 'd', 'a', 'l', 'o', 'n', 'g', 't', 'h', 'e', 'r', 'o', 'a', 'd', 'a', 'n', 'd', 'm', 'e', 't', 'a', 'h', 'a', 'r', 'e', 'L', 'i', 't', 't', 'l', 'e', 'b', 'u', 'n', 'l', 'i', 't', 't', 'l', 'e', 'b', 'u', 'n', 'I', 's', 'h', 'a', 'l', 'l', 'e', 'a', 't', 'y', 'o', 'u', 'u', 'p', 's', 'a', 'i', 'd', 't', 'h', 'e', 'h', 'a', 'r', 'e', 'D', 'o', 'n', 't', 'e', 'a', 't', 'm', 'e', 's', 'l', 'a', 'n', 't', 'e', 'y', 'e', 'd', 'h', 'a', 'r', 'e', 'I', 'w', 'i', 'l', 'l', 's', 'i', 'n', 'g', 'y', 'o', 'u', 'a', 's', 'o', 'n', 'g', 's', 'a', 'i', 'd', 't', 'h', 'e', 'b', 'u', 'n', 'a', 'n', 'd', 's', 'a', 'n', 'g', 'I', 'w', 'a', 's', 's', 'c', 'r', 'a', 'p', 'e', 'd', 'f', 'r', 'o', 'm', 't', 'h', 'e', 'c', 'u', 'p', 'b', 'o', 'a', 'r', 'd', 'S', 'w', 'e', 'p', 't', 'f', 'r', 'o', 'm', 't', 'h', 'e', 'b', 'i', 'n', 'K', 'n', 'e', 'a', 'd', 'e', 'd', 'w', 'i', 't', 'h', 's', 'o', 'u', 'r', 'c', 'r', 'e', 'a', 'm', 'F', 'r', 'i', 'e', 'd', 'i', 'n', 'b', 'u', 't', 't', 'e', 'r', 'A', 'n', 'd', 'c', 'o', 'o', 'l', 'l', 'e', 'd', 'o', 'n', 't', 'h', 'e', 's', 'i', 'l', 'l', 'I', 'g', 'o', 't', 'a', 'w', 'a', 'y', 'f', 'r', 'o', 'm', 'G', 'r', 'a', 'n', 'd', 'p', 'a', 'I', 'g', 'o', 't', 'a', 'w', 'a', 'y', 'f', 'r', 'o', 'm', 'G', 'r', 'a', 'n', 'd', 'm', 'a', 'A', 'n', 'd', 'I', 'l', 'l', 'g', 'e', 't', 'a', 'w', 'a', 'y', 'f', 'r', 'o', 'm', 'y', 'o', 'u', 'h', 'a', 'r', 'e', 'A', 'n', 'd', 't', 'h', 'e', 'b', 'u', 'n', 'r', 'o', 'l', 'l', 'e', 'd', 'a', 'w', 'a', 'y', 'b', 'e', 'f', 'o', 'r', 'e', 't', 'h', 'e', 'h', 'a', 'r', 'e', 'e', 'v', 'e', 'n', 's', 'a', 'w', 'i', 't', 'm', 'o', 'v', 'e', 'T', 'h', 'e', 'b', 'u', 'n', 'r', 'o', 'l', 'l', 'e', 'd', 'o', 'n', 'a', 'n', 'd', 'm', 'e', 't', 'a', 'w', 'o', 'l', 'f', 'L', 'i', 't', 't', 'l', 'e', 'b', 'u', 'n', 'l', 'i', 't', 't', 'l', 'e', 'b', 'u', 'n', 'I', 's', 'h', 'a', 'l', 'l', 'e', 'a', 't', 'y', 'o', 'u', 'u', 'p', 's', 'a', 'i', 'd', 't', 'h', 'e', 'w', 'o', 'l', 'f', 'D', 'o', 'n', 't', 'e', 'a', 't', 'm', 'e', 'g', 'r', 'a', 'y', 'w', 'o', 'l', 'f', 's', 'a', 'i', 'd', 't', 'h', 'e', 'b', 'u', 'n', 'I', 'w', 'i', 'l', 'l', 's', 'i', 'n', 'g', 'y', 'o', 'u', 'a', 's', 'o', 'n', 'g', 'A', 'n', 'd', 't', 'h', 'e', 'b', 'u', 'n', 's', 'a', 'n', 'g', 'I', 'w', 'a', 's', 's', 'c', 'r', 'a', 'p', 'e', 'd', 'f', 'r', 'o', 'm', 't', 'h', 'e', 'c', 'u', 'p', 'b', 'o', 'a', 'r', 'd', 'S', 'w', 'e', 'p', 't', 'f', 'r', 'o', 'm', 't', 'h', 'e', 'b', 'i', 'n', 'K', 'n', 'e', 'a', 'd', 'e', 'd', 'w', 'i', 't', 'h', 's', 'o', 'u', 'r', 'c', 'r', 'e', 'a', 'm', 'F', 'r', 'i', 'e', 'd', 'i', 'n', 'b', 'u', 't', 't', 'e', 'r', 'A', 'n', 'd', 'c', 'o', 'o', 'l', 'l', 'e', 'd', 'o', 'n', 't', 'h', 'e', 's', 'i', 'l', 'l', 'I', 'g', 'o', 't', 'a', 'w', 'a', 'y', 'f', 'r', 'o', 'm', 'G', 'r', 'a', 'n', 'd', 'p', 'a', 'I', 'g', 'o', 't', 'a', 'w', 'a', 'y', 'f', 'r', 'o', 'm', 'G', 'r', 'a', 'n', 'd', 'm', 'a', 'I', 'g', 'o', 't', 'a', 'w', 'a', 'y', 'f', 'r', 'o', 'm', 't', 'h', 'e', 'h', 'a', 'r', 'e', 'A', 'n', 'd', 'I', 'l', 'l', 'g', 'e', 't', 'a', 'w', 'a', 'y', 'f', 'r', 'o', 'm', 'y', 'o', 'u', 'g', 'r', 'a', 'y', 'w', 'o', 'l', 'f', 'A', 'n', 'd', 't', 'h', 'e', 'b', 'u', 'n', 'r', 'o', 'l', 'l', 'e', 'd', 'a', 'w', 'a', 'y', 'b', 'e', 'f', 'o', 'r', 'e', 't', 'h', 'e', 'w', 'o', 'l', 'f', 'e', 'v', 'e', 'n', 's', 'a', 'w', 'i', 't', 'm', 'o', 'v', 'e', 'T', 'h', 'e', 'b', 'u', 'n', 'r', 'o', 'l', 'l', 'e', 'd', 'o', 'n', 'a', 'n', 'd', 'm', 'e', 't', 'a', 'b', 'e', 'a', 'r', 'L', 'i', 't', 't', 'l', 'e', 'b', 'u', 'n', 'l', 'i', 't', 't', 'l', 'e', 'b', 'u', 'n', 'I', 's', 'h', 'a', 'l', 'l', 'e', 'a', 't', 'y', 'o', 'u', 'u', 'p', 't', 'h', 'e', 'b', 'e', 'a', 'r', 's', 'a', 'i', 'd', 'Y', 'o', 'u', 'w', 'i', 'l', 'l', 'n', 'o', 't', 'p', 'i', 'g', 'e', 'o', 'n', 't', 'o', 'e', 's', 'A', 'n', 'd', 't', 'h', 'e', 'b', 'u', 'n', 's', 'a', 'n', 'g', 'I', 'w', 'a', 's', 's', 'c', 'r', 'a', 'p', 'e', 'd', 'f', 'r', 'o', 'm', 't', 'h', 'e', 'c', 'u', 'p', 'b', 'o', 'a', 'r', 'd', 'S', 'w', 'e', 'p', 't', 'f', 'r', 'o', 'm', 't', 'h', 'e', 'b', 'i', 'n', 'K', 'n', 'e', 'a', 'd', 'e', 'd', 'w', 'i', 't', 'h', 's', 'o', 'u', 'r', 'c', 'r', 'e', 'a', 'm', 'F', 'r', 'i', 'e', 'd', 'i', 'n', 'b', 'u', 't', 't', 'e', 'r', 'A', 'n', 'd', 'c', 'o', 'o', 'l', 'l', 'e', 'd', 'o', 'n', 't', 'h', 'e', 's', 'i', 'l', 'l', 'I', 'g', 'o', 't', 'a', 'w', 'a', 'y', 'f', 'r', 'o', 'm', 'G', 'r', 'a', 'n', 'd', 'p', 'a', 'I', 'g', 'o', 't', 'a', 'w', 'a', 'y', 'f', 'r', 'o', 'm', 'G', 'r', 'a', 'n', 'd', 'm', 'a', 'I', 'g', 'o', 't', 'a', 'w', 'a', 'y', 'f', 'r', 'o', 'm', 't', 'h', 'e', 'h', 'a', 'r', 'e', 'I', 'g', 'o', 't', 'a', 'w', 'a', 'y', 'f', 'r', 'o', 'm', 't', 'h', 'e', 'w', 'o', 'l', 'f', 'A', 'n', 'd', 'I', 'l', 'l', 'g', 'e', 't', 'a', 'w', 'a', 'y', 'f', 'r', 'o', 'm', 'y', 'o', 'u', 'b', 'i', 'g', 'b', 'e', 'a', 'r', 'A', 'n', 'd', 'a', 'g', 'a', 'i', 'n', 't', 'h', 'e', 'b', 'u', 'n', 'r', 'o', 'l', 'l', 'e', 'd', 'a', 'w', 'a', 'y', 'b', 'e', 'f', 'o', 'r', 'e', 't', 'h', 'e', 'b', 'e', 'a', 'r', 'e', 'v', 'e', 'n', 's', 'a', 'w', 'i', 't', 'm', 'o', 'v', 'e', 'T', 'h', 'e', 'b', 'u', 'n', 'r', 'o', 'l', 'l', 'e', 'd', 'a', 'n', 'd', 'r', 'o', 'l', 'l', 'e', 'd', 'a', 'n', 'd', 'm', 'e', 't', 'a', 'f', 'o', 'x', 'H', 'e', 'l', 'l', 'o', 'l', 'i', 't', 't', 'l', 'e', 'b', 'u', 'n', 'h', 'o', 'w', 'n', 'i', 'c', 'e', 'y', 'o', 'r', 'a', 'r', 'e', 's', 'a', 'i', 'd', 't', 'h', 'e', 'f', 'o', 'x', 'A', 'n', 'd', 't', 'h', 'e', 'b', 'u', 'n', 's', 'a', 'n', 'g', 'I', 'w', 'a', 's', 's', 'c', 'r', 'a', 'p', 'e', 'd', 'f', 'r', 'o', 'm', 't', 'h', 'e', 'c', 'u', 'p', 'b', 'o', 'a', 'r', 'd', 'S', 'w', 'e', 'p', 't', 'f', 'r', 'o', 'm', 't', 'h', 'e', 'b', 'i', 'n', 'K', 'n', 'e', 'a', 'd', 'e', 'd', 'w', 'i', 't', 'h', 's', 'o', 'u', 'r', 'c', 'r', 'e', 'a', 'm', 'F', 'r', 'i', 'e', 'd', 'i', 'n', 'b', 'u', 't', 't', 'e', 'r', 'A', 'n', 'd', 'c', 'o', 'o', 'l', 'l', 'e', 'd', 'o', 'n', 't', 'h', 'e', 's', 'i', 'l', 'l', 'I', 'g', 'o', 't', 'a', 'w', 'a', 'y', 'f', 'r', 'o', 'm', 'G', 'r', 'a', 'n', 'd', 'p', 'a', 'I', 'g', 'o', 't', 'a', 'w', 'a', 'y', 'f', 'r', 'o', 'm', 'G', 'r', 'a', 'n', 'd', 'm', 'a', 'I', 'g', 'o', 't', 'a', 'w', 'a', 'y', 'f', 'r', 'o', 'm', 't', 'h', 'e', 'h', 'a', 'r', 'e', 'I', 'g', 'o', 't', 'a', 'w', 'a', 'y', 'f', 'r', 'o', 'm', 't', 'h', 'e', 'w', 'o', 'l', 'f', 'I', 'g', 'o', 't', 'a', 'w', 'a', 'y', 'f', 'r', 'o', 'm', 'b', 'e', 'a', 'r', 'A', 'n', 'd', 'I', 'l', 'l', 'g', 'e', 't', 'a', 'w', 'a', 'y', 'f', 'r', 'o', 'm', 'y', 'o', 'u', 'o', 'l', 'd', 'f', 'o', 'x', 'W', 'h', 'a', 't', 'a', 'w', 'o', 'n', 'd', 'e', 'r', 'f', 'u', 'l', 's', 'o', 'n', 'g', 's', 'a', 'i', 'd', 't', 'h', 'e', 'f', 'o', 'x', 'B', 'u', 't', 'l', 'i', 't', 't', 'l', 'e', 'b', 'u', 'n', 'I', 'h', 'a', 'v', 'e', 'b', 'e', 'c', 'a', 'm', 'e', 'o', 'l', 'd', 'n', 'o', 'w', 'a', 'n', 'd', 'h', 'a', 'r', 'd', 'o', 'f', 'h', 'e', 'a', 'r', 'i', 'n', 'g', 'C', 'o', 'm', 'e', 's', 'i', 't', 'o', 'n', 'm', 'y', 's', 'n', 'o', 'u', 't', 'a', 'n', 'd', 's', 'i', 'n', 'g', 'y', 'o', 'u', 'r', 's', 'o', 'n', 'g', 'a', 'g', 'a', 'i', 'n', 'a', 'l', 'i', 't', 't', 'l', 'e', 'l', 'o', 'u', 'd', 'e', 'r', 'T', 'h', 'e', 'b', 'u', 'n', 'j', 'u', 'm', 'p', 'e', 'd', 'u', 'p', 'o', 'n', 't', 'h', 'e', 'f', 'o', 'x', 's', 's', 'n', 'o', 'u', 't', 'a', 'n', 'd', 's', 'a', 'n', 'g', 't', 'h', 'e', 's', 'a', 'm', 'e', 's', 'o', 'n', 'g', 'T', 'h', 'a', 'n', 'k', 'y', 'o', 'u', 'l', 'i', 't', 't', 'l', 'e', 'b', 'u', 'n', 't', 'h', 'a', 't', 'w', 'a', 's', 'a', 'w', 'o', 'n', 'd', 'e', 'r', 'f', 'u', 'l', 's', 'o', 'n', 'g', 'I', 'd', 'l', 'i', 'k', 'e', 't', 'o', 'h', 'e', 'a', 'r', 'i', 't', 'a', 'g', 'a', 'i', 'n', 'C', 'o', 'm', 'e', 's', 'i', 't', 'o', 'n', 'm', 'y', 't', 'o', 'n', 'g', 'u', 'e', 'a', 'n', 'd', 's', 'i', 'n', 'g', 'i', 't', 'f', 'o', 'r', 't', 'h', 'e', 'l', 'a', 's', 't', 't', 'i', 'm', 'e', 's', 'a', 'i', 'd', 't', 'h', 'e', 'f', 'o', 'x', 's', 't', 'i', 'c', 'k', 'i', 'n', 'g', 'o', 'u', 't', 'h', 'e', 'r', 't', 'o', 'n', 'g', 'u', 'e', 'T', 'h', 'e', 'b', 'u', 'n', 'f', 'o', 'o', 'l', 'i', 's', 'h', 'l', 'y', 'j', 'u', 'm', 'p', 'e', 'd', 'o', 'n', 't', 'o', 'h', 'e', 'r', 't', 'o', 'n', 'g', 'u', 'e', 'a', 'n', 'd', 's', 'n', 'a', 't', 'c', 'h', 's', 'h', 'e', 'a', 't', 'e', 'i', 't']\n"
     ]
    }
   ],
   "source": [
    "print(ans07)"
   ]
  },
  {
   "cell_type": "code",
   "execution_count": 149,
   "metadata": {},
   "outputs": [],
   "source": [
    "#print(ans08)"
   ]
  },
  {
   "cell_type": "code",
   "execution_count": 150,
   "metadata": {},
   "outputs": [
    {
     "name": "stdout",
     "output_type": "stream",
     "text": [
      "['Once there lived an old man and old woman.The old man said, \"Old woman, bake me a bun.\" \"What can I make it from? I have no flour.\" \"Eh, eh, old woman! Scrape the cupboard, sweep the flour bin, and you will find enough flour.\" The old woman picked up a duster, scraped the cupboard, swept the flour bin and gathered about two handfuls of flour. She mixed the dough with sour cream, fried it in butter, and put the bun on the window sill to cool. The bun lay and lay there. Suddenly it rolled off the window sill to the bench, from the bench to the floor, from the floor to the door. Then it rolled over the threshold to the entrance hall, from the entrance hall to the porch, from the porch to the courtyard, from the courtyard trough the gate and on and on. The bun rolled along the road and met a hare. \"Little bun, little bun, I shall eat you up!\" said the hare. \"Don\\'t eat me, slant-eyed hare! I will sing you a song,\" said the bun, and sang: I was scraped from the cupboard, Swept from the bin, Kneaded with sour cream, Fried in butter, And coolled on the sill. I got away from Grandpa, I got away from Grandma And I\\'ll get away from you, hare! And the bun rolled away before the hare even saw it move! The bun rolled on and met a wolf. \"Little bun, little bun, I shall eat you up,\" said the wolf. \"Don\\'t eat me, gray wolf!\" said the bun. \"I will sing you a song.\" And the bun sang: I was scraped from the cupboard, Swept from the bin, Kneaded with sour cream, Fried in butter, And coolled on the sill. I got away from Grandpa, I got away from Grandma I got away from the hare, And I\\'ll get away from you, gray wolf! And the bun rolled away before the wolf even saw it move! The bun rolled on and met a bear. \"Little bun, little bun, I shall eat you up,\" the bear said. \"You will not, pigeon toes!\" And the bun sang: I was scraped from the cupboard, Swept from the bin, Kneaded with sour cream, Fried in butter, And coolled on the sill. I got away from Grandpa, I got away from Grandma I got away from the hare, I got away from the wolf, And I\\'ll get away from you, big bear! And again the bun rolled away before the bear even saw it move! The bun rolled and rolled and met a fox. \"Hello, little bun, how nice yor are!\" said the fox. And the bun sang: I was scraped from the cupboard, Swept from the bin, Kneaded with sour cream, Fried in butter, And coolled on the sill. I got away from Grandpa, I got away from Grandma, I got away from the hare, I got away from the wolf, I got away from bear, And I\\'ll get away from you, old fox! \"What a wonderful song!\" said the fox. \"But little bun, I have became old now and hard of hearing. Come sit on my snout and sing your song again a little louder.\" The bun jumped up on the fox\\'s snout and sang the same song. \"Thank you, little bun, that was a wonderful song. I\\'d like to hear it again. Come sit on my tongue and sing it for the last time,\" said the fox, sticking out her tongue. The bun foolishly jumped onto her tongue and- snatch!- she ate it.\\n\\n']\n"
     ]
    }
   ],
   "source": [
    "ans09 = nltk.tokenize.SExprTokenizer().tokenize(text)\n",
    "\n",
    "print(ans09)"
   ]
  },
  {
   "cell_type": "code",
   "execution_count": 151,
   "metadata": {},
   "outputs": [
    {
     "name": "stdout",
     "output_type": "stream",
     "text": [
      "['Once', 'there', 'lived', 'an', 'old', 'man', 'and', 'old', 'woman.The', 'old', 'man', 'said,', '\"Old', 'woman,', 'bake', 'me', 'a', 'bun.\"', '\"What', 'can', 'I', 'make', 'it', 'from?', 'I', 'have', 'no', 'flour.\"', '\"Eh,', 'eh,', 'old', 'woman!', 'Scrape', 'the', 'cupboard,', 'sweep', 'the', 'flour', 'bin,', 'and', 'you', 'will', 'find', 'enough', 'flour.\"', 'The', 'old', 'woman', 'picked', 'up', 'a', 'duster,', 'scraped', 'the', 'cupboard,', 'swept', 'the', 'flour', 'bin', 'and', 'gathered', 'about', 'two', 'handfuls', 'of', 'flour.', 'She', 'mixed', 'the', 'dough', 'with', 'sour', 'cream,', 'fried', 'it', 'in', 'butter,', 'and', 'put', 'the', 'bun', 'on', 'the', 'window', 'sill', 'to', 'cool.', 'The', 'bun', 'lay', 'and', 'lay', 'there.', 'Suddenly', 'it', 'rolled', 'off', 'the', 'window', 'sill', 'to', 'the', 'bench,', 'from', 'the', 'bench', 'to', 'the', 'floor,', 'from', 'the', 'floor', 'to', 'the', 'door.', 'Then', 'it', 'rolled', 'over', 'the', 'threshold', 'to', 'the', 'entrance', 'hall,', 'from', 'the', 'entrance', 'hall', 'to', 'the', 'porch,', 'from', 'the', 'porch', 'to', 'the', 'courtyard,', 'from', 'the', 'courtyard', 'trough', 'the', 'gate', 'and', 'on', 'and', 'on.', 'The', 'bun', 'rolled', 'along', 'the', 'road', 'and', 'met', 'a', 'hare.', '\"Little', 'bun,', 'little', 'bun,', 'I', 'shall', 'eat', 'you', 'up!\"', 'said', 'the', 'hare.', '\"Don\\'t', 'eat', 'me,', 'slant-eyed', 'hare!', 'I', 'will', 'sing', 'you', 'a', 'song,\"', 'said', 'the', 'bun,', 'and', 'sang:', 'I', 'was', 'scraped', 'from', 'the', 'cupboard,', 'Swept', 'from', 'the', 'bin,', 'Kneaded', 'with', 'sour', 'cream,', 'Fried', 'in', 'butter,', 'And', 'coolled', 'on', 'the', 'sill.', 'I', 'got', 'away', 'from', 'Grandpa,', 'I', 'got', 'away', 'from', 'Grandma', 'And', \"I'll\", 'get', 'away', 'from', 'you,', 'hare!', 'And', 'the', 'bun', 'rolled', 'away', 'before', 'the', 'hare', 'even', 'saw', 'it', 'move!', 'The', 'bun', 'rolled', 'on', 'and', 'met', 'a', 'wolf.', '\"Little', 'bun,', 'little', 'bun,', 'I', 'shall', 'eat', 'you', 'up,\"', 'said', 'the', 'wolf.', '\"Don\\'t', 'eat', 'me,', 'gray', 'wolf!\"', 'said', 'the', 'bun.', '\"I', 'will', 'sing', 'you', 'a', 'song.\"', 'And', 'the', 'bun', 'sang:', 'I', 'was', 'scraped', 'from', 'the', 'cupboard,', 'Swept', 'from', 'the', 'bin,', 'Kneaded', 'with', 'sour', 'cream,', 'Fried', 'in', 'butter,', 'And', 'coolled', 'on', 'the', 'sill.', 'I', 'got', 'away', 'from', 'Grandpa,', 'I', 'got', 'away', 'from', 'Grandma', 'I', 'got', 'away', 'from', 'the', 'hare,', 'And', \"I'll\", 'get', 'away', 'from', 'you,', 'gray', 'wolf!', 'And', 'the', 'bun', 'rolled', 'away', 'before', 'the', 'wolf', 'even', 'saw', 'it', 'move!', 'The', 'bun', 'rolled', 'on', 'and', 'met', 'a', 'bear.', '\"Little', 'bun,', 'little', 'bun,', 'I', 'shall', 'eat', 'you', 'up,\"', 'the', 'bear', 'said.', '\"You', 'will', 'not,', 'pigeon', 'toes!\"', 'And', 'the', 'bun', 'sang:', 'I', 'was', 'scraped', 'from', 'the', 'cupboard,', 'Swept', 'from', 'the', 'bin,', 'Kneaded', 'with', 'sour', 'cream,', 'Fried', 'in', 'butter,', 'And', 'coolled', 'on', 'the', 'sill.', 'I', 'got', 'away', 'from', 'Grandpa,', 'I', 'got', 'away', 'from', 'Grandma', 'I', 'got', 'away', 'from', 'the', 'hare,', 'I', 'got', 'away', 'from', 'the', 'wolf,', 'And', \"I'll\", 'get', 'away', 'from', 'you,', 'big', 'bear!', 'And', 'again', 'the', 'bun', 'rolled', 'away', 'before', 'the', 'bear', 'even', 'saw', 'it', 'move!', 'The', 'bun', 'rolled', 'and', 'rolled', 'and', 'met', 'a', 'fox.', '\"Hello,', 'little', 'bun,', 'how', 'nice', 'yor', 'are!\"', 'said', 'the', 'fox.', 'And', 'the', 'bun', 'sang:', 'I', 'was', 'scraped', 'from', 'the', 'cupboard,', 'Swept', 'from', 'the', 'bin,', 'Kneaded', 'with', 'sour', 'cream,', 'Fried', 'in', 'butter,', 'And', 'coolled', 'on', 'the', 'sill.', 'I', 'got', 'away', 'from', 'Grandpa,', 'I', 'got', 'away', 'from', 'Grandma,', 'I', 'got', 'away', 'from', 'the', 'hare,', 'I', 'got', 'away', 'from', 'the', 'wolf,', 'I', 'got', 'away', 'from', 'bear,', 'And', \"I'll\", 'get', 'away', 'from', 'you,', 'old', 'fox!', '\"What', 'a', 'wonderful', 'song!\"', 'said', 'the', 'fox.', '\"But', 'little', 'bun,', 'I', 'have', 'became', 'old', 'now', 'and', 'hard', 'of', 'hearing.', 'Come', 'sit', 'on', 'my', 'snout', 'and', 'sing', 'your', 'song', 'again', 'a', 'little', 'louder.\"', 'The', 'bun', 'jumped', 'up', 'on', 'the', \"fox's\", 'snout', 'and', 'sang', 'the', 'same', 'song.', '\"Thank', 'you,', 'little', 'bun,', 'that', 'was', 'a', 'wonderful', 'song.', \"I'd\", 'like', 'to', 'hear', 'it', 'again.', 'Come', 'sit', 'on', 'my', 'tongue', 'and', 'sing', 'it', 'for', 'the', 'last', 'time,\"', 'said', 'the', 'fox,', 'sticking', 'out', 'her', 'tongue.', 'The', 'bun', 'foolishly', 'jumped', 'onto', 'her', 'tongue', 'and-', 'snatch!-', 'she', 'ate', 'it.\\n\\n']\n"
     ]
    }
   ],
   "source": [
    "print(ans10)"
   ]
  },
  {
   "cell_type": "code",
   "execution_count": 152,
   "metadata": {},
   "outputs": [],
   "source": [
    "#print(ans11)"
   ]
  },
  {
   "cell_type": "code",
   "execution_count": 153,
   "metadata": {},
   "outputs": [
    {
     "name": "stdout",
     "output_type": "stream",
     "text": [
      "['Once t', 'he', 're ', 'li', 've', 'd a', 'n ol', 'd ', 'ma', 'n an', 'd ol', 'd ', 'wo', 'man', '.', 'The ', 'ol', 'd ', 'ma', 'n ', 'said', ',', ' ', '\"Ol', 'd ', 'wo', 'man', ',', ' ', 'ba', 'ke ', 'me ', 'a', ' ', 'bun', '.', '', '\"', ' ', '\"W', 'ha', 't ', 'ca', 'n I', ' ', 'ma', 'ke ', 'i', 't ', 'from', '?', ' I', ' ', 'ha', 've ', 'no ', 'flour', '.', '', '\"', ' ', '\"Eh', ',', ' eh', ',', ' ol', 'd ', 'wo', 'man', '!', ' S', 'cra', 'pe t', 'he ', 'cup', 'board', ',', ' ', 'swee', 'p t', 'he ', 'flou', 'r ', 'bin', ',', ' an', 'd y', 'o', 'u', ' ', 'wil', 'l ', 'fin', 'd e', 'noug', 'h ', 'flour', '.', '', '\"', ' T', 'he ', 'ol', 'd ', 'wo', 'ma', 'n ', 'pic', 'ke', 'd u', 'p a', ' ', 'dus', 'ter', ',', ' s', 'cra', 'pe', 'd t', 'he ', 'cup', 'board', ',', ' ', 'swep', 't t', 'he ', 'flou', 'r ', 'bi', 'n an', 'd ', 'gat', 'he', 're', 'd a', 'bou', 't ', 'two ', 'han', 'dful', 's o', 'f ', 'flour', '.', ' S', 'he ', 'mi', 'xe', 'd t', 'he ', 'doug', 'h ', 'wit', 'h ', 'sou', 'r ', 'cream', ',', ' ', 'frie', 'd i', 't i', 'n ', 'but', 'ter', ',', ' an', 'd ', 'pu', 't t', 'he ', 'bu', 'n o', 'n t', 'he ', 'win', 'do', 'w ', 'sil', 'l ', 'to ', 'cool', '.', ' T', 'he ', 'bu', 'n ', 'lay', ' ', 'an', 'd ', 'lay', ' t', 'he', 're', '.', ' ', 'Sud', 'den', 'ly ', 'i', 't ', 'rol', 'le', 'd of', 'f t', 'he ', 'win', 'do', 'w ', 'sil', 'l ', 'to t', 'he ', 'bench', ',', ' ', 'fro', 'm t', 'he ', 'benc', 'h ', 'to t', 'he ', 'floor', ',', ' ', 'fro', 'm t', 'he ', 'floo', 'r ', 'to t', 'he ', 'door', '.', ' T', 'he', 'n i', 't ', 'rol', 'le', 'd o', 've', 'r t', 'he t', 'hres', 'hol', 'd ', 'to t', 'he ', 'en', 'tran', 'ce ', 'hall', ',', ' ', 'fro', 'm t', 'he ', 'en', 'tran', 'ce ', 'hal', 'l ', 'to t', 'he ', 'porch', ',', ' ', 'fro', 'm t', 'he ', 'porc', 'h ', 'to t', 'he ', 'cour', 'tyard', ',', ' ', 'fro', 'm t', 'he ', 'cour', 'tyar', 'd ', 'troug', 'h t', 'he ', 'ga', 'te ', 'an', 'd o', 'n an', 'd on', '.', ' T', 'he ', 'bu', 'n ', 'rol', 'le', 'd a', 'lon', 'g t', 'he ', 'roa', 'd an', 'd ', 'me', 't a', ' ', 'ha', 're', '.', ' ', '\"', 'Lit', 'tle ', 'bun', ',', ' ', 'lit', 'tle ', 'bun', ',', ' I', ' s', 'hal', 'l e', 'a', 't y', 'o', 'u', ' ', 'up', '!', '', '\"', ' ', 'sai', 'd t', 'he ', 'ha', 're', '.', ' ', '\"', 'Don', \"'\", 't e', 'a', 't ', 'me', ',', ' ', 'slant', '-', 'ey', 'e', 'd ', 'ha', 're', '!', ' I', ' ', 'wil', 'l ', 'sin', 'g y', 'o', 'u', ' ', 'a', ' ', 'song', ',', '', '\"', ' ', 'sai', 'd t', 'he ', 'bun', ',', ' an', 'd ', 'sang', ':', ' I', ' ', 'wa', 's s', 'cra', 'pe', 'd ', 'fro', 'm t', 'he ', 'cup', 'board', ',', ' ', 'Swep', 't ', 'fro', 'm t', 'he ', 'bin', ',', ' ', 'Knea', 'de', 'd ', 'wit', 'h ', 'sou', 'r ', 'cream', ',', ' ', 'Frie', 'd i', 'n ', 'but', 'ter', ',', ' An', 'd ', 'cool', 'le', 'd o', 'n t', 'he ', 'sill', '.', ' I', ' ', 'go', 't a', 'way', ' ', 'fro', 'm ', 'Grand', 'pa', ',', ' I', ' ', 'go', 't a', 'way', ' ', 'fro', 'm ', 'Gran', 'dma An', 'd I', \"'\", 'll ', 'ge', 't a', 'way', ' ', 'fro', 'm y', 'o', 'u', ',', ' ', 'ha', 're', '!', ' An', 'd t', 'he ', 'bu', 'n ', 'rol', 'le', 'd a', 'way', ' ', 'be', 'fo', 're t', 'he ', 'ha', 're ', 'e', 've', 'n ', 'sa', 'w i', 't ', 'mo', 've', '!', ' T', 'he ', 'bu', 'n ', 'rol', 'le', 'd o', 'n an', 'd ', 'me', 't a', ' ', 'wolf', '.', ' ', '\"', 'Lit', 'tle ', 'bun', ',', ' ', 'lit', 'tle ', 'bun', ',', ' I', ' s', 'hal', 'l e', 'a', 't y', 'o', 'u', ' ', 'up', ',', '', '\"', ' ', 'sai', 'd t', 'he ', 'wolf', '.', ' ', '\"', 'Don', \"'\", 't e', 'a', 't ', 'me', ',', ' ', 'gray', ' ', 'wolf', '!', '', '\"', ' ', 'sai', 'd t', 'he ', 'bun', '.', ' ', '\"', 'I ', 'wil', 'l ', 'sin', 'g y', 'o', 'u', ' ', 'a', ' ', 'song', '.', '', '\"', ' An', 'd t', 'he ', 'bu', 'n ', 'sang', ':', ' I', ' ', 'wa', 's s', 'cra', 'pe', 'd ', 'fro', 'm t', 'he ', 'cup', 'board', ',', ' ', 'Swep', 't ', 'fro', 'm t', 'he ', 'bin', ',', ' ', 'Knea', 'de', 'd ', 'wit', 'h ', 'sou', 'r ', 'cream', ',', ' ', 'Frie', 'd i', 'n ', 'but', 'ter', ',', ' An', 'd ', 'cool', 'le', 'd o', 'n t', 'he ', 'sill', '.', ' I', ' ', 'go', 't a', 'way', ' ', 'fro', 'm ', 'Grand', 'pa', ',', ' I', ' ', 'go', 't a', 'way', ' ', 'fro', 'm ', 'Gran', 'dma I', ' ', 'go', 't a', 'way', ' ', 'fro', 'm t', 'he ', 'ha', 're', ',', ' An', 'd I', \"'\", 'll ', 'ge', 't a', 'way', ' ', 'fro', 'm y', 'o', 'u', ',', ' ', 'gray', ' ', 'wolf', '!', ' An', 'd t', 'he ', 'bu', 'n ', 'rol', 'le', 'd a', 'way', ' ', 'be', 'fo', 're t', 'he ', 'wol', 'f e', 've', 'n ', 'sa', 'w i', 't ', 'mo', 've', '!', ' T', 'he ', 'bu', 'n ', 'rol', 'le', 'd o', 'n an', 'd ', 'me', 't a', ' ', 'bear', '.', ' ', '\"', 'Lit', 'tle ', 'bun', ',', ' ', 'lit', 'tle ', 'bun', ',', ' I', ' s', 'hal', 'l e', 'a', 't y', 'o', 'u', ' ', 'up', ',', '', '\"', ' t', 'he ', 'bea', 'r ', 'said', '.', ' ', '\"', 'Yo', 'u', ' ', 'wil', 'l ', 'not', ',', ' ', 'pi', 'geo', 'n ', 'toes', '!', '', '\"', ' An', 'd t', 'he ', 'bu', 'n ', 'sang', ':', ' I', ' ', 'wa', 's s', 'cra', 'pe', 'd ', 'fro', 'm t', 'he ', 'cup', 'board', ',', ' ', 'Swep', 't ', 'fro', 'm t', 'he ', 'bin', ',', ' ', 'Knea', 'de', 'd ', 'wit', 'h ', 'sou', 'r ', 'cream', ',', ' ', 'Frie', 'd i', 'n ', 'but', 'ter', ',', ' An', 'd ', 'cool', 'le', 'd o', 'n t', 'he ', 'sill', '.', ' I', ' ', 'go', 't a', 'way', ' ', 'fro', 'm ', 'Grand', 'pa', ',', ' I', ' ', 'go', 't a', 'way', ' ', 'fro', 'm ', 'Gran', 'dma I', ' ', 'go', 't a', 'way', ' ', 'fro', 'm t', 'he ', 'ha', 're', ',', ' I', ' ', 'go', 't a', 'way', ' ', 'fro', 'm t', 'he ', 'wolf', ',', ' An', 'd I', \"'\", 'll ', 'ge', 't a', 'way', ' ', 'fro', 'm y', 'o', 'u', ',', ' ', 'bi', 'g ', 'bear', '!', ' An', 'd a', 'gai', 'n t', 'he ', 'bu', 'n ', 'rol', 'le', 'd a', 'way', ' ', 'be', 'fo', 're t', 'he ', 'bea', 'r e', 've', 'n ', 'sa', 'w i', 't ', 'mo', 've', '!', ' T', 'he ', 'bu', 'n ', 'rol', 'le', 'd an', 'd ', 'rol', 'le', 'd an', 'd ', 'me', 't a', ' ', 'fox', '.', ' ', '\"', 'Hel', 'lo', ',', ' ', 'lit', 'tle ', 'bun', ',', ' ', 'ho', 'w ', 'ni', 'ce ', 'y', 'o', 'r a', 're', '!', '', '\"', ' ', 'sai', 'd t', 'he ', 'fox', '.', ' An', 'd t', 'he ', 'bu', 'n ', 'sang', ':', ' I', ' ', 'wa', 's s', 'cra', 'pe', 'd ', 'fro', 'm t', 'he ', 'cup', 'board', ',', ' ', 'Swep', 't ', 'fro', 'm t', 'he ', 'bin', ',', ' ', 'Knea', 'de', 'd ', 'wit', 'h ', 'sou', 'r ', 'cream', ',', ' ', 'Frie', 'd i', 'n ', 'but', 'ter', ',', ' An', 'd ', 'cool', 'le', 'd o', 'n t', 'he ', 'sill', '.', ' I', ' ', 'go', 't a', 'way', ' ', 'fro', 'm ', 'Grand', 'pa', ',', ' I', ' ', 'go', 't a', 'way', ' ', 'fro', 'm ', 'Gran', 'dma', ',', ' I', ' ', 'go', 't a', 'way', ' ', 'fro', 'm t', 'he ', 'ha', 're', ',', ' I', ' ', 'go', 't a', 'way', ' ', 'fro', 'm t', 'he ', 'wolf', ',', ' I', ' ', 'go', 't a', 'way', ' ', 'fro', 'm ', 'bear', ',', ' An', 'd I', \"'\", 'll ', 'ge', 't a', 'way', ' ', 'fro', 'm y', 'o', 'u', ',', ' ol', 'd ', 'fox', '!', ' ', '\"W', 'ha', 't a', ' ', 'won', 'der', 'fu', 'l ', 'song', '!', '', '\"', ' ', 'sai', 'd t', 'he ', 'fox', '.', ' ', '\"', 'Bu', 't ', 'lit', 'tle ', 'bun', ',', ' I', ' ', 'ha', 've ', 'be', 'ca', 'me ', 'ol', 'd ', 'no', 'w an', 'd ', 'har', 'd o', 'f ', 'hea', 'ring', '.', ' ', 'Co', 'me ', 'si', 't o', 'n ', 'my ', 'snou', 't an', 'd ', 'sin', 'g y', 'o', 'u', 'r ', 'son', 'g a', 'gai', 'n a', ' ', 'lit', 'tle ', 'lou', 'der', '.', '', '\"', ' T', 'he ', 'bu', 'n ', 'jum', 'pe', 'd u', 'p o', 'n t', 'he ', 'fox', \"'\", 's ', 'snou', 't an', 'd ', 'san', 'g t', 'he ', 'sa', 'me ', 'song', '.', ' ', '\"', 'Than', 'k y', 'o', 'u', ',', ' ', 'lit', 'tle ', 'bun', ',', ' t', 'ha', 't ', 'wa', 's a', ' ', 'won', 'der', 'fu', 'l ', 'song', '.', ' I', \"'\", 'd ', 'li', 'ke ', 'to ', 'hea', 'r i', 't a', 'gain', '.', ' ', 'Co', 'me ', 'si', 't o', 'n ', 'my ', 'ton', 'gue', ' ', 'an', 'd ', 'sin', 'g i', 't ', 'fo', 'r t', 'he ', 'las', 't ', 'ti', 'me', ',', '', '\"', ' ', 'sai', 'd t', 'he ', 'fox', ',', ' s', 'tic', 'kin', 'g o', 'u', 't ', 'he', 'r ', 'ton', 'gue', '.', ' T', 'he ', 'bu', 'n ', 'foo', 'lis', 'hly ', 'jum', 'pe', 'd on', 'to ', 'he', 'r ', 'ton', 'gue', ' ', 'and', '-', ' ', 'snatch', '!', '', '-', ' s', 'he ', 'a', 'te ', 'it', '.', '\\n\\n']\n"
     ]
    }
   ],
   "source": [
    "print(ans12)"
   ]
  },
  {
   "cell_type": "code",
   "execution_count": 154,
   "metadata": {},
   "outputs": [
    {
     "name": "stdout",
     "output_type": "stream",
     "text": [
      "['Once there lived an old man and old woman.The old man said, \"Old woman, bake me a bun.\" \"What can I make it from? I have no flour.\" \"Eh, eh, old woman! Scrape the cupboard, sweep the flour bin, and you will find enough flour.\" The old woman picked up a duster, scraped the cupboard, swept the flour bin and gathered about two handfuls of flour. She mixed the dough with sour cream, fried it in butter, and put the bun on the window sill to cool. The bun lay and lay there. Suddenly it rolled off the window sill to the bench, from the bench to the floor, from the floor to the door. Then it rolled over the threshold to the entrance hall, from the entrance hall to the porch, from the porch to the courtyard, from the courtyard trough the gate and on and on. The bun rolled along the road and met a hare. \"Little bun, little bun, I shall eat you up!\" said the hare. \"Don\\'t eat me, slant-eyed hare! I will sing you a song,\" said the bun, and sang: I was scraped from the cupboard, Swept from the bin, Kneaded with sour cream, Fried in butter, And coolled on the sill. I got away from Grandpa, I got away from Grandma And I\\'ll get away from you, hare! And the bun rolled away before the hare even saw it move! The bun rolled on and met a wolf. \"Little bun, little bun, I shall eat you up,\" said the wolf. \"Don\\'t eat me, gray wolf!\" said the bun. \"I will sing you a song.\" And the bun sang: I was scraped from the cupboard, Swept from the bin, Kneaded with sour cream, Fried in butter, And coolled on the sill. I got away from Grandpa, I got away from Grandma I got away from the hare, And I\\'ll get away from you, gray wolf! And the bun rolled away before the wolf even saw it move! The bun rolled on and met a bear. \"Little bun, little bun, I shall eat you up,\" the bear said. \"You will not, pigeon toes!\" And the bun sang: I was scraped from the cupboard, Swept from the bin, Kneaded with sour cream, Fried in butter, And coolled on the sill. I got away from Grandpa, I got away from Grandma I got away from the hare, I got away from the wolf, And I\\'ll get away from you, big bear! And again the bun rolled away before the bear even saw it move! The bun rolled and rolled and met a fox. \"Hello, little bun, how nice yor are!\" said the fox. And the bun sang: I was scraped from the cupboard, Swept from the bin, Kneaded with sour cream, Fried in butter, And coolled on the sill. I got away from Grandpa, I got away from Grandma, I got away from the hare, I got away from the wolf, I got away from bear, And I\\'ll get away from you, old fox! \"What a wonderful song!\" said the fox. \"But little bun, I have became old now and hard of hearing. Come sit on my snout and sing your song again a little louder.\" The bun jumped up on the fox\\'s snout and sang the same song. \"Thank you, little bun, that was a wonderful song. I\\'d like to hear it again. Come sit on my tongue and sing it for the last time,\" said the fox, sticking out her tongue. The bun foolishly jumped onto her tongue and- snatch!- she ate it.\\n\\n']\n"
     ]
    }
   ],
   "source": [
    "print(ans13)"
   ]
  },
  {
   "cell_type": "code",
   "execution_count": 155,
   "metadata": {},
   "outputs": [
    {
     "name": "stdout",
     "output_type": "stream",
     "text": [
      "['Once there lived an old man and old woman.The old man said, \"Old woman, bake me a bun.\" \"What can I make it from? I have no flour.\" \"Eh, eh, old woman! Scrape the cupboard, sweep the flour bin, and you will find enough flour.\" The old woman picked up a duster, scraped the cupboard, swept the flour bin and gathered about two handfuls of flour. She mixed the dough with sour cream, fried it in butter, and put the bun on the window sill to cool. The bun lay and lay there. Suddenly it rolled off the window sill to the bench, from the bench to the floor, from the floor to the door. Then it rolled over the threshold to the entrance hall, from the entrance hall to the porch, from the porch to the courtyard, from the courtyard trough the gate and on and on. The bun rolled along the road and met a hare. \"Little bun, little bun, I shall eat you up!\" said the hare. \"Don\\'t eat me, slant-eyed hare! I will sing you a song,\" said the bun, and sang: I was scraped from the cupboard, Swept from the bin, Kneaded with sour cream, Fried in butter, And coolled on the sill. I got away from Grandpa, I got away from Grandma And I\\'ll get away from you, hare! And the bun rolled away before the hare even saw it move! The bun rolled on and met a wolf. \"Little bun, little bun, I shall eat you up,\" said the wolf. \"Don\\'t eat me, gray wolf!\" said the bun. \"I will sing you a song.\" And the bun sang: I was scraped from the cupboard, Swept from the bin, Kneaded with sour cream, Fried in butter, And coolled on the sill. I got away from Grandpa, I got away from Grandma I got away from the hare, And I\\'ll get away from you, gray wolf! And the bun rolled away before the wolf even saw it move! The bun rolled on and met a bear. \"Little bun, little bun, I shall eat you up,\" the bear said. \"You will not, pigeon toes!\" And the bun sang: I was scraped from the cupboard, Swept from the bin, Kneaded with sour cream, Fried in butter, And coolled on the sill. I got away from Grandpa, I got away from Grandma I got away from the hare, I got away from the wolf, And I\\'ll get away from you, big bear! And again the bun rolled away before the bear even saw it move! The bun rolled and rolled and met a fox. \"Hello, little bun, how nice yor are!\" said the fox. And the bun sang: I was scraped from the cupboard, Swept from the bin, Kneaded with sour cream, Fried in butter, And coolled on the sill. I got away from Grandpa, I got away from Grandma, I got away from the hare, I got away from the wolf, I got away from bear, And I\\'ll get away from you, old fox! \"What a wonderful song!\" said the fox. \"But little bun, I have became old now and hard of hearing. Come sit on my snout and sing your song again a little louder.\" The bun jumped up on the fox\\'s snout and sang the same song. \"Thank you, little bun, that was a wonderful song. I\\'d like to hear it again. Come sit on my tongue and sing it for the last time,\" said the fox, sticking out her tongue. The bun foolishly jumped onto her tongue and- snatch!- she ate it.', '\\n\\n']\n"
     ]
    }
   ],
   "source": [
    "print(ans14)"
   ]
  },
  {
   "cell_type": "code",
   "execution_count": 156,
   "metadata": {},
   "outputs": [
    {
     "name": "stdout",
     "output_type": "stream",
     "text": [
      "['Once', 'there', 'lived', 'an', 'old', 'man', 'and', 'old', 'woman.The', 'old', 'man', 'said', ',', '\"', 'Old', 'woman', ',', 'bake', 'me', 'a', 'bun.', '\"', '\"', 'What', 'can', 'I', 'make', 'it', 'from', '?', 'I', 'have', 'no', 'flour.', '\"', '\"', 'Eh', ',', 'eh', ',', 'old', 'woman', '!', 'Scrape', 'the', 'cupboard', ',', 'sweep', 'the', 'flour', 'bin', ',', 'and', 'you', 'will', 'find', 'enough', 'flour.', '\"', 'The', 'old', 'woman', 'picked', 'up', 'a', 'duster', ',', 'scraped', 'the', 'cupboard', ',', 'swept', 'the', 'flour', 'bin', 'and', 'gathered', 'about', 'two', 'handfuls', 'of', 'flour.', 'She', 'mixed', 'the', 'dough', 'with', 'sour', 'cream', ',', 'fried', 'it', 'in', 'butter', ',', 'and', 'put', 'the', 'bun', 'on', 'the', 'window', 'sill', 'to', 'cool.', 'The', 'bun', 'lay', 'and', 'lay', 'there.', 'Suddenly', 'it', 'rolled', 'off', 'the', 'window', 'sill', 'to', 'the', 'bench', ',', 'from', 'the', 'bench', 'to', 'the', 'floor', ',', 'from', 'the', 'floor', 'to', 'the', 'door.', 'Then', 'it', 'rolled', 'over', 'the', 'threshold', 'to', 'the', 'entrance', 'hall', ',', 'from', 'the', 'entrance', 'hall', 'to', 'the', 'porch', ',', 'from', 'the', 'porch', 'to', 'the', 'courtyard', ',', 'from', 'the', 'courtyard', 'trough', 'the', 'gate', 'and', 'on', 'and', 'on.', 'The', 'bun', 'rolled', 'along', 'the', 'road', 'and', 'met', 'a', 'hare.', '\"', 'Little', 'bun', ',', 'little', 'bun', ',', 'I', 'shall', 'eat', 'you', 'up', '!', '\"', 'said', 'the', 'hare.', '\"', 'Don', \"'\", 't', 'eat', 'me', ',', 'slant-eyed', 'hare', '!', 'I', 'will', 'sing', 'you', 'a', 'song', ',', '\"', 'said', 'the', 'bun', ',', 'and', 'sang', ':', 'I', 'was', 'scraped', 'from', 'the', 'cupboard', ',', 'Swept', 'from', 'the', 'bin', ',', 'Kneaded', 'with', 'sour', 'cream', ',', 'Fried', 'in', 'butter', ',', 'And', 'coolled', 'on', 'the', 'sill.', 'I', 'got', 'away', 'from', 'Grandpa', ',', 'I', 'got', 'away', 'from', 'Grandma', 'And', 'I', \"'\", 'll', 'get', 'away', 'from', 'you', ',', 'hare', '!', 'And', 'the', 'bun', 'rolled', 'away', 'before', 'the', 'hare', 'even', 'saw', 'it', 'move', '!', 'The', 'bun', 'rolled', 'on', 'and', 'met', 'a', 'wolf.', '\"', 'Little', 'bun', ',', 'little', 'bun', ',', 'I', 'shall', 'eat', 'you', 'up', ',', '\"', 'said', 'the', 'wolf.', '\"', 'Don', \"'\", 't', 'eat', 'me', ',', 'gray', 'wolf', '!', '\"', 'said', 'the', 'bun.', '\"', 'I', 'will', 'sing', 'you', 'a', 'song.', '\"', 'And', 'the', 'bun', 'sang', ':', 'I', 'was', 'scraped', 'from', 'the', 'cupboard', ',', 'Swept', 'from', 'the', 'bin', ',', 'Kneaded', 'with', 'sour', 'cream', ',', 'Fried', 'in', 'butter', ',', 'And', 'coolled', 'on', 'the', 'sill.', 'I', 'got', 'away', 'from', 'Grandpa', ',', 'I', 'got', 'away', 'from', 'Grandma', 'I', 'got', 'away', 'from', 'the', 'hare', ',', 'And', 'I', \"'\", 'll', 'get', 'away', 'from', 'you', ',', 'gray', 'wolf', '!', 'And', 'the', 'bun', 'rolled', 'away', 'before', 'the', 'wolf', 'even', 'saw', 'it', 'move', '!', 'The', 'bun', 'rolled', 'on', 'and', 'met', 'a', 'bear.', '\"', 'Little', 'bun', ',', 'little', 'bun', ',', 'I', 'shall', 'eat', 'you', 'up', ',', '\"', 'the', 'bear', 'said.', '\"', 'You', 'will', 'not', ',', 'pigeon', 'toes', '!', '\"', 'And', 'the', 'bun', 'sang', ':', 'I', 'was', 'scraped', 'from', 'the', 'cupboard', ',', 'Swept', 'from', 'the', 'bin', ',', 'Kneaded', 'with', 'sour', 'cream', ',', 'Fried', 'in', 'butter', ',', 'And', 'coolled', 'on', 'the', 'sill.', 'I', 'got', 'away', 'from', 'Grandpa', ',', 'I', 'got', 'away', 'from', 'Grandma', 'I', 'got', 'away', 'from', 'the', 'hare', ',', 'I', 'got', 'away', 'from', 'the', 'wolf', ',', 'And', 'I', \"'\", 'll', 'get', 'away', 'from', 'you', ',', 'big', 'bear', '!', 'And', 'again', 'the', 'bun', 'rolled', 'away', 'before', 'the', 'bear', 'even', 'saw', 'it', 'move', '!', 'The', 'bun', 'rolled', 'and', 'rolled', 'and', 'met', 'a', 'fox.', '\"', 'Hello', ',', 'little', 'bun', ',', 'how', 'nice', 'yor', 'are', '!', '\"', 'said', 'the', 'fox.', 'And', 'the', 'bun', 'sang', ':', 'I', 'was', 'scraped', 'from', 'the', 'cupboard', ',', 'Swept', 'from', 'the', 'bin', ',', 'Kneaded', 'with', 'sour', 'cream', ',', 'Fried', 'in', 'butter', ',', 'And', 'coolled', 'on', 'the', 'sill.', 'I', 'got', 'away', 'from', 'Grandpa', ',', 'I', 'got', 'away', 'from', 'Grandma', ',', 'I', 'got', 'away', 'from', 'the', 'hare', ',', 'I', 'got', 'away', 'from', 'the', 'wolf', ',', 'I', 'got', 'away', 'from', 'bear', ',', 'And', 'I', \"'\", 'll', 'get', 'away', 'from', 'you', ',', 'old', 'fox', '!', '\"', 'What', 'a', 'wonderful', 'song', '!', '\"', 'said', 'the', 'fox.', '\"', 'But', 'little', 'bun', ',', 'I', 'have', 'became', 'old', 'now', 'and', 'hard', 'of', 'hearing.', 'Come', 'sit', 'on', 'my', 'snout', 'and', 'sing', 'your', 'song', 'again', 'a', 'little', 'louder.', '\"', 'The', 'bun', 'jumped', 'up', 'on', 'the', 'fox', \"'\", 's', 'snout', 'and', 'sang', 'the', 'same', 'song.', '\"', 'Thank', 'you', ',', 'little', 'bun', ',', 'that', 'was', 'a', 'wonderful', 'song.', 'I', \"'\", 'd', 'like', 'to', 'hear', 'it', 'again.', 'Come', 'sit', 'on', 'my', 'tongue', 'and', 'sing', 'it', 'for', 'the', 'last', 'time', ',', '\"', 'said', 'the', 'fox', ',', 'sticking', 'out', 'her', 'tongue.', 'The', 'bun', 'foolishly', 'jumped', 'onto', 'her', 'tongue', 'and-', 'snatch', '!', '-', 'she', 'ate', 'it.']\n"
     ]
    }
   ],
   "source": [
    "print(ans15)"
   ]
  },
  {
   "cell_type": "code",
   "execution_count": 157,
   "metadata": {},
   "outputs": [
    {
     "name": "stdout",
     "output_type": "stream",
     "text": [
      "Once there lived an old man and old woman.The old man said, \" Old woman, bake me a bun. \" \" What can I make it from? I have no flour. \" \" Eh, eh, old woman! Scrape the cupboard, sweep the flour bin, and you will find enough flour. \" The old woman picked up a duster, scraped the cupboard, swept the flour bin and gathered about two handfuls of flour. She mixed the dough with sour cream, fried it in butter, and put the bun on the window sill to cool. The bun lay and lay there. Suddenly it rolled off the window sill to the bench, from the bench to the floor, from the floor to the door. Then it rolled over the threshold to the entrance hall, from the entrance hall to the porch, from the porch to the courtyard, from the courtyard trough the gate and on and on. The bun rolled along the road and met a hare. \" Little bun, little bun, I shall eat you up! \" said the hare. \" Don' t eat me, slant-eyed hare! I will sing you a song, \" said the bun, and sang: I was scraped from the cupboard, Swept from the bin, Kneaded with sour cream, Fried in butter, And coolled on the sill. I got away from Grandpa, I got away from Grandma And I' ll get away from you, hare! And the bun rolled away before the hare even saw it move! The bun rolled on and met a wolf. \" Little bun, little bun, I shall eat you up, \" said the wolf. \" Don' t eat me, gray wolf! \" said the bun. \" I will sing you a song. \" And the bun sang: I was scraped from the cupboard, Swept from the bin, Kneaded with sour cream, Fried in butter, And coolled on the sill. I got away from Grandpa, I got away from Grandma I got away from the hare, And I' ll get away from you, gray wolf! And the bun rolled away before the wolf even saw it move! The bun rolled on and met a bear. \" Little bun, little bun, I shall eat you up, \" the bear said. \" You will not, pigeon toes! \" And the bun sang: I was scraped from the cupboard, Swept from the bin, Kneaded with sour cream, Fried in butter, And coolled on the sill. I got away from Grandpa, I got away from Grandma I got away from the hare, I got away from the wolf, And I' ll get away from you, big bear! And again the bun rolled away before the bear even saw it move! The bun rolled and rolled and met a fox. \" Hello, little bun, how nice yor are! \" said the fox. And the bun sang: I was scraped from the cupboard, Swept from the bin, Kneaded with sour cream, Fried in butter, And coolled on the sill. I got away from Grandpa, I got away from Grandma, I got away from the hare, I got away from the wolf, I got away from bear, And I' ll get away from you, old fox! \" What a wonderful song! \" said the fox. \" But little bun, I have became old now and hard of hearing. Come sit on my snout and sing your song again a little louder. \" The bun jumped up on the fox' s snout and sang the same song. \" Thank you, little bun, that was a wonderful song. I' d like to hear it again. Come sit on my tongue and sing it for the last time, \" said the fox, sticking out her tongue. The bun foolishly jumped onto her tongue and- snatch! - she ate it.\n"
     ]
    }
   ],
   "source": [
    "print(ans16)"
   ]
  },
  {
   "cell_type": "code",
   "execution_count": 158,
   "metadata": {},
   "outputs": [
    {
     "name": "stdout",
     "output_type": "stream",
     "text": [
      "['Once', 'there', 'lived', 'an', 'old', 'man', 'and', 'old', 'woman.The', 'old', 'man', 'said', ',', '``', 'Old', 'woman', ',', 'bake', 'me', 'a', 'bun.', \"''\", '``', 'What', 'can', 'I', 'make', 'it', 'from', '?', 'I', 'have', 'no', 'flour.', \"''\", '``', 'Eh', ',', 'eh', ',', 'old', 'woman', '!', 'Scrape', 'the', 'cupboard', ',', 'sweep', 'the', 'flour', 'bin', ',', 'and', 'you', 'will', 'find', 'enough', 'flour.', \"''\", 'The', 'old', 'woman', 'picked', 'up', 'a', 'duster', ',', 'scraped', 'the', 'cupboard', ',', 'swept', 'the', 'flour', 'bin', 'and', 'gathered', 'about', 'two', 'handfuls', 'of', 'flour.', 'She', 'mixed', 'the', 'dough', 'with', 'sour', 'cream', ',', 'fried', 'it', 'in', 'butter', ',', 'and', 'put', 'the', 'bun', 'on', 'the', 'window', 'sill', 'to', 'cool.', 'The', 'bun', 'lay', 'and', 'lay', 'there.', 'Suddenly', 'it', 'rolled', 'off', 'the', 'window', 'sill', 'to', 'the', 'bench', ',', 'from', 'the', 'bench', 'to', 'the', 'floor', ',', 'from', 'the', 'floor', 'to', 'the', 'door.', 'Then', 'it', 'rolled', 'over', 'the', 'threshold', 'to', 'the', 'entrance', 'hall', ',', 'from', 'the', 'entrance', 'hall', 'to', 'the', 'porch', ',', 'from', 'the', 'porch', 'to', 'the', 'courtyard', ',', 'from', 'the', 'courtyard', 'trough', 'the', 'gate', 'and', 'on', 'and', 'on.', 'The', 'bun', 'rolled', 'along', 'the', 'road', 'and', 'met', 'a', 'hare.', '``', 'Little', 'bun', ',', 'little', 'bun', ',', 'I', 'shall', 'eat', 'you', 'up', '!', \"''\", 'said', 'the', 'hare.', '``', 'Do', \"n't\", 'eat', 'me', ',', 'slant-eyed', 'hare', '!', 'I', 'will', 'sing', 'you', 'a', 'song', ',', \"''\", 'said', 'the', 'bun', ',', 'and', 'sang', ':', 'I', 'was', 'scraped', 'from', 'the', 'cupboard', ',', 'Swept', 'from', 'the', 'bin', ',', 'Kneaded', 'with', 'sour', 'cream', ',', 'Fried', 'in', 'butter', ',', 'And', 'coolled', 'on', 'the', 'sill.', 'I', 'got', 'away', 'from', 'Grandpa', ',', 'I', 'got', 'away', 'from', 'Grandma', 'And', 'I', \"'ll\", 'get', 'away', 'from', 'you', ',', 'hare', '!', 'And', 'the', 'bun', 'rolled', 'away', 'before', 'the', 'hare', 'even', 'saw', 'it', 'move', '!', 'The', 'bun', 'rolled', 'on', 'and', 'met', 'a', 'wolf.', '``', 'Little', 'bun', ',', 'little', 'bun', ',', 'I', 'shall', 'eat', 'you', 'up', ',', \"''\", 'said', 'the', 'wolf.', '``', 'Do', \"n't\", 'eat', 'me', ',', 'gray', 'wolf', '!', \"''\", 'said', 'the', 'bun.', '``', 'I', 'will', 'sing', 'you', 'a', 'song.', \"''\", 'And', 'the', 'bun', 'sang', ':', 'I', 'was', 'scraped', 'from', 'the', 'cupboard', ',', 'Swept', 'from', 'the', 'bin', ',', 'Kneaded', 'with', 'sour', 'cream', ',', 'Fried', 'in', 'butter', ',', 'And', 'coolled', 'on', 'the', 'sill.', 'I', 'got', 'away', 'from', 'Grandpa', ',', 'I', 'got', 'away', 'from', 'Grandma', 'I', 'got', 'away', 'from', 'the', 'hare', ',', 'And', 'I', \"'ll\", 'get', 'away', 'from', 'you', ',', 'gray', 'wolf', '!', 'And', 'the', 'bun', 'rolled', 'away', 'before', 'the', 'wolf', 'even', 'saw', 'it', 'move', '!', 'The', 'bun', 'rolled', 'on', 'and', 'met', 'a', 'bear.', '``', 'Little', 'bun', ',', 'little', 'bun', ',', 'I', 'shall', 'eat', 'you', 'up', ',', \"''\", 'the', 'bear', 'said.', '``', 'You', 'will', 'not', ',', 'pigeon', 'toes', '!', \"''\", 'And', 'the', 'bun', 'sang', ':', 'I', 'was', 'scraped', 'from', 'the', 'cupboard', ',', 'Swept', 'from', 'the', 'bin', ',', 'Kneaded', 'with', 'sour', 'cream', ',', 'Fried', 'in', 'butter', ',', 'And', 'coolled', 'on', 'the', 'sill.', 'I', 'got', 'away', 'from', 'Grandpa', ',', 'I', 'got', 'away', 'from', 'Grandma', 'I', 'got', 'away', 'from', 'the', 'hare', ',', 'I', 'got', 'away', 'from', 'the', 'wolf', ',', 'And', 'I', \"'ll\", 'get', 'away', 'from', 'you', ',', 'big', 'bear', '!', 'And', 'again', 'the', 'bun', 'rolled', 'away', 'before', 'the', 'bear', 'even', 'saw', 'it', 'move', '!', 'The', 'bun', 'rolled', 'and', 'rolled', 'and', 'met', 'a', 'fox.', '``', 'Hello', ',', 'little', 'bun', ',', 'how', 'nice', 'yor', 'are', '!', \"''\", 'said', 'the', 'fox.', 'And', 'the', 'bun', 'sang', ':', 'I', 'was', 'scraped', 'from', 'the', 'cupboard', ',', 'Swept', 'from', 'the', 'bin', ',', 'Kneaded', 'with', 'sour', 'cream', ',', 'Fried', 'in', 'butter', ',', 'And', 'coolled', 'on', 'the', 'sill.', 'I', 'got', 'away', 'from', 'Grandpa', ',', 'I', 'got', 'away', 'from', 'Grandma', ',', 'I', 'got', 'away', 'from', 'the', 'hare', ',', 'I', 'got', 'away', 'from', 'the', 'wolf', ',', 'I', 'got', 'away', 'from', 'bear', ',', 'And', 'I', \"'ll\", 'get', 'away', 'from', 'you', ',', 'old', 'fox', '!', '``', 'What', 'a', 'wonderful', 'song', '!', \"''\", 'said', 'the', 'fox.', '``', 'But', 'little', 'bun', ',', 'I', 'have', 'became', 'old', 'now', 'and', 'hard', 'of', 'hearing.', 'Come', 'sit', 'on', 'my', 'snout', 'and', 'sing', 'your', 'song', 'again', 'a', 'little', 'louder.', \"''\", 'The', 'bun', 'jumped', 'up', 'on', 'the', 'fox', \"'s\", 'snout', 'and', 'sang', 'the', 'same', 'song.', '``', 'Thank', 'you', ',', 'little', 'bun', ',', 'that', 'was', 'a', 'wonderful', 'song.', 'I', \"'d\", 'like', 'to', 'hear', 'it', 'again.', 'Come', 'sit', 'on', 'my', 'tongue', 'and', 'sing', 'it', 'for', 'the', 'last', 'time', ',', \"''\", 'said', 'the', 'fox', ',', 'sticking', 'out', 'her', 'tongue.', 'The', 'bun', 'foolishly', 'jumped', 'onto', 'her', 'tongue', 'and-', 'snatch', '!', '-', 'she', 'ate', 'it', '.']\n"
     ]
    }
   ],
   "source": [
    "print(ans17)"
   ]
  },
  {
   "cell_type": "code",
   "execution_count": 159,
   "metadata": {},
   "outputs": [
    {
     "name": "stdout",
     "output_type": "stream",
     "text": [
      "['Once', 'there', 'lived', 'an', 'old', 'man', 'and', 'old', 'woman.The', 'old', 'man', 'said', ',', '\"', 'Old', 'woman', ',', 'bake', 'me', 'a', 'bun', '.', '\"', '\"', 'What', 'can', 'I', 'make', 'it', 'from', '?', 'I', 'have', 'no', 'flour', '.', '\"', '\"', 'Eh', ',', 'eh', ',', 'old', 'woman', '!', 'Scrape', 'the', 'cupboard', ',', 'sweep', 'the', 'flour', 'bin', ',', 'and', 'you', 'will', 'find', 'enough', 'flour', '.', '\"', 'The', 'old', 'woman', 'picked', 'up', 'a', 'duster', ',', 'scraped', 'the', 'cupboard', ',', 'swept', 'the', 'flour', 'bin', 'and', 'gathered', 'about', 'two', 'handfuls', 'of', 'flour', '.', 'She', 'mixed', 'the', 'dough', 'with', 'sour', 'cream', ',', 'fried', 'it', 'in', 'butter', ',', 'and', 'put', 'the', 'bun', 'on', 'the', 'window', 'sill', 'to', 'cool', '.', 'The', 'bun', 'lay', 'and', 'lay', 'there', '.', 'Suddenly', 'it', 'rolled', 'off', 'the', 'window', 'sill', 'to', 'the', 'bench', ',', 'from', 'the', 'bench', 'to', 'the', 'floor', ',', 'from', 'the', 'floor', 'to', 'the', 'door', '.', 'Then', 'it', 'rolled', 'over', 'the', 'threshold', 'to', 'the', 'entrance', 'hall', ',', 'from', 'the', 'entrance', 'hall', 'to', 'the', 'porch', ',', 'from', 'the', 'porch', 'to', 'the', 'courtyard', ',', 'from', 'the', 'courtyard', 'trough', 'the', 'gate', 'and', 'on', 'and', 'on', '.', 'The', 'bun', 'rolled', 'along', 'the', 'road', 'and', 'met', 'a', 'hare', '.', '\"', 'Little', 'bun', ',', 'little', 'bun', ',', 'I', 'shall', 'eat', 'you', 'up', '!', '\"', 'said', 'the', 'hare', '.', '\"', \"Don't\", 'eat', 'me', ',', 'slant-eyed', 'hare', '!', 'I', 'will', 'sing', 'you', 'a', 'song', ',', '\"', 'said', 'the', 'bun', ',', 'and', 'sang', ':', 'I', 'was', 'scraped', 'from', 'the', 'cupboard', ',', 'Swept', 'from', 'the', 'bin', ',', 'Kneaded', 'with', 'sour', 'cream', ',', 'Fried', 'in', 'butter', ',', 'And', 'coolled', 'on', 'the', 'sill', '.', 'I', 'got', 'away', 'from', 'Grandpa', ',', 'I', 'got', 'away', 'from', 'Grandma', 'And', \"I'll\", 'get', 'away', 'from', 'you', ',', 'hare', '!', 'And', 'the', 'bun', 'rolled', 'away', 'before', 'the', 'hare', 'even', 'saw', 'it', 'move', '!', 'The', 'bun', 'rolled', 'on', 'and', 'met', 'a', 'wolf', '.', '\"', 'Little', 'bun', ',', 'little', 'bun', ',', 'I', 'shall', 'eat', 'you', 'up', ',', '\"', 'said', 'the', 'wolf', '.', '\"', \"Don't\", 'eat', 'me', ',', 'gray', 'wolf', '!', '\"', 'said', 'the', 'bun', '.', '\"', 'I', 'will', 'sing', 'you', 'a', 'song', '.', '\"', 'And', 'the', 'bun', 'sang', ':', 'I', 'was', 'scraped', 'from', 'the', 'cupboard', ',', 'Swept', 'from', 'the', 'bin', ',', 'Kneaded', 'with', 'sour', 'cream', ',', 'Fried', 'in', 'butter', ',', 'And', 'coolled', 'on', 'the', 'sill', '.', 'I', 'got', 'away', 'from', 'Grandpa', ',', 'I', 'got', 'away', 'from', 'Grandma', 'I', 'got', 'away', 'from', 'the', 'hare', ',', 'And', \"I'll\", 'get', 'away', 'from', 'you', ',', 'gray', 'wolf', '!', 'And', 'the', 'bun', 'rolled', 'away', 'before', 'the', 'wolf', 'even', 'saw', 'it', 'move', '!', 'The', 'bun', 'rolled', 'on', 'and', 'met', 'a', 'bear', '.', '\"', 'Little', 'bun', ',', 'little', 'bun', ',', 'I', 'shall', 'eat', 'you', 'up', ',', '\"', 'the', 'bear', 'said', '.', '\"', 'You', 'will', 'not', ',', 'pigeon', 'toes', '!', '\"', 'And', 'the', 'bun', 'sang', ':', 'I', 'was', 'scraped', 'from', 'the', 'cupboard', ',', 'Swept', 'from', 'the', 'bin', ',', 'Kneaded', 'with', 'sour', 'cream', ',', 'Fried', 'in', 'butter', ',', 'And', 'coolled', 'on', 'the', 'sill', '.', 'I', 'got', 'away', 'from', 'Grandpa', ',', 'I', 'got', 'away', 'from', 'Grandma', 'I', 'got', 'away', 'from', 'the', 'hare', ',', 'I', 'got', 'away', 'from', 'the', 'wolf', ',', 'And', \"I'll\", 'get', 'away', 'from', 'you', ',', 'big', 'bear', '!', 'And', 'again', 'the', 'bun', 'rolled', 'away', 'before', 'the', 'bear', 'even', 'saw', 'it', 'move', '!', 'The', 'bun', 'rolled', 'and', 'rolled', 'and', 'met', 'a', 'fox', '.', '\"', 'Hello', ',', 'little', 'bun', ',', 'how', 'nice', 'yor', 'are', '!', '\"', 'said', 'the', 'fox', '.', 'And', 'the', 'bun', 'sang', ':', 'I', 'was', 'scraped', 'from', 'the', 'cupboard', ',', 'Swept', 'from', 'the', 'bin', ',', 'Kneaded', 'with', 'sour', 'cream', ',', 'Fried', 'in', 'butter', ',', 'And', 'coolled', 'on', 'the', 'sill', '.', 'I', 'got', 'away', 'from', 'Grandpa', ',', 'I', 'got', 'away', 'from', 'Grandma', ',', 'I', 'got', 'away', 'from', 'the', 'hare', ',', 'I', 'got', 'away', 'from', 'the', 'wolf', ',', 'I', 'got', 'away', 'from', 'bear', ',', 'And', \"I'll\", 'get', 'away', 'from', 'you', ',', 'old', 'fox', '!', '\"', 'What', 'a', 'wonderful', 'song', '!', '\"', 'said', 'the', 'fox', '.', '\"', 'But', 'little', 'bun', ',', 'I', 'have', 'became', 'old', 'now', 'and', 'hard', 'of', 'hearing', '.', 'Come', 'sit', 'on', 'my', 'snout', 'and', 'sing', 'your', 'song', 'again', 'a', 'little', 'louder', '.', '\"', 'The', 'bun', 'jumped', 'up', 'on', 'the', \"fox's\", 'snout', 'and', 'sang', 'the', 'same', 'song', '.', '\"', 'Thank', 'you', ',', 'little', 'bun', ',', 'that', 'was', 'a', 'wonderful', 'song', '.', \"I'd\", 'like', 'to', 'hear', 'it', 'again', '.', 'Come', 'sit', 'on', 'my', 'tongue', 'and', 'sing', 'it', 'for', 'the', 'last', 'time', ',', '\"', 'said', 'the', 'fox', ',', 'sticking', 'out', 'her', 'tongue', '.', 'The', 'bun', 'foolishly', 'jumped', 'onto', 'her', 'tongue', 'and', '-', 'snatch', '!', '-', 'she', 'ate', 'it', '.']\n"
     ]
    }
   ],
   "source": [
    "print(ans18)"
   ]
  },
  {
   "cell_type": "code",
   "execution_count": 160,
   "metadata": {},
   "outputs": [
    {
     "name": "stdout",
     "output_type": "stream",
     "text": [
      "['Once', 'there', 'lived', 'an', 'old', 'man', 'and', 'old', 'woman.The', 'old', 'man', 'said,', '\"Old', 'woman,', 'bake', 'me', 'a', 'bun.\"', '\"What', 'can', 'I', 'make', 'it', 'from?', 'I', 'have', 'no', 'flour.\"', '\"Eh,', 'eh,', 'old', 'woman!', 'Scrape', 'the', 'cupboard,', 'sweep', 'the', 'flour', 'bin,', 'and', 'you', 'will', 'find', 'enough', 'flour.\"', 'The', 'old', 'woman', 'picked', 'up', 'a', 'duster,', 'scraped', 'the', 'cupboard,', 'swept', 'the', 'flour', 'bin', 'and', 'gathered', 'about', 'two', 'handfuls', 'of', 'flour.', 'She', 'mixed', 'the', 'dough', 'with', 'sour', 'cream,', 'fried', 'it', 'in', 'butter,', 'and', 'put', 'the', 'bun', 'on', 'the', 'window', 'sill', 'to', 'cool.', 'The', 'bun', 'lay', 'and', 'lay', 'there.', 'Suddenly', 'it', 'rolled', 'off', 'the', 'window', 'sill', 'to', 'the', 'bench,', 'from', 'the', 'bench', 'to', 'the', 'floor,', 'from', 'the', 'floor', 'to', 'the', 'door.', 'Then', 'it', 'rolled', 'over', 'the', 'threshold', 'to', 'the', 'entrance', 'hall,', 'from', 'the', 'entrance', 'hall', 'to', 'the', 'porch,', 'from', 'the', 'porch', 'to', 'the', 'courtyard,', 'from', 'the', 'courtyard', 'trough', 'the', 'gate', 'and', 'on', 'and', 'on.', 'The', 'bun', 'rolled', 'along', 'the', 'road', 'and', 'met', 'a', 'hare.', '\"Little', 'bun,', 'little', 'bun,', 'I', 'shall', 'eat', 'you', 'up!\"', 'said', 'the', 'hare.', '\"Don\\'t', 'eat', 'me,', 'slant-eyed', 'hare!', 'I', 'will', 'sing', 'you', 'a', 'song,\"', 'said', 'the', 'bun,', 'and', 'sang:', 'I', 'was', 'scraped', 'from', 'the', 'cupboard,', 'Swept', 'from', 'the', 'bin,', 'Kneaded', 'with', 'sour', 'cream,', 'Fried', 'in', 'butter,', 'And', 'coolled', 'on', 'the', 'sill.', 'I', 'got', 'away', 'from', 'Grandpa,', 'I', 'got', 'away', 'from', 'Grandma', 'And', \"I'll\", 'get', 'away', 'from', 'you,', 'hare!', 'And', 'the', 'bun', 'rolled', 'away', 'before', 'the', 'hare', 'even', 'saw', 'it', 'move!', 'The', 'bun', 'rolled', 'on', 'and', 'met', 'a', 'wolf.', '\"Little', 'bun,', 'little', 'bun,', 'I', 'shall', 'eat', 'you', 'up,\"', 'said', 'the', 'wolf.', '\"Don\\'t', 'eat', 'me,', 'gray', 'wolf!\"', 'said', 'the', 'bun.', '\"I', 'will', 'sing', 'you', 'a', 'song.\"', 'And', 'the', 'bun', 'sang:', 'I', 'was', 'scraped', 'from', 'the', 'cupboard,', 'Swept', 'from', 'the', 'bin,', 'Kneaded', 'with', 'sour', 'cream,', 'Fried', 'in', 'butter,', 'And', 'coolled', 'on', 'the', 'sill.', 'I', 'got', 'away', 'from', 'Grandpa,', 'I', 'got', 'away', 'from', 'Grandma', 'I', 'got', 'away', 'from', 'the', 'hare,', 'And', \"I'll\", 'get', 'away', 'from', 'you,', 'gray', 'wolf!', 'And', 'the', 'bun', 'rolled', 'away', 'before', 'the', 'wolf', 'even', 'saw', 'it', 'move!', 'The', 'bun', 'rolled', 'on', 'and', 'met', 'a', 'bear.', '\"Little', 'bun,', 'little', 'bun,', 'I', 'shall', 'eat', 'you', 'up,\"', 'the', 'bear', 'said.', '\"You', 'will', 'not,', 'pigeon', 'toes!\"', 'And', 'the', 'bun', 'sang:', 'I', 'was', 'scraped', 'from', 'the', 'cupboard,', 'Swept', 'from', 'the', 'bin,', 'Kneaded', 'with', 'sour', 'cream,', 'Fried', 'in', 'butter,', 'And', 'coolled', 'on', 'the', 'sill.', 'I', 'got', 'away', 'from', 'Grandpa,', 'I', 'got', 'away', 'from', 'Grandma', 'I', 'got', 'away', 'from', 'the', 'hare,', 'I', 'got', 'away', 'from', 'the', 'wolf,', 'And', \"I'll\", 'get', 'away', 'from', 'you,', 'big', 'bear!', 'And', 'again', 'the', 'bun', 'rolled', 'away', 'before', 'the', 'bear', 'even', 'saw', 'it', 'move!', 'The', 'bun', 'rolled', 'and', 'rolled', 'and', 'met', 'a', 'fox.', '\"Hello,', 'little', 'bun,', 'how', 'nice', 'yor', 'are!\"', 'said', 'the', 'fox.', 'And', 'the', 'bun', 'sang:', 'I', 'was', 'scraped', 'from', 'the', 'cupboard,', 'Swept', 'from', 'the', 'bin,', 'Kneaded', 'with', 'sour', 'cream,', 'Fried', 'in', 'butter,', 'And', 'coolled', 'on', 'the', 'sill.', 'I', 'got', 'away', 'from', 'Grandpa,', 'I', 'got', 'away', 'from', 'Grandma,', 'I', 'got', 'away', 'from', 'the', 'hare,', 'I', 'got', 'away', 'from', 'the', 'wolf,', 'I', 'got', 'away', 'from', 'bear,', 'And', \"I'll\", 'get', 'away', 'from', 'you,', 'old', 'fox!', '\"What', 'a', 'wonderful', 'song!\"', 'said', 'the', 'fox.', '\"But', 'little', 'bun,', 'I', 'have', 'became', 'old', 'now', 'and', 'hard', 'of', 'hearing.', 'Come', 'sit', 'on', 'my', 'snout', 'and', 'sing', 'your', 'song', 'again', 'a', 'little', 'louder.\"', 'The', 'bun', 'jumped', 'up', 'on', 'the', \"fox's\", 'snout', 'and', 'sang', 'the', 'same', 'song.', '\"Thank', 'you,', 'little', 'bun,', 'that', 'was', 'a', 'wonderful', 'song.', \"I'd\", 'like', 'to', 'hear', 'it', 'again.', 'Come', 'sit', 'on', 'my', 'tongue', 'and', 'sing', 'it', 'for', 'the', 'last', 'time,\"', 'said', 'the', 'fox,', 'sticking', 'out', 'her', 'tongue.', 'The', 'bun', 'foolishly', 'jumped', 'onto', 'her', 'tongue', 'and-', 'snatch!-', 'she', 'ate', 'it.']\n"
     ]
    }
   ],
   "source": [
    "print(ans19)"
   ]
  },
  {
   "cell_type": "code",
   "execution_count": 161,
   "metadata": {},
   "outputs": [
    {
     "name": "stdout",
     "output_type": "stream",
     "text": [
      "['On', 'ce t', 'he', 're ', 'li', 'ved', ' an', ' old ', 'man', ' and', ' old ', 'wo', 'man.T', 'he', ' old ', 'man ', 'sa', 'id, ', '\"Old ', 'wo', 'man, ', 'ba', 'ke ', 'me', ' a ', 'bun.\" \"W', 'hat ', 'can', ' I ', 'ma', 'ke', ' it f', 'rom?', ' I ', 'ha', 've ', 'no f', 'lo', 'ur.\" ', '\"Eh,', ' eh,', ' old ', 'wo', 'man! Sc', 'ra', 'pe t', 'he ', 'cup', 'bo', 'ard, s', 'we', 'ep t', 'he f', 'lo', 'ur ', 'bin,', ' and', ' y', 'o', 'u ', 'will ', 'find', ' e', 'no', 'ugh f', 'lo', 'ur.\" T', 'he', ' old ', 'wo', 'man ', 'pic', 'ked', ' up', ' a ', 'dus', 'ter, sc', 'ra', 'ped t', 'he ', 'cup', 'bo', 'ard, s', 'wept t', 'he f', 'lo', 'ur ', 'bin', ' and ', 'gat', 'he', 'red', ' a', 'bo', 'ut t', 'wo ', 'hand', 'fuls', ' of f', 'lo', 'ur. S', 'he ', 'mi', 'xed t', 'he ', 'do', 'ugh ', 'with ', 'so', 'ur c', 're', 'am, f', 'ri', 'ed', ' it', ' in ', 'but', 'ter,', ' and ', 'put t', 'he ', 'bun', ' on t', 'he ', 'win', 'dow ', 'sill ', 'to ', 'co', 'ol. T', 'he ', 'bun ', 'la', 'y', ' and ', 'la', 'y t', 'he', 're. ', 'Sud', 'den', 'ly', ' it ', 'rol', 'led', ' off t', 'he ', 'win', 'dow ', 'sill ', 'to t', 'he ', 'bench, f', 'rom t', 'he ', 'bench ', 'to t', 'he f', 'lo', 'or, f', 'rom t', 'he f', 'lo', 'or ', 'to t', 'he ', 'do', 'or. T', 'hen', ' it ', 'rol', 'led', ' o', 'ver t', 'he th', 'res', 'hold ', 'to t', 'he', ' ent', 'ran', 'ce ', 'hall, f', 'rom t', 'he', ' ent', 'ran', 'ce ', 'hall ', 'to t', 'he ', 'porch, f', 'rom t', 'he ', 'porch ', 'to t', 'he ', 'co', 'ur', 'ty', 'ard, f', 'rom t', 'he ', 'co', 'ur', 'ty', 'ard t', 'ro', 'ugh t', 'he ', 'ga', 'te', ' and', ' on', ' and', ' on. T', 'he ', 'bun ', 'rol', 'led', ' a', 'long t', 'he ', 'ro', 'ad', ' and ', 'met', ' a ', 'ha', 're. \"', 'Litt', 'le ', 'bun, ', 'litt', 'le ', 'bun,', ' I s', 'hall', ' e', 'at', ' y', 'o', 'u', ' up!\" ', 'sa', 'id t', 'he ', 'ha', 're. \"', \"Don't\", ' e', 'at ', 'me, s', 'lant-', 'e', 'y', 'ed ', 'ha', 're!', ' I ', 'will ', 'sing', ' y', 'o', 'u', ' a ', 'song,\" ', 'sa', 'id t', 'he ', 'bun,', ' and ', 'sang:', ' I ', 'was sc', 'ra', 'ped f', 'rom t', 'he ', 'cup', 'bo', 'ard, S', 'wept f', 'rom t', 'he ', 'bin, K', 'ne', 'a', 'ded ', 'with ', 'so', 'ur c', 're', 'am, F', 'ri', 'ed', ' in ', 'but', 'ter,', ' And ', 'co', 'ol', 'led', ' on t', 'he ', 'sill.', ' I ', 'got', ' a', 'wa', 'y f', 'rom G', 'rand', 'pa,', ' I ', 'got', ' a', 'wa', 'y f', 'rom G', 'rand', 'ma', ' And', \" I'll \", 'get', ' a', 'wa', 'y f', 'rom', ' y', 'o', 'u, ', 'ha', 're!', ' And t', 'he ', 'bun ', 'rol', 'led', ' a', 'wa', 'y ', 'be', 'fo', 're t', 'he ', 'ha', 're', ' e', 'ven ', 'saw', ' it ', 'mo', 've! T', 'he ', 'bun ', 'rol', 'led', ' on', ' and ', 'met', ' a ', 'wolf. \"', 'Litt', 'le ', 'bun, ', 'litt', 'le ', 'bun,', ' I s', 'hall', ' e', 'at', ' y', 'o', 'u', ' up,\" ', 'sa', 'id t', 'he ', 'wolf. \"', \"Don't\", ' e', 'at ', 'me, g', 'ra', 'y ', 'wolf!\" ', 'sa', 'id t', 'he ', 'bun. ', '\"I ', 'will ', 'sing', ' y', 'o', 'u', ' a ', 'song.\"', ' And t', 'he ', 'bun ', 'sang:', ' I ', 'was sc', 'ra', 'ped f', 'rom t', 'he ', 'cup', 'bo', 'ard, S', 'wept f', 'rom t', 'he ', 'bin, K', 'ne', 'a', 'ded ', 'with ', 'so', 'ur c', 're', 'am, F', 'ri', 'ed', ' in ', 'but', 'ter,', ' And ', 'co', 'ol', 'led', ' on t', 'he ', 'sill.', ' I ', 'got', ' a', 'wa', 'y f', 'rom G', 'rand', 'pa,', ' I ', 'got', ' a', 'wa', 'y f', 'rom G', 'rand', 'ma', ' I ', 'got', ' a', 'wa', 'y f', 'rom t', 'he ', 'ha', 're,', ' And', \" I'll \", 'get', ' a', 'wa', 'y f', 'rom', ' y', 'o', 'u, g', 'ra', 'y ', 'wolf!', ' And t', 'he ', 'bun ', 'rol', 'led', ' a', 'wa', 'y ', 'be', 'fo', 're t', 'he ', 'wolf', ' e', 'ven ', 'saw', ' it ', 'mo', 've! T', 'he ', 'bun ', 'rol', 'led', ' on', ' and ', 'met', ' a ', 'be', 'ar. \"', 'Litt', 'le ', 'bun, ', 'litt', 'le ', 'bun,', ' I s', 'hall', ' e', 'at', ' y', 'o', 'u', ' up,\" t', 'he ', 'be', 'ar ', 'sa', 'id. ', '\"Y', 'o', 'u ', 'will ', 'not, ', 'pi', 'ge', 'on ', 'to', 'es!\"', ' And t', 'he ', 'bun ', 'sang:', ' I ', 'was sc', 'ra', 'ped f', 'rom t', 'he ', 'cup', 'bo', 'ard, S', 'wept f', 'rom t', 'he ', 'bin, K', 'ne', 'a', 'ded ', 'with ', 'so', 'ur c', 're', 'am, F', 'ri', 'ed', ' in ', 'but', 'ter,', ' And ', 'co', 'ol', 'led', ' on t', 'he ', 'sill.', ' I ', 'got', ' a', 'wa', 'y f', 'rom G', 'rand', 'pa,', ' I ', 'got', ' a', 'wa', 'y f', 'rom G', 'rand', 'ma', ' I ', 'got', ' a', 'wa', 'y f', 'rom t', 'he ', 'ha', 're,', ' I ', 'got', ' a', 'wa', 'y f', 'rom t', 'he ', 'wolf,', ' And', \" I'll \", 'get', ' a', 'wa', 'y f', 'rom', ' y', 'o', 'u, ', 'big ', 'be', 'ar!', ' And', ' a', 'ga', 'in t', 'he ', 'bun ', 'rol', 'led', ' a', 'wa', 'y ', 'be', 'fo', 're t', 'he ', 'be', 'ar', ' e', 'ven ', 'saw', ' it ', 'mo', 've! T', 'he ', 'bun ', 'rol', 'led', ' and ', 'rol', 'led', ' and ', 'met', ' a ', 'fox. \"', 'Hel', 'lo, ', 'litt', 'le ', 'bun, ', 'how ', 'ni', 'ce', ' y', 'or', ' a', 're!\" ', 'sa', 'id t', 'he ', 'fox.', ' And t', 'he ', 'bun ', 'sang:', ' I ', 'was sc', 'ra', 'ped f', 'rom t', 'he ', 'cup', 'bo', 'ard, S', 'wept f', 'rom t', 'he ', 'bin, K', 'ne', 'a', 'ded ', 'with ', 'so', 'ur c', 're', 'am, F', 'ri', 'ed', ' in ', 'but', 'ter,', ' And ', 'co', 'ol', 'led', ' on t', 'he ', 'sill.', ' I ', 'got', ' a', 'wa', 'y f', 'rom G', 'rand', 'pa,', ' I ', 'got', ' a', 'wa', 'y f', 'rom G', 'rand', 'ma,', ' I ', 'got', ' a', 'wa', 'y f', 'rom t', 'he ', 'ha', 're,', ' I ', 'got', ' a', 'wa', 'y f', 'rom t', 'he ', 'wolf,', ' I ', 'got', ' a', 'wa', 'y f', 'rom ', 'be', 'ar,', ' And', \" I'll \", 'get', ' a', 'wa', 'y f', 'rom', ' y', 'o', 'u,', ' old ', 'fox! \"W', 'hat', ' a ', 'won', 'der', 'ful ', 'song!\" ', 'sa', 'id t', 'he ', 'fox. \"', 'But ', 'litt', 'le ', 'bun,', ' I ', 'ha', 've ', 'be', 'ca', 'me', ' old ', 'now', ' and ', 'hard', ' of ', 'he', 'a', 'ring. ', 'Co', 'me ', 'sit', ' on ', 'my s', 'no', 'ut', ' and ', 'sing', ' y', 'o', 'ur ', 'song', ' a', 'ga', 'in', ' a ', 'litt', 'le ', 'lo', 'u', 'der.\" T', 'he ', 'bun j', 'um', 'ped', ' up', ' on t', 'he ', \"fox's s\", 'no', 'ut', ' and ', 'sang t', 'he ', 'sa', 'me ', 'song. \"T', 'hank', ' y', 'o', 'u, ', 'litt', 'le ', 'bun, t', 'hat ', 'was', ' a ', 'won', 'der', 'ful ', 'song.', \" I'd \", 'li', 'ke ', 'to ', 'he', 'ar', ' it', ' a', 'ga', 'in. ', 'Co', 'me ', 'sit', ' on ', 'my ', 'ton', 'gu', 'e', ' and ', 'sing', ' it ', 'for t', 'he ', 'last ', 'ti', 'me,\" ', 'sa', 'id t', 'he ', 'fox, s', 'tic', 'king', ' o', 'ut ', 'her ', 'ton', 'gu', 'e. T', 'he ', 'bun ', 'fo', 'o', 'lish', 'ly j', 'um', 'ped', ' on', 'to ', 'her ', 'ton', 'gu', 'e', ' and- s', 'natch!- s', 'he', ' a', 'te', ' it.\\n\\n']\n"
     ]
    }
   ],
   "source": [
    "print(ans20)\n"
   ]
  },
  {
   "cell_type": "code",
   "execution_count": 162,
   "metadata": {},
   "outputs": [
    {
     "name": "stdout",
     "output_type": "stream",
     "text": [
      "        УНИКАЛЬНЫЕ СЛОВА: 153\n",
      "              ВСЕГО СЛОВ: 598\n",
      "ЛЕКСИЧЕСКОЕ РАЗНООБРАЗИЕ: 0.25585284280936454\n"
     ]
    }
   ],
   "source": [
    "import string\n",
    "\n",
    "#Лексичечкое разнообразие колобка(eng)\n",
    "# tokens = text.split()\n",
    "# word_count = Counter(tokens)\n",
    "# for word, count in word_count.items():\n",
    "#     print(count, word)\n",
    "\n",
    "def clean(text):\n",
    "    table = str.maketrans(\"\", \"\", string.punctuation)\n",
    "    onlyword = text.translate(table)\n",
    "    return onlyword\n",
    "\n",
    "def diversity(text):\n",
    "    words = text.split()\n",
    "    unique_words = set(words)\n",
    "    print('        УНИКАЛЬНЫЕ СЛОВА:', len(unique_words))\n",
    "    print('              ВСЕГО СЛОВ:', len(words))\n",
    "    return len(unique_words) / len(words)\n",
    "\n",
    "onlyword = clean(text)\n",
    "diversity = diversity(onlyword)\n",
    "\n",
    "print('ЛЕКСИЧЕСКОЕ РАЗНООБРАЗИЕ:', diversity)\n"
   ]
  },
  {
   "cell_type": "code",
   "execution_count": 163,
   "metadata": {},
   "outputs": [
    {
     "name": "stdout",
     "output_type": "stream",
     "text": [
      "Once\n",
      " the\n",
      "re\n",
      " live\n",
      "d an old man and old woman.The\n",
      " old man said, \"Old woman, bake\n",
      " me\n",
      " a bun.\" \"What can I make\n",
      " it from? I have\n",
      " no flour.\" \"E\n",
      "h, e\n",
      "h, old woman! Scrape\n",
      " the\n",
      " cupboard, swe\n",
      "e\n",
      "p the\n",
      " flour bin, and you will find e\n",
      "nough flour.\" The\n",
      " old woman picke\n",
      "d up a duste\n",
      "r, scrape\n",
      "d the\n",
      " cupboard, swe\n",
      "pt the\n",
      " flour bin and gathe\n",
      "re\n",
      "d about two handfuls of flour. She\n",
      " mixe\n",
      "d the\n",
      " dough with sour cre\n",
      "am, frie\n",
      "d it in butte\n",
      "r, and put the\n",
      " bun on the\n",
      " window sill to cool. The\n",
      " bun lay and lay the\n",
      "re\n",
      ". Sudde\n",
      "nly it rolle\n",
      "d off the\n",
      " window sill to the\n",
      " be\n",
      "nch, from the\n",
      " be\n",
      "nch to the\n",
      " floor, from the\n",
      " floor to the\n",
      " door. The\n",
      "n it rolle\n",
      "d ove\n",
      "r the\n",
      " thre\n",
      "shold to the\n",
      " e\n",
      "ntrance\n",
      " hall, from the\n",
      " e\n",
      "ntrance\n",
      " hall to the\n",
      " porch, from the\n",
      " porch to the\n",
      " courtyard, from the\n",
      " courtyard trough the\n",
      " gate\n",
      " and on and on. The\n",
      " bun rolle\n",
      "d along the\n",
      " road and me\n",
      "t a hare\n",
      ". \"Little\n",
      " bun, little\n",
      " bun, I shall e\n",
      "at you up!\" said the\n",
      " hare\n",
      ". \"Don't e\n",
      "at me\n",
      ", slant-e\n",
      "ye\n",
      "d hare\n",
      "! I will sing you a song,\" said the\n",
      " bun, and sang: I was scrape\n",
      "d from the\n",
      " cupboard, Swe\n",
      "pt from the\n",
      " bin, Kne\n",
      "ade\n",
      "d with sour cre\n",
      "am, Frie\n",
      "d in butte\n",
      "r, And coolle\n",
      "d on the\n",
      " sill. I got away from Grandpa, I got away from Grandma And I'll ge\n",
      "t away from you, hare\n",
      "! And the\n",
      " bun rolle\n",
      "d away be\n",
      "fore\n",
      " the\n",
      " hare\n",
      " e\n",
      "ve\n",
      "n saw it move\n",
      "! The\n",
      " bun rolle\n",
      "d on and me\n",
      "t a wolf. \"Little\n",
      " bun, little\n",
      " bun, I shall e\n",
      "at you up,\" said the\n",
      " wolf. \"Don't e\n",
      "at me\n",
      ", gray wolf!\" said the\n",
      " bun. \"I will sing you a song.\" And the\n",
      " bun sang: I was scrape\n",
      "d from the\n",
      " cupboard, Swe\n",
      "pt from the\n",
      " bin, Kne\n",
      "ade\n",
      "d with sour cre\n",
      "am, Frie\n",
      "d in butte\n",
      "r, And coolle\n",
      "d on the\n",
      " sill. I got away from Grandpa, I got away from Grandma I got away from the\n",
      " hare\n",
      ", And I'll ge\n",
      "t away from you, gray wolf! And the\n",
      " bun rolle\n",
      "d away be\n",
      "fore\n",
      " the\n",
      " wolf e\n",
      "ve\n",
      "n saw it move\n",
      "! The\n",
      " bun rolle\n",
      "d on and me\n",
      "t a be\n",
      "ar. \"Little\n",
      " bun, little\n",
      " bun, I shall e\n",
      "at you up,\" the\n",
      " be\n",
      "ar said. \"You will not, pige\n",
      "on toe\n",
      "s!\" And the\n",
      " bun sang: I was scrape\n",
      "d from the\n",
      " cupboard, Swe\n",
      "pt from the\n",
      " bin, Kne\n",
      "ade\n",
      "d with sour cre\n",
      "am, Frie\n",
      "d in butte\n",
      "r, And coolle\n",
      "d on the\n",
      " sill. I got away from Grandpa, I got away from Grandma I got away from the\n",
      " hare\n",
      ", I got away from the\n",
      " wolf, And I'll ge\n",
      "t away from you, big be\n",
      "ar! And again the\n",
      " bun rolle\n",
      "d away be\n",
      "fore\n",
      " the\n",
      " be\n",
      "ar e\n",
      "ve\n",
      "n saw it move\n",
      "! The\n",
      " bun rolle\n",
      "d and rolle\n",
      "d and me\n",
      "t a fox. \"He\n",
      "llo, little\n",
      " bun, how nice\n",
      " yor are\n",
      "!\" said the\n",
      " fox. And the\n",
      " bun sang: I was scrape\n",
      "d from the\n",
      " cupboard, Swe\n",
      "pt from the\n",
      " bin, Kne\n",
      "ade\n",
      "d with sour cre\n",
      "am, Frie\n",
      "d in butte\n",
      "r, And coolle\n",
      "d on the\n",
      " sill. I got away from Grandpa, I got away from Grandma, I got away from the\n",
      " hare\n",
      ", I got away from the\n",
      " wolf, I got away from be\n",
      "ar, And I'll ge\n",
      "t away from you, old fox! \"What a wonde\n",
      "rful song!\" said the\n",
      " fox. \"But little\n",
      " bun, I have\n",
      " be\n",
      "came\n",
      " old now and hard of he\n",
      "aring. Come\n",
      " sit on my snout and sing your song again a little\n",
      " loude\n",
      "r.\" The\n",
      " bun jumpe\n",
      "d up on the\n",
      " fox's snout and sang the\n",
      " same\n",
      " song. \"Thank you, little\n",
      " bun, that was a wonde\n",
      "rful song. I'd like\n",
      " to he\n",
      "ar it again. Come\n",
      " sit on my tongue\n",
      " and sing it for the\n",
      " last time\n",
      ",\" said the\n",
      " fox, sticking out he\n",
      "r tongue\n",
      ". The\n",
      " bun foolishly jumpe\n",
      "d onto he\n",
      "r tongue\n",
      " and- snatch!- she\n",
      " ate\n",
      " it.\n",
      "\n",
      "\n"
     ]
    }
   ],
   "source": [
    "def my_tokenizer(text):\n",
    "    tokens = []\n",
    "    current_token = \"\" #текущий токен, который заполняется char'ами, пока не встретит \"е\"\n",
    "\n",
    "    for char in text:\n",
    "        current_token += char\n",
    "        if char.lower() == 'e':\n",
    "            tokens.append(current_token)\n",
    "            current_token = \"\"\n",
    "\n",
    "    if current_token != \"\":\n",
    "        tokens.append(current_token)\n",
    "\n",
    "    return tokens\n",
    "#Мой токенайзер делает так, чтоб каждый токен заканчивался на \"е\" вне зависимомти от регистра\n",
    "\n",
    "tokens = my_tokenizer(text)\n",
    "for token in tokens:\n",
    "    print(token)"
   ]
  }
 ],
 "metadata": {
  "kernelspec": {
   "display_name": "Python 3",
   "language": "python",
   "name": "python3"
  },
  "language_info": {
   "codemirror_mode": {
    "name": "ipython",
    "version": 3
   },
   "file_extension": ".py",
   "mimetype": "text/x-python",
   "name": "python",
   "nbconvert_exporter": "python",
   "pygments_lexer": "ipython3",
   "version": "3.11.5"
  }
 },
 "nbformat": 4,
 "nbformat_minor": 2
}
