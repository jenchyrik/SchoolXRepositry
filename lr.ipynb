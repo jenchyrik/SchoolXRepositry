{
 "cells": [
  {
   "cell_type": "code",
   "execution_count": 36,
   "metadata": {},
   "outputs": [],
   "source": [
    "import pandas as pd\n",
    "import numpy as np\n",
    "from sklearn.metrics import mean_squared_error\n",
    "from sklearn.preprocessing import StandardScaler\n",
    "from sklearn.preprocessing import OneHotEncoder, LabelEncoder"
   ]
  },
  {
   "cell_type": "code",
   "execution_count": 37,
   "metadata": {},
   "outputs": [],
   "source": [
    "def mserror(y, y_pred):\n",
    "    \"\"\"\n",
    "    среднеквадратичную ошибку прогноза\n",
    "    \"\"\"\n",
    "    return np.mean((y - y_pred)**2)\n",
    "\n",
    "def normal_equation(X, y):\n",
    "    \"\"\"\n",
    "    вектор весов\n",
    "    \"\"\"\n",
    "    return np.dot(np.dot(np.linalg.inv(np.dot(X.T, X)), X.T), y)\n",
    "\n",
    "def linear_prediction(X, w):\n",
    "    \"\"\"\n",
    "    линейная комбинации столбцов\n",
    "    \"\"\"\n",
    "    return np.dot(X, w)\n",
    "\n",
    "\n",
    "def gradient_step(X, y, w, eta=0.01):\n",
    "    \n",
    "    n = len(y)\n",
    "    # Вычисляем градиент по всем объектам обучающей выборки\n",
    "    gradient = 2 * X.T.dot(X.dot(w) - y) / n\n",
    "    # Преобразуем веса к типу float64 перед обновлением\n",
    "    w = w.astype('float64')\n",
    "    # Обновляем веса\n",
    "    w -= eta * gradient\n",
    "    return w\n",
    "\n",
    "def gradient_descent(X, y, w_init, eta=1e-2, max_iter=1e4, min_weight_dist=1e-8, verbose=False):\n",
    "    \n",
    "\n",
    "    # Инициализируем расстояние между векторами весов на соседних итерациях\n",
    "    weight_dist = np.inf\n",
    "    # Инициализируем вектор весов модели начальными значениями\n",
    "    w = w_init\n",
    "    # Сюда будем записывать ошибки на каждой итерации\n",
    "    errors = []\n",
    "    # Счетчик итераций\n",
    "    iter_num = 0\n",
    "    \n",
    "    # Основной цикл, выполняется до выполнения условий остановки или достижения максимального числа итераций\n",
    "    while weight_dist > min_weight_dist and iter_num < max_iter:\n",
    "        # Создаем копию текущего вектора весов для отслеживания расстояния между итерациями\n",
    "        tmp_weights = w\n",
    "        # Выполняем шаг градиентного спуска и обновляем веса\n",
    "        w = gradient_step(X, y, w, eta)\n",
    "        # Вычисляем ошибку модели на текущей итерации и добавляем в список ошибок\n",
    "        errors.append(mserror(linear_prediction(X, w), y))\n",
    "        # Вычисляем евклидово расстояние между соседними векторами весов\n",
    "        weight_dist = np.linalg.norm(tmp_weights - w, 2)\n",
    "        # Увеличиваем значение счетчика итераций\n",
    "        iter_num += 1\n",
    "        \n",
    "        # Если флаг verbose установлен, печатаем информацию о текущей итерации\n",
    "        if verbose:\n",
    "            print(f\"Iteration {iter_num}: Error = {errors[-1]}\")\n",
    "    \n",
    "    # По завершении цикла возвращаем обновленный вектор весов и список ошибок на каждой итерации\n",
    "    return w, errors\n"
   ]
  },
  {
   "cell_type": "code",
   "execution_count": 38,
   "metadata": {},
   "outputs": [],
   "source": [
    "df = pd.read_csv(\"insurance - insurance.csv\")"
   ]
  },
  {
   "cell_type": "code",
   "execution_count": 39,
   "metadata": {},
   "outputs": [],
   "source": [
    "# Преобразование строковых значений в числовые\n",
    "label_encoder = LabelEncoder()\n",
    "X_cat_encoded = df[['sex','smoker','region']].apply(label_encoder.fit_transform)\n",
    "X_cat = X_cat_encoded.values\n",
    "\n",
    "# Горячее кодирование\n",
    "enc = OneHotEncoder()\n",
    "X_cat = enc.fit_transform(X_cat).toarray()\n",
    "\n",
    "# Соединение\n",
    "X = np.concatenate([X_num,X_cat],axis=1)\n",
    "df = df.assign(expenses=df['bmi'] )\n",
    "\n",
    "y = df['expenses'].values"
   ]
  },
  {
   "cell_type": "code",
   "execution_count": 40,
   "metadata": {},
   "outputs": [],
   "source": [
    "# Масштабирование (StandardScaler)\n"
   ]
  },
  {
   "cell_type": "code",
   "execution_count": 41,
   "metadata": {},
   "outputs": [],
   "source": [
    "# Добавляем вектора весов w\n",
    "X = np.hstack((np.ones((X.shape[0], 1)), X))\n"
   ]
  },
  {
   "cell_type": "code",
   "execution_count": 42,
   "metadata": {},
   "outputs": [],
   "source": [
    "\n",
    "# Обучение модели/расчет весов\n",
    "w_start = np.array([0] * X.shape[1])\n",
    "grad_desc_weights, grad_errors_by_iter = gradient_descent(X, y,w_start, eta=0.01, max_iter=1e5)"
   ]
  },
  {
   "cell_type": "code",
   "execution_count": 43,
   "metadata": {},
   "outputs": [],
   "source": [
    "y_pred = linear_prediction(X, grad_desc_weights)"
   ]
  },
  {
   "cell_type": "code",
   "execution_count": 44,
   "metadata": {},
   "outputs": [
    {
     "name": "stdout",
     "output_type": "stream",
     "text": [
      "RMSE : 5.656276043095251e-07\n",
      "MSE : 3.1993458675693266e-13\n"
     ]
    }
   ],
   "source": [
    "# RMSE\n",
    "rmse_val = mean_squared_error(y, y_pred,squared = False)\n",
    "print(f'RMSE : {rmse_val}')\n",
    "\n",
    "# MSE\n",
    "mse_val = mean_squared_error(y, y_pred,squared = True)\n",
    "print(f'MSE : {mse_val}')"
   ]
  },
  {
   "cell_type": "code",
   "execution_count": 45,
   "metadata": {},
   "outputs": [
    {
     "data": {
      "text/plain": [
       "array([ 3.06633968e+01,  2.45653023e-07,  6.09590712e+00,  7.49419216e-09,\n",
       "       -2.03967907e-08,  2.03967889e-08,  1.28036790e-08, -1.28036790e-08,\n",
       "       -1.22874496e-07, -1.21182031e-07,  2.40859773e-07, -6.01917770e-09])"
      ]
     },
     "execution_count": 45,
     "metadata": {},
     "output_type": "execute_result"
    }
   ],
   "source": [
    "grad_desc_weights"
   ]
  },
  {
   "cell_type": "code",
   "execution_count": 46,
   "metadata": {},
   "outputs": [
    {
     "name": "stdout",
     "output_type": "stream",
     "text": [
      "%pylab is deprecated, use %matplotlib inline and import the required libraries.\n",
      "Populating the interactive namespace from numpy and matplotlib\n"
     ]
    },
    {
     "data": {
      "text/plain": [
       "Text(0, 0.5, 'MSE')"
      ]
     },
     "execution_count": 46,
     "metadata": {},
     "output_type": "execute_result"
    },
    {
     "data": {
      "image/png": "[encoded data removed]",
      "text/plain": [
       "<Figure size 640x480 with 1 Axes>"
      ]
     },
     "metadata": {},
     "output_type": "display_data"
    }
   ],
   "source": [
    "%pylab inline\n",
    "plot(range(50), grad_errors_by_iter[:50])\n",
    "xlabel('Iteration number')\n",
    "ylabel('MSE')"
   ]
  },
  {
   "cell_type": "code",
   "execution_count": null,
   "metadata": {},
   "outputs": [],
   "source": []
  }
 ],
 "metadata": {
  "kernelspec": {
   "display_name": "Python 3",
   "language": "python",
   "name": "python3"
  },
  "language_info": {
   "codemirror_mode": {
    "name": "ipython",
    "version": 3
   },
   "file_extension": ".py",
   "mimetype": "text/x-python",
   "name": "python",
   "nbconvert_exporter": "python",
   "pygments_lexer": "ipython3",
   "version": "3.10.11"
  }
 },
 "nbformat": 4,
 "nbformat_minor": 2
}
