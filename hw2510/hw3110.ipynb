{
 "cells": [
  {
   "cell_type": "code",
   "execution_count": 54,
   "metadata": {},
   "outputs": [
    {
     "name": "stderr",
     "output_type": "stream",
     "text": [
      "[nltk_data] Downloading package punkt to\n",
      "[nltk_data]     C:\\Users\\Евгений\\AppData\\Roaming\\nltk_data...\n",
      "[nltk_data]   Package punkt is already up-to-date!\n",
      "[nltk_data] Downloading package stopwords to\n",
      "[nltk_data]     C:\\Users\\Евгений\\AppData\\Roaming\\nltk_data...\n",
      "[nltk_data]   Package stopwords is already up-to-date!\n",
      "[nltk_data] Downloading package wordnet to\n",
      "[nltk_data]     C:\\Users\\Евгений\\AppData\\Roaming\\nltk_data...\n",
      "[nltk_data]   Package wordnet is already up-to-date!\n"
     ]
    },
    {
     "data": {
      "text/plain": [
       "True"
      ]
     },
     "execution_count": 54,
     "metadata": {},
     "output_type": "execute_result"
    }
   ],
   "source": [
    "import nltk\n",
    "from nltk.corpus import stopwords\n",
    "from nltk.tokenize import word_tokenize\n",
    "from nltk.stem import WordNetLemmatizer\n",
    "import re\n",
    "\n",
    "\n",
    "import numpy as np\n",
    "from sklearn.feature_extraction.text import TfidfVectorizer\n",
    "from sklearn.metrics.pairwise import cosine_similarity\n",
    "\n",
    "nltk.download('punkt')\n",
    "nltk.download('stopwords')\n",
    "nltk.download('wordnet')"
   ]
  },
  {
   "cell_type": "code",
   "execution_count": 55,
   "metadata": {},
   "outputs": [],
   "source": [
    "with open('1.txt', 'r', encoding = 'utf-8') as book1:\n",
    "    text1 = book1.read()\n",
    "\n",
    "with open('2.txt', 'r', encoding = 'utf-8') as book2:\n",
    "    text2 = book2.read()\n",
    "\n",
    "with open('3.txt', 'r', encoding = 'utf-8') as book3:\n",
    "    text3 = book3.read()\n",
    "\n",
    "with open('4.txt', 'r', encoding = 'utf-8') as book4:\n",
    "    text4 = book4.read()\n",
    "\n",
    "with open('5.txt', 'r', encoding = 'utf-8') as book5:\n",
    "    text5 = book5.read()\n",
    "\n",
    "with open('6.txt', 'r', encoding = 'utf-8') as book6:\n",
    "    text6 = book6.read()\n",
    "\n"
   ]
  },
  {
   "cell_type": "code",
   "execution_count": 56,
   "metadata": {},
   "outputs": [],
   "source": [
    "def tokenize_and_lemmatize(text):\n",
    "    lemmatizer = WordNetLemmatizer()  # Инициализация лемматизатора\n",
    "    tokens = word_tokenize(text) \n",
    "    lemmatized_tokens = [lemmatizer.lemmatize(token.lower()) for token in tokens]\n",
    "    return lemmatized_tokens\n",
    "\n",
    "def compare_books(books):\n",
    "    vectorizer = TfidfVectorizer(tokenizer=tokenize_and_lemmatize)\n",
    "    X = vectorizer.fit_transform(books)\n",
    "\n",
    "    similarities = cosine_similarity(X)\n",
    "\n",
    "    return similarities\n"
   ]
  },
  {
   "cell_type": "code",
   "execution_count": 59,
   "metadata": {},
   "outputs": [
    {
     "name": "stdout",
     "output_type": "stream",
     "text": [
      "Косинусное сходство между [0] и [1] = 0.7600385626893768\n",
      "Косинусное сходство между [0] и [2] = 0.7919484186104738\n",
      "Косинусное сходство между [0] и [3] = 0.801165597921731\n",
      "Косинусное сходство между [0] и [4] = 0.7914518887808655\n",
      "Косинусное сходство между [0] и [5] = 0.6652105751007585\n",
      "Косинусное сходство между [1] и [2] = 0.9570492711067664\n",
      "Косинусное сходство между [1] и [3] = 0.8829560492463578\n",
      "Косинусное сходство между [1] и [4] = 0.932667255130353\n",
      "Косинусное сходство между [1] и [5] = 0.895270472212286\n",
      "Косинусное сходство между [2] и [3] = 0.9290436657019715\n",
      "Косинусное сходство между [2] и [4] = 0.9844079529932971\n",
      "Косинусное сходство между [2] и [5] = 0.8913253424665009\n",
      "Косинусное сходство между [3] и [4] = 0.9367065551963859\n",
      "Косинусное сходство между [3] и [5] = 0.7939548093907443\n",
      "Косинусное сходство между [4] и [5] = 0.8651537216761387\n"
     ]
    }
   ],
   "source": [
    "\n",
    "\n",
    "book_texts = [text1, text2, text3, text4, text5, text6]\n",
    "similarity_matrix = compare_books(book_texts)\n",
    "\n",
    "for i in range(len(similarity_matrix)):\n",
    "    for j in range(i+1, len(similarity_matrix)):\n",
    "        print(f\"Косинусное сходство между {[i]} и {[j]} = {similarity_matrix[i][j]}\")\n",
    "\n"
   ]
  }
 ],
 "metadata": {
  "kernelspec": {
   "display_name": "Python 3",
   "language": "python",
   "name": "python3"
  },
  "language_info": {
   "codemirror_mode": {
    "name": "ipython",
    "version": 3
   },
   "file_extension": ".py",
   "mimetype": "text/x-python",
   "name": "python",
   "nbconvert_exporter": "python",
   "pygments_lexer": "ipython3",
   "version": "3.11.5"
  }
 },
 "nbformat": 4,
 "nbformat_minor": 2
}
