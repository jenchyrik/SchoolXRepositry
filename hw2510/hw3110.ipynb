{
 "cells": [
  {
   "cell_type": "code",
   "execution_count": 44,
   "metadata": {},
   "outputs": [
    {
     "name": "stderr",
     "output_type": "stream",
     "text": [
      "[nltk_data] Downloading package punkt to\n",
      "[nltk_data]     C:\\Users\\Евгений\\AppData\\Roaming\\nltk_data...\n",
      "[nltk_data]   Package punkt is already up-to-date!\n",
      "[nltk_data] Downloading package stopwords to\n",
      "[nltk_data]     C:\\Users\\Евгений\\AppData\\Roaming\\nltk_data...\n",
      "[nltk_data]   Package stopwords is already up-to-date!\n",
      "[nltk_data] Downloading package wordnet to\n",
      "[nltk_data]     C:\\Users\\Евгений\\AppData\\Roaming\\nltk_data...\n",
      "[nltk_data]   Package wordnet is already up-to-date!\n"
     ]
    },
    {
     "data": {
      "text/plain": [
       "True"
      ]
     },
     "execution_count": 44,
     "metadata": {},
     "output_type": "execute_result"
    }
   ],
   "source": [
    "import nltk\n",
    "from nltk.corpus import stopwords\n",
    "from nltk.tokenize import word_tokenize\n",
    "from nltk.stem import WordNetLemmatizer\n",
    "import re\n",
    "\n",
    "\n",
    "import numpy as np\n",
    "from sklearn.feature_extraction.text import TfidfVectorizer\n",
    "from sklearn.metrics.pairwise import cosine_similarity\n",
    "\n",
    "nltk.download('punkt')\n",
    "nltk.download('stopwords')\n",
    "nltk.download('wordnet')"
   ]
  },
  {
   "cell_type": "code",
   "execution_count": 45,
   "metadata": {},
   "outputs": [],
   "source": [
    "with open('1.txt', 'r', encoding = 'utf-8') as book1:\n",
    "    text1 = book1.read()\n",
    "\n",
    "with open('2.txt', 'r', encoding = 'utf-8') as book2:\n",
    "    text2 = book2.read()\n",
    "\n",
    "with open('3.txt', 'r', encoding = 'utf-8') as book3:\n",
    "    text3 = book3.read()\n",
    "\n",
    "with open('4.txt', 'r', encoding = 'utf-8') as book4:\n",
    "    text4 = book4.read()\n",
    "\n",
    "with open('5.txt', 'r', encoding = 'utf-8') as book5:\n",
    "    text5 = book5.read()\n",
    "\n",
    "with open('6.txt', 'r', encoding = 'utf-8') as book6:\n",
    "    text6 = book6.read()\n",
    "\n"
   ]
  },
  {
   "cell_type": "code",
   "execution_count": 46,
   "metadata": {},
   "outputs": [],
   "source": [
    "def tokenize_and_lemmatize(text):\n",
    "    lemmatizer = WordNetLemmatizer()  # Инициализация лемматизатора\n",
    "    tokens = word_tokenize(text) \n",
    "    lemmatized_tokens = [lemmatizer.lemmatize(token.lower()) for token in tokens]\n",
    "    return lemmatized_tokens\n",
    "\n",
    "def compare_books(books):\n",
    "    vectorizer = TfidfVectorizer(tokenizer=tokenize_and_lemmatize)\n",
    "    X = vectorizer.fit_transform(books)\n",
    "\n",
    "    similarities = cosine_similarity(X)\n",
    "\n",
    "    return similarities\n"
   ]
  },
  {
   "cell_type": "code",
   "execution_count": 47,
   "metadata": {},
   "outputs": [
    {
     "name": "stdout",
     "output_type": "stream",
     "text": [
      "Матрица косинусового сходства книг:\n",
      "[[1.         0.76003856 0.79194842 0.8011656  0.79145189 0.66521058]\n",
      " [0.76003856 1.         0.95704927 0.88295605 0.93266726 0.89527047]\n",
      " [0.79194842 0.95704927 1.         0.92904367 0.98440795 0.89132534]\n",
      " [0.8011656  0.88295605 0.92904367 1.         0.93670656 0.79395481]\n",
      " [0.79145189 0.93266726 0.98440795 0.93670656 1.         0.86515372]\n",
      " [0.66521058 0.89527047 0.89132534 0.79395481 0.86515372 1.        ]]\n"
     ]
    }
   ],
   "source": [
    "book_texts = [text1, text2, text3, text4, text5, text6]\n",
    "similarity_matrix = compare_books(book_texts)\n",
    "print(\"Матрица косинусового сходства книг:\")\n",
    "print(similarity_matrix)\n"
   ]
  }
 ],
 "metadata": {
  "kernelspec": {
   "display_name": "Python 3",
   "language": "python",
   "name": "python3"
  },
  "language_info": {
   "codemirror_mode": {
    "name": "ipython",
    "version": 3
   },
   "file_extension": ".py",
   "mimetype": "text/x-python",
   "name": "python",
   "nbconvert_exporter": "python",
   "pygments_lexer": "ipython3",
   "version": "3.11.5"
  }
 },
 "nbformat": 4,
 "nbformat_minor": 2
}
