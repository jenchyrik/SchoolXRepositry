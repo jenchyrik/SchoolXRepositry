{
 "cells": [
  {
   "cell_type": "code",
   "execution_count": 6,
   "metadata": {},
   "outputs": [],
   "source": [
    "import nltk\n",
    "sentence = [\n",
    "    (\"a\", \"DT\"),\n",
    "    (\"clever\", \"JJ\"),\n",
    "    (\"fox\", \"NN\"),\n",
    "    (\"was\", \"VBR\"),\n",
    "    (\"jumping\", \"VBR\"),\n",
    "    (\"over\", \"IN\"),\n",
    "    (\"the\", \"DT\"),\n",
    "    (\"wall\", \"NN\")\n",
    "]\n",
    "grammar = \"NP:{<DT>?<JJ>*<NN>}\"\n",
    "Reg_parser = nltk.RegexpParser(grammar)\n",
    "Reg_parser.parse(sentence)\n",
    "Output = Reg_parser.parse(sentence)\n",
    "Output.draw()"
   ]
  },
  {
   "cell_type": "code",
   "execution_count": null,
   "metadata": {},
   "outputs": [],
   "source": []
  }
 ],
 "metadata": {
  "kernelspec": {
   "display_name": "Python 3",
   "language": "python",
   "name": "python3"
  },
  "language_info": {
   "codemirror_mode": {
    "name": "ipython",
    "version": 3
   },
   "file_extension": ".py",
   "mimetype": "text/x-python",
   "name": "python",
   "nbconvert_exporter": "python",
   "pygments_lexer": "ipython3",
   "version": "3.11.5"
  }
 },
 "nbformat": 4,
 "nbformat_minor": 2
}
