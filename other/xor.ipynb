{
 "cells": [
  {
   "cell_type": "code",
   "execution_count": 4,
   "metadata": {},
   "outputs": [
    {
     "name": "stdout",
     "output_type": "stream",
     "text": [
      "[[0.96587973]\n",
      " [0.50728953]\n",
      " [0.50679485]\n",
      " [0.03848697]]\n"
     ]
    }
   ],
   "source": [
    "import numpy as np\n",
    "\n",
    "X = np.array([[-1, -1], [-1, 1], [1, -1], [1, 1]])\n",
    "Y = np.array([[0], [1], [1], [0]])\n",
    "\n",
    "def sigmoid(x):\n",
    "    return 1 / (1 + np.exp(-x))\n",
    "\n",
    "def sigmoid_derivative(x):\n",
    "    return x * (1 - x)\n",
    "\n",
    "input_layer = 2\n",
    "hidden_layer = 3\n",
    "output_layer = 1\n",
    "\n",
    "weights_hidden = np.random.uniform(size=(input_layer, hidden_layer))\n",
    "bias_hidden = np.random.uniform(size=(1, hidden_layer))\n",
    "weights_output = np.random.uniform(size=(hidden_layer, output_layer))\n",
    "bias_output = np.random.uniform(size=(1, output_layer))\n",
    "\n",
    "for epoch in range(10000):\n",
    "    hidden_layer_activation = np.dot(X, weights_hidden)\n",
    "    hidden_layer_activation += bias_hidden\n",
    "    hidden_layer_output = sigmoid(hidden_layer_activation)\n",
    "\n",
    "    output_layer_activation = np.dot(hidden_layer_output, weights_output)\n",
    "    output_layer_activation += bias_output\n",
    "    predicted_output = sigmoid(output_layer_activation)\n",
    "\n",
    "    error = Y - predicted_output\n",
    "    d_predicted_output = error * sigmoid_derivative(predicted_output)\n",
    "\n",
    "    error_hidden_layer = d_predicted_output.dot(weights_output.T)\n",
    "    d_hidden_layer = error_hidden_layer * sigmoid_derivative(hidden_layer_output)\n",
    "\n",
    "    weights_output += hidden_layer_output.T.dot(d_predicted_output) * 0.1\n",
    "    bias_output += np.sum(d_predicted_output, axis=0, keepdims=True) * 0.1\n",
    "    weights_hidden += X.T.dot(d_hidden_layer) * 0.1\n",
    "    bias_hidden += np.sum(d_hidden_layer, axis=0, keepdims=True) * 0.1\n",
    "\n",
    "X_test = np.array([[0, 0], [0, 1], [1, 0], [1, 1]])\n",
    "hidden_layer_activation = np.dot(X_test, weights_hidden)\n",
    "hidden_layer_activation += bias_hidden\n",
    "hidden_layer_output = sigmoid(hidden_layer_activation)\n",
    "\n",
    "output_layer_activation = np.dot(hidden_layer_output, weights_output)\n",
    "output_layer_activation += bias_output\n",
    "predicted_output = sigmoid(output_layer_activation)\n",
    "\n",
    "print(predicted_output)"
   ]
  }
 ],
 "metadata": {
  "kernelspec": {
   "display_name": "Python 3",
   "language": "python",
   "name": "python3"
  },
  "language_info": {
   "codemirror_mode": {
    "name": "ipython",
    "version": 3
   },
   "file_extension": ".py",
   "mimetype": "text/x-python",
   "name": "python",
   "nbconvert_exporter": "python",
   "pygments_lexer": "ipython3",
   "version": "3.11.5"
  }
 },
 "nbformat": 4,
 "nbformat_minor": 2
}
