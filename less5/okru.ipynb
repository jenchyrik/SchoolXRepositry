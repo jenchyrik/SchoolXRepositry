{
 "cells": [
  {
   "cell_type": "code",
   "execution_count": null,
   "metadata": {},
   "outputs": [],
   "source": [
    "class Character():\n",
    "    def __init__(self, sila, lovcost, intelect, skorost, uron):\n",
    "        self.sila = sila\n",
    "        self.lovcost = lovcost\n",
    "        self.intelect = intelect\n",
    "        self.skorost = skorost\n",
    "        self.uron = uron\n",
    "    \n",
    "    def trade(self):\n",
    "        print('I trade')\n",
    "    def wait(self):\n",
    "        print('I wait')\n",
    "    def think(self):\n",
    "        print('I think')\n",
    "    def move(self): \n",
    "        print('I move')\n",
    "    def attack (self, other): \n",
    "        other.hp -= self.uron\n",
    "        print('I attack')"
   ]
  },
  {
   "cell_type": "code",
   "execution_count": null,
   "metadata": {},
   "outputs": [],
   "source": [
    "class Hero(Character):\n",
    "    def jump(self):\n",
    "        jump = self.sila * self.lovcost"
   ]
  },
  {
   "cell_type": "code",
   "execution_count": null,
   "metadata": {},
   "outputs": [],
   "source": [
    "class Villain(Character):\n",
    "    def run(self):\n",
    "        run = self.sila * self.skorost"
   ]
  },
  {
   "cell_type": "code",
   "execution_count": null,
   "metadata": {},
   "outputs": [],
   "source": [
    "class Policeman(Hero):"
   ]
  },
  {
   "cell_type": "code",
   "execution_count": null,
   "metadata": {},
   "outputs": [],
   "source": [
    "class Theif(Villain):"
   ]
  },
  {
   "cell_type": "code",
   "execution_count": null,
   "metadata": {},
   "outputs": [],
   "source": [
    "stepanich = \n",
    "ivanich = "
   ]
  }
 ],
 "metadata": {
  "kernelspec": {
   "display_name": "Python 3",
   "language": "python",
   "name": "python3"
  },
  "language_info": {
   "name": "python",
   "version": "3.11.5"
  },
  "orig_nbformat": 4
 },
 "nbformat": 4,
 "nbformat_minor": 2
}
