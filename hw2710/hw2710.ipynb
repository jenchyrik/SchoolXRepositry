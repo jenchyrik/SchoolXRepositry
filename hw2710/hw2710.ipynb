{
 "cells": [
  {
   "cell_type": "code",
   "execution_count": 18,
   "metadata": {},
   "outputs": [],
   "source": [
    "from scipy.stats import ttest_rel\n",
    "from scipy.stats import ttest_ind"
   ]
  },
  {
   "cell_type": "markdown",
   "metadata": {},
   "source": [
    "$H0$ - после редизайна время использования личного кабинета на сайте изменилось (увеличилось или уменьшилось)\\"
   ]
  },
  {
   "cell_type": "code",
   "execution_count": 19,
   "metadata": {},
   "outputs": [
    {
     "name": "stdout",
     "output_type": "stream",
     "text": [
      "Не отвергаем нулевую гипотезу. Время использования личного кабинета на сайте не изменилось.\n"
     ]
    }
   ],
   "source": [
    "time_before = [1732, 1301, 1540, 2247, 1632, 1550, 754, 1946, 1889, 2748, 1349, 1648, 1665, 2416, 1470, 1681, 1868, 1629, 1271, 1633, 2131, 942, 1599, 1127, 2200, 661, 1207, 1737, 2410, 1486]\n",
    "time_after = [955, 2577, 360, 139, 1618, 990, 644, 1796, 1487, 949, 472, 1906, 1758, 1258, 2554, 612, 309, 1864, 1294, 1487, 1164, 1559, 491, 2286, 1270, 2069, 1553, 1629, 1704, 1623]\n",
    "\n",
    "alpha = 0.05\n",
    "\n",
    "statistic, p_value = ttest_rel(time_before, time_after)\n",
    "\n",
    "if p_value < alpha:\n",
    "    print(\"Отвергаем нулевую гипотезу. Время использования личного кабинета на сайте изменилось.\")\n",
    "else:\n",
    "    print(\"Не отвергаем нулевую гипотезу. Время использования личного кабинета на сайте не изменилось.\")\n"
   ]
  },
  {
   "cell_type": "markdown",
   "metadata": {},
   "source": [
    "$H0$ - после нововведений количество используемых патронов изменилось\\\n"
   ]
  },
  {
   "cell_type": "code",
   "execution_count": 20,
   "metadata": {},
   "outputs": [
    {
     "name": "stdout",
     "output_type": "stream",
     "text": [
      "Отвергаем нулевую гипотезу. Количество используемых патронов изменилось.\n"
     ]
    }
   ],
   "source": [
    "bullets_before = [821, 1164, 598, 854, 455, 1220, 161, 1400, 479, 215, 564, 159, 920, 173, 276, 444, 273, 711, 291, 880, 892, 712, 16, 476, 498, 9, 1251, 938, 389, 513]\n",
    "bullets_after = [904, 220, 676, 459, 299, 659, 1698, 1120, 514, 1086, 1499, 1262, 829, 476, 1149, 996, 1247, 1117, 1324, 532, 1458, 898, 1837, 455, 1667, 898, 474, 558, 639, 1012]\n",
    "\n",
    "alpha = 0.05\n",
    "\n",
    "statistic, p_value = ttest_ind(bullets_before, bullets_after)\n",
    "\n",
    "if p_value < alpha:\n",
    "    print(\"Отвергаем нулевую гипотезу. Количество используемых патронов изменилось.\")\n",
    "else:\n",
    "    print(\"Не отвергаем нулевую гипотезу. Количество используемых патронов не изменилось.\")"
   ]
  }
 ],
 "metadata": {
  "kernelspec": {
   "display_name": "Python 3",
   "language": "python",
   "name": "python3"
  },
  "language_info": {
   "codemirror_mode": {
    "name": "ipython",
    "version": 3
   },
   "file_extension": ".py",
   "mimetype": "text/x-python",
   "name": "python",
   "nbconvert_exporter": "python",
   "pygments_lexer": "ipython3",
   "version": "3.11.5"
  }
 },
 "nbformat": 4,
 "nbformat_minor": 2
}
