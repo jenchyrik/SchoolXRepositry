{
 "cells": [
  {
   "cell_type": "code",
   "execution_count": 3,
   "metadata": {},
   "outputs": [
    {
     "name": "stdout",
     "output_type": "stream",
     "text": [
      "Note: you may need to restart the kernel to use updated packages.\n"
     ]
    },
    {
     "name": "stderr",
     "output_type": "stream",
     "text": [
      "ERROR: Could not find a version that satisfies the requirement transformers.utils (from versions: none)\n",
      "ERROR: No matching distribution found for transformers.utils\n",
      "\n",
      "[notice] A new release of pip is available: 23.0.1 -> 23.3.2\n",
      "[notice] To update, run: python.exe -m pip install --upgrade pip\n"
     ]
    },
    {
     "name": "stdout",
     "output_type": "stream",
     "text": [
      "Collecting https://github.com/explosion/spacy-models/releases/download/ru_core_news_sm-3.1.0/ru_core_news_sm-3.1.0.tar.gz\n",
      "  Downloading https://github.com/explosion/spacy-models/releases/download/ru_core_news_sm-3.1.0/ru_core_news_sm-3.1.0.tar.gz (15.9 MB)\n",
      "     ---------------------------------------- 0.0/15.9 MB ? eta -:--:--\n",
      "     --------------------------------------- 0.0/15.9 MB 960.0 kB/s eta 0:00:17\n",
      "     ---------------------------------------- 0.1/15.9 MB 1.2 MB/s eta 0:00:14\n",
      "      --------------------------------------- 0.2/15.9 MB 1.7 MB/s eta 0:00:10\n",
      "      --------------------------------------- 0.4/15.9 MB 2.1 MB/s eta 0:00:08\n",
      "     - -------------------------------------- 0.6/15.9 MB 2.5 MB/s eta 0:00:07\n",
      "     -- ------------------------------------- 0.8/15.9 MB 3.0 MB/s eta 0:00:06\n",
      "     -- ------------------------------------- 0.8/15.9 MB 3.0 MB/s eta 0:00:06\n",
      "     --- ------------------------------------ 1.2/15.9 MB 3.6 MB/s eta 0:00:05\n",
      "     --- ------------------------------------ 1.5/15.9 MB 3.6 MB/s eta 0:00:05\n",
      "     ---- ----------------------------------- 1.9/15.9 MB 4.0 MB/s eta 0:00:04\n",
      "     ----- ---------------------------------- 2.3/15.9 MB 4.5 MB/s eta 0:00:04\n",
      "     ------ --------------------------------- 2.5/15.9 MB 4.5 MB/s eta 0:00:03\n",
      "     ------- -------------------------------- 2.9/15.9 MB 4.9 MB/s eta 0:00:03\n",
      "     ------- -------------------------------- 2.9/15.9 MB 4.9 MB/s eta 0:00:03\n",
      "     ------- -------------------------------- 2.9/15.9 MB 4.4 MB/s eta 0:00:03\n",
      "     ------- -------------------------------- 3.0/15.9 MB 4.1 MB/s eta 0:00:04\n",
      "     ------- -------------------------------- 3.0/15.9 MB 4.1 MB/s eta 0:00:04\n",
      "     ------- -------------------------------- 3.0/15.9 MB 3.8 MB/s eta 0:00:04\n",
      "     ------- -------------------------------- 3.0/15.9 MB 3.8 MB/s eta 0:00:04\n",
      "     ------- -------------------------------- 3.0/15.9 MB 3.8 MB/s eta 0:00:04\n",
      "     --------- ------------------------------ 3.7/15.9 MB 3.9 MB/s eta 0:00:04\n",
      "     --------- ------------------------------ 3.9/15.9 MB 3.8 MB/s eta 0:00:04\n",
      "     ---------- ----------------------------- 4.0/15.9 MB 3.8 MB/s eta 0:00:04\n",
      "     ---------- ----------------------------- 4.2/15.9 MB 3.8 MB/s eta 0:00:04\n",
      "     ----------- ---------------------------- 4.4/15.9 MB 3.8 MB/s eta 0:00:03\n",
      "     ----------- ---------------------------- 4.6/15.9 MB 3.8 MB/s eta 0:00:03\n",
      "     ------------ --------------------------- 4.8/15.9 MB 3.9 MB/s eta 0:00:03\n",
      "     ------------ --------------------------- 5.0/15.9 MB 3.9 MB/s eta 0:00:03\n",
      "     ------------- -------------------------- 5.3/15.9 MB 4.0 MB/s eta 0:00:03\n",
      "     ------------- -------------------------- 5.6/15.9 MB 4.1 MB/s eta 0:00:03\n",
      "     -------------- ------------------------- 5.7/15.9 MB 4.1 MB/s eta 0:00:03\n",
      "     --------------- ------------------------ 6.0/15.9 MB 4.1 MB/s eta 0:00:03\n",
      "     --------------- ------------------------ 6.3/15.9 MB 4.2 MB/s eta 0:00:03\n",
      "     ---------------- ----------------------- 6.5/15.9 MB 4.2 MB/s eta 0:00:03\n",
      "     ---------------- ----------------------- 6.7/15.9 MB 4.2 MB/s eta 0:00:03\n",
      "     ----------------- ---------------------- 7.0/15.9 MB 4.2 MB/s eta 0:00:03\n",
      "     ------------------ --------------------- 7.2/15.9 MB 4.3 MB/s eta 0:00:03\n",
      "     ------------------ --------------------- 7.5/15.9 MB 4.3 MB/s eta 0:00:02\n",
      "     ------------------- -------------------- 7.8/15.9 MB 4.4 MB/s eta 0:00:02\n",
      "     -------------------- ------------------- 8.1/15.9 MB 4.4 MB/s eta 0:00:02\n",
      "     -------------------- ------------------- 8.3/15.9 MB 4.5 MB/s eta 0:00:02\n",
      "     --------------------- ------------------ 8.6/15.9 MB 4.5 MB/s eta 0:00:02\n",
      "     ---------------------- ----------------- 8.9/15.9 MB 4.5 MB/s eta 0:00:02\n",
      "     ---------------------- ----------------- 9.1/15.9 MB 4.5 MB/s eta 0:00:02\n",
      "     ----------------------- ---------------- 9.3/15.9 MB 4.6 MB/s eta 0:00:02\n",
      "     ------------------------ --------------- 9.6/15.9 MB 4.6 MB/s eta 0:00:02\n",
      "     ------------------------ --------------- 9.8/15.9 MB 4.6 MB/s eta 0:00:02\n",
      "     ------------------------- -------------- 10.1/15.9 MB 4.7 MB/s eta 0:00:02\n",
      "     -------------------------- ------------- 10.4/15.9 MB 4.8 MB/s eta 0:00:02\n",
      "     -------------------------- ------------- 10.7/15.9 MB 4.9 MB/s eta 0:00:02\n",
      "     --------------------------- ------------ 10.9/15.9 MB 4.8 MB/s eta 0:00:02\n",
      "     ---------------------------- ----------- 11.3/15.9 MB 5.0 MB/s eta 0:00:01\n",
      "     ---------------------------- ----------- 11.4/15.9 MB 4.9 MB/s eta 0:00:01\n",
      "     ----------------------------- ---------- 11.6/15.9 MB 5.0 MB/s eta 0:00:01\n",
      "     ------------------------------ --------- 11.9/15.9 MB 5.0 MB/s eta 0:00:01\n",
      "     ------------------------------ --------- 12.2/15.9 MB 4.8 MB/s eta 0:00:01\n",
      "     ------------------------------- -------- 12.5/15.9 MB 4.8 MB/s eta 0:00:01\n",
      "     -------------------------------- ------- 12.8/15.9 MB 4.9 MB/s eta 0:00:01\n",
      "     -------------------------------- ------- 13.1/15.9 MB 4.8 MB/s eta 0:00:01\n",
      "     --------------------------------- ------ 13.3/15.9 MB 5.6 MB/s eta 0:00:01\n",
      "     --------------------------------- ------ 13.4/15.9 MB 5.6 MB/s eta 0:00:01\n",
      "     --------------------------------- ------ 13.5/15.9 MB 5.3 MB/s eta 0:00:01\n",
      "     ---------------------------------- ----- 13.6/15.9 MB 5.2 MB/s eta 0:00:01\n",
      "     ---------------------------------- ----- 13.7/15.9 MB 5.1 MB/s eta 0:00:01\n",
      "     ---------------------------------- ----- 13.8/15.9 MB 5.0 MB/s eta 0:00:01\n",
      "     ---------------------------------- ----- 13.8/15.9 MB 5.0 MB/s eta 0:00:01\n",
      "     ----------------------------------- ---- 14.3/15.9 MB 5.0 MB/s eta 0:00:01\n",
      "     ----------------------------------- ---- 14.3/15.9 MB 5.0 MB/s eta 0:00:01\n",
      "     ------------------------------------ --- 14.3/15.9 MB 4.9 MB/s eta 0:00:01\n",
      "     ------------------------------------ --- 14.5/15.9 MB 4.8 MB/s eta 0:00:01\n",
      "     ------------------------------------ --- 14.6/15.9 MB 4.7 MB/s eta 0:00:01\n",
      "     ------------------------------------ --- 14.6/15.9 MB 4.6 MB/s eta 0:00:01\n",
      "     ------------------------------------ --- 14.7/15.9 MB 4.6 MB/s eta 0:00:01\n",
      "     ------------------------------------- -- 14.7/15.9 MB 4.6 MB/s eta 0:00:01\n",
      "     ------------------------------------- -- 14.8/15.9 MB 4.5 MB/s eta 0:00:01\n",
      "     ------------------------------------- -- 14.9/15.9 MB 4.4 MB/s eta 0:00:01\n",
      "     ------------------------------------- -- 15.0/15.9 MB 4.3 MB/s eta 0:00:01\n",
      "     ------------------------------------- -- 15.0/15.9 MB 4.3 MB/s eta 0:00:01\n",
      "     -------------------------------------- - 15.1/15.9 MB 4.2 MB/s eta 0:00:01\n",
      "     -------------------------------------- - 15.2/15.9 MB 4.1 MB/s eta 0:00:01\n",
      "     -------------------------------------- - 15.3/15.9 MB 4.1 MB/s eta 0:00:01\n",
      "     -------------------------------------- - 15.3/15.9 MB 4.0 MB/s eta 0:00:01\n",
      "     -------------------------------------- - 15.4/15.9 MB 4.0 MB/s eta 0:00:01\n",
      "     ---------------------------------------  15.5/15.9 MB 3.9 MB/s eta 0:00:01\n",
      "     ---------------------------------------  15.6/15.9 MB 3.9 MB/s eta 0:00:01\n",
      "     ---------------------------------------  15.7/15.9 MB 3.8 MB/s eta 0:00:01\n",
      "     ---------------------------------------  15.7/15.9 MB 3.8 MB/s eta 0:00:01\n",
      "     ---------------------------------------  15.8/15.9 MB 3.7 MB/s eta 0:00:01\n",
      "     ---------------------------------------  15.9/15.9 MB 3.7 MB/s eta 0:00:01\n",
      "     ---------------------------------------- 15.9/15.9 MB 3.6 MB/s eta 0:00:00\n",
      "  Preparing metadata (setup.py): started\n",
      "  Preparing metadata (setup.py): finished with status 'done'\n",
      "Requirement already satisfied: spacy<3.2.0,>=3.1.0 in c:\\users\\евгений\\appdata\\local\\programs\\python\\python310\\lib\\site-packages (from ru-core-news-sm==3.1.0) (3.1.7)\n",
      "Requirement already satisfied: pymorphy2>=0.9 in c:\\users\\евгений\\appdata\\local\\programs\\python\\python310\\lib\\site-packages (from ru-core-news-sm==3.1.0) (0.9.1)\n",
      "Requirement already satisfied: dawg-python>=0.7.1 in c:\\users\\евгений\\appdata\\local\\programs\\python\\python310\\lib\\site-packages (from pymorphy2>=0.9->ru-core-news-sm==3.1.0) (0.7.2)\n",
      "Requirement already satisfied: docopt>=0.6 in c:\\users\\евгений\\appdata\\local\\programs\\python\\python310\\lib\\site-packages (from pymorphy2>=0.9->ru-core-news-sm==3.1.0) (0.6.2)\n",
      "Requirement already satisfied: pymorphy2-dicts-ru<3.0,>=2.4 in c:\\users\\евгений\\appdata\\local\\programs\\python\\python310\\lib\\site-packages (from pymorphy2>=0.9->ru-core-news-sm==3.1.0) (2.4.417127.4579844)\n",
      "Requirement already satisfied: setuptools in c:\\users\\евгений\\appdata\\local\\programs\\python\\python310\\lib\\site-packages (from spacy<3.2.0,>=3.1.0->ru-core-news-sm==3.1.0) (65.5.0)\n",
      "Requirement already satisfied: typer<0.5.0,>=0.3.0 in c:\\users\\евгений\\appdata\\local\\programs\\python\\python310\\lib\\site-packages (from spacy<3.2.0,>=3.1.0->ru-core-news-sm==3.1.0) (0.4.2)\n",
      "Requirement already satisfied: pydantic!=1.8,!=1.8.1,<1.9.0,>=1.7.4 in c:\\users\\евгений\\appdata\\local\\programs\\python\\python310\\lib\\site-packages (from spacy<3.2.0,>=3.1.0->ru-core-news-sm==3.1.0) (1.8.2)\n",
      "Requirement already satisfied: tqdm<5.0.0,>=4.38.0 in c:\\users\\евгений\\appdata\\local\\programs\\python\\python310\\lib\\site-packages (from spacy<3.2.0,>=3.1.0->ru-core-news-sm==3.1.0) (4.66.1)\n",
      "Requirement already satisfied: srsly<3.0.0,>=2.4.1 in c:\\users\\евгений\\appdata\\local\\programs\\python\\python310\\lib\\site-packages (from spacy<3.2.0,>=3.1.0->ru-core-news-sm==3.1.0) (2.4.8)\n",
      "Requirement already satisfied: spacy-legacy<3.1.0,>=3.0.8 in c:\\users\\евгений\\appdata\\local\\programs\\python\\python310\\lib\\site-packages (from spacy<3.2.0,>=3.1.0->ru-core-news-sm==3.1.0) (3.0.12)\n",
      "Requirement already satisfied: blis<0.8.0,>=0.4.0 in c:\\users\\евгений\\appdata\\local\\programs\\python\\python310\\lib\\site-packages (from spacy<3.2.0,>=3.1.0->ru-core-news-sm==3.1.0) (0.7.11)\n",
      "Requirement already satisfied: smart-open<7.0.0,>=5.2.1 in c:\\users\\евгений\\appdata\\local\\programs\\python\\python310\\lib\\site-packages (from spacy<3.2.0,>=3.1.0->ru-core-news-sm==3.1.0) (6.4.0)\n",
      "Requirement already satisfied: jinja2 in c:\\users\\евгений\\appdata\\local\\programs\\python\\python310\\lib\\site-packages (from spacy<3.2.0,>=3.1.0->ru-core-news-sm==3.1.0) (3.1.2)\n",
      "Requirement already satisfied: requests<3.0.0,>=2.13.0 in c:\\users\\евгений\\appdata\\local\\programs\\python\\python310\\lib\\site-packages (from spacy<3.2.0,>=3.1.0->ru-core-news-sm==3.1.0) (2.31.0)\n",
      "Requirement already satisfied: catalogue<2.1.0,>=2.0.6 in c:\\users\\евгений\\appdata\\local\\programs\\python\\python310\\lib\\site-packages (from spacy<3.2.0,>=3.1.0->ru-core-news-sm==3.1.0) (2.0.10)\n",
      "Requirement already satisfied: murmurhash<1.1.0,>=0.28.0 in c:\\users\\евгений\\appdata\\local\\programs\\python\\python310\\lib\\site-packages (from spacy<3.2.0,>=3.1.0->ru-core-news-sm==3.1.0) (1.0.10)\n",
      "Requirement already satisfied: preshed<3.1.0,>=3.0.2 in c:\\users\\евгений\\appdata\\local\\programs\\python\\python310\\lib\\site-packages (from spacy<3.2.0,>=3.1.0->ru-core-news-sm==3.1.0) (3.0.9)\n",
      "Requirement already satisfied: wasabi<1.1.0,>=0.8.1 in c:\\users\\евгений\\appdata\\local\\programs\\python\\python310\\lib\\site-packages (from spacy<3.2.0,>=3.1.0->ru-core-news-sm==3.1.0) (0.10.1)\n",
      "Requirement already satisfied: packaging>=20.0 in c:\\users\\евгений\\appdata\\roaming\\python\\python310\\site-packages (from spacy<3.2.0,>=3.1.0->ru-core-news-sm==3.1.0) (23.2)\n",
      "Requirement already satisfied: pathy>=0.3.5 in c:\\users\\евгений\\appdata\\local\\programs\\python\\python310\\lib\\site-packages (from spacy<3.2.0,>=3.1.0->ru-core-news-sm==3.1.0) (0.10.3)\n",
      "Requirement already satisfied: cymem<2.1.0,>=2.0.2 in c:\\users\\евгений\\appdata\\local\\programs\\python\\python310\\lib\\site-packages (from spacy<3.2.0,>=3.1.0->ru-core-news-sm==3.1.0) (2.0.8)\n",
      "Requirement already satisfied: numpy>=1.15.0 in c:\\users\\евгений\\appdata\\local\\programs\\python\\python310\\lib\\site-packages (from spacy<3.2.0,>=3.1.0->ru-core-news-sm==3.1.0) (1.26.2)\n",
      "Requirement already satisfied: thinc<8.1.0,>=8.0.12 in c:\\users\\евгений\\appdata\\local\\programs\\python\\python310\\lib\\site-packages (from spacy<3.2.0,>=3.1.0->ru-core-news-sm==3.1.0) (8.0.17)\n",
      "Requirement already satisfied: typing-extensions>=3.7.4.3 in c:\\users\\евгений\\appdata\\local\\programs\\python\\python310\\lib\\site-packages (from pydantic!=1.8,!=1.8.1,<1.9.0,>=1.7.4->spacy<3.2.0,>=3.1.0->ru-core-news-sm==3.1.0) (4.8.0)\n",
      "Requirement already satisfied: idna<4,>=2.5 in c:\\users\\евгений\\appdata\\local\\programs\\python\\python310\\lib\\site-packages (from requests<3.0.0,>=2.13.0->spacy<3.2.0,>=3.1.0->ru-core-news-sm==3.1.0) (2.10)\n",
      "Requirement already satisfied: urllib3<3,>=1.21.1 in c:\\users\\евгений\\appdata\\local\\programs\\python\\python310\\lib\\site-packages (from requests<3.0.0,>=2.13.0->spacy<3.2.0,>=3.1.0->ru-core-news-sm==3.1.0) (2.1.0)\n",
      "Requirement already satisfied: charset-normalizer<4,>=2 in c:\\users\\евгений\\appdata\\local\\programs\\python\\python310\\lib\\site-packages (from requests<3.0.0,>=2.13.0->spacy<3.2.0,>=3.1.0->ru-core-news-sm==3.1.0) (3.3.2)\n",
      "Requirement already satisfied: certifi>=2017.4.17 in c:\\users\\евгений\\appdata\\local\\programs\\python\\python310\\lib\\site-packages (from requests<3.0.0,>=2.13.0->spacy<3.2.0,>=3.1.0->ru-core-news-sm==3.1.0) (2023.11.17)\n",
      "Requirement already satisfied: colorama in c:\\users\\евгений\\appdata\\roaming\\python\\python310\\site-packages (from tqdm<5.0.0,>=4.38.0->spacy<3.2.0,>=3.1.0->ru-core-news-sm==3.1.0) (0.4.6)\n",
      "Requirement already satisfied: click<9.0.0,>=7.1.1 in c:\\users\\евгений\\appdata\\local\\programs\\python\\python310\\lib\\site-packages (from typer<0.5.0,>=0.3.0->spacy<3.2.0,>=3.1.0->ru-core-news-sm==3.1.0) (8.1.7)\n",
      "Requirement already satisfied: MarkupSafe>=2.0 in c:\\users\\евгений\\appdata\\local\\programs\\python\\python310\\lib\\site-packages (from jinja2->spacy<3.2.0,>=3.1.0->ru-core-news-sm==3.1.0) (2.1.3)\n",
      "Note: you may need to restart the kernel to use updated packages.\n"
     ]
    },
    {
     "name": "stderr",
     "output_type": "stream",
     "text": [
      "\n",
      "[notice] A new release of pip is available: 23.0.1 -> 23.3.2\n",
      "[notice] To update, run: python.exe -m pip install --upgrade pip\n"
     ]
    }
   ],
   "source": [
    "%pip install -Uq transformers datasets transformers.utils scikit-learn pandas nltk torch tqdm tensorflow tensorflow.keras matplotlib\n",
    "%pip install https://github.com/explosion/spacy-models/releases/download/ru_core_news_sm-3.1.0/ru_core_news_sm-3.1.0.tar.gz"
   ]
  },
  {
   "cell_type": "code",
   "execution_count": 4,
   "metadata": {},
   "outputs": [
    {
     "name": "stdout",
     "output_type": "stream",
     "text": [
      "WARNING:tensorflow:From c:\\Users\\Евгений\\AppData\\Local\\Programs\\Python\\Python310\\lib\\site-packages\\keras\\src\\losses.py:2976: The name tf.losses.sparse_softmax_cross_entropy is deprecated. Please use tf.compat.v1.losses.sparse_softmax_cross_entropy instead.\n",
      "\n"
     ]
    },
    {
     "name": "stderr",
     "output_type": "stream",
     "text": [
      "[nltk_data] Downloading package stopwords to\n",
      "[nltk_data]     C:\\Users\\Евгений\\AppData\\Roaming\\nltk_data...\n",
      "[nltk_data]   Package stopwords is already up-to-date!\n"
     ]
    }
   ],
   "source": [
    "import pandas as pd\n",
    "import re\n",
    "import numpy as np\n",
    "import random\n",
    "from collections import Counter\n",
    "import warnings\n",
    "import matplotlib.pyplot as plt\n",
    "%matplotlib inline \n",
    "\n",
    "import spacy\n",
    "import nltk\n",
    "from nltk.tokenize import word_tokenize\n",
    "from nltk.stem.snowball import SnowballStemmer\n",
    "from nltk.corpus import stopwords\n",
    "\n",
    "import torch\n",
    "from transformers import AutoTokenizer, AutoModelForSequenceClassification\n",
    "import numpy as np\n",
    "\n",
    "import torch\n",
    "from transformers import  BertTokenizer, BertForSequenceClassification \n",
    "from sklearn.feature_extraction.text import TfidfVectorizer\n",
    "from sklearn.model_selection import train_test_split\n",
    "from sklearn.linear_model import LogisticRegression\n",
    "from sklearn.svm import SVC\n",
    "from sklearn.metrics import accuracy_score, classification_report, confusion_matrix\n",
    "\n",
    "import tensorflow as tf\n",
    "from tensorflow.keras.models import Sequential\n",
    "from tensorflow.keras.layers import Dense, Embedding, Conv1D, GlobalMaxPooling1D, Dropout \n",
    "from tensorflow.keras import utils\n",
    "from tensorflow.keras.preprocessing.sequence import pad_sequences\n",
    "from tensorflow.keras.preprocessing.text import Tokenizer\n",
    "\n",
    "nltk.download('stopwords')\n",
    "warnings.filterwarnings('ignore')\n",
    "stop_words = set(stopwords.words('russian'))"
   ]
  },
  {
   "cell_type": "code",
   "execution_count": 5,
   "metadata": {},
   "outputs": [],
   "source": [
    "num_words = 10000\n",
    "max_review_len = 100"
   ]
  },
  {
   "cell_type": "code",
   "execution_count": 6,
   "metadata": {},
   "outputs": [],
   "source": [
    "stemmer = SnowballStemmer('russian')\n",
    "def stemming(data):\n",
    "    text = [stemmer.stem(word) for word in data.split()]\n",
    "    return \" \".join(text)\n",
    "\n",
    "def preprocess_re(text):\n",
    "    text= text.lower()\n",
    "    text = re.sub('<br />', '', text)\n",
    "    text = re.sub(r\"https\\S+|www\\S+|http\\S+\", '', text, flags = re.MULTILINE)\n",
    "    text = re.sub(r'\\@w+|\\#', '', text)\n",
    "    text = re.sub(r'[^\\w\\s]', '', text)\n",
    "    text_tokens = word_tokenize(text)\n",
    "    filtered_text = [w for w in text_tokens if not w in stop_words]\n",
    "    return filtered_text\n",
    "\n",
    "def num_of_words(text):\n",
    "    words = text.split()\n",
    "    word_count = len(words)\n",
    "    return word_count"
   ]
  },
  {
   "cell_type": "code",
   "execution_count": 7,
   "metadata": {},
   "outputs": [
    {
     "data": {
      "text/html": [
       "<div>\n",
       "<style scoped>\n",
       "    .dataframe tbody tr th:only-of-type {\n",
       "        vertical-align: middle;\n",
       "    }\n",
       "\n",
       "    .dataframe tbody tr th {\n",
       "        vertical-align: top;\n",
       "    }\n",
       "\n",
       "    .dataframe thead th {\n",
       "        text-align: right;\n",
       "    }\n",
       "</style>\n",
       "<table border=\"1\" class=\"dataframe\">\n",
       "  <thead>\n",
       "    <tr style=\"text-align: right;\">\n",
       "      <th></th>\n",
       "      <th>idx</th>\n",
       "      <th>Score</th>\n",
       "      <th>Text</th>\n",
       "      <th>Full_Text</th>\n",
       "    </tr>\n",
       "  </thead>\n",
       "  <tbody>\n",
       "    <tr>\n",
       "      <th>0</th>\n",
       "      <td>0</td>\n",
       "      <td>Positive</td>\n",
       "      <td>В Альфа-Банке работает замечательная девушка -...</td>\n",
       "      <td>В Альфа-Банке работает замечательная девушка -...</td>\n",
       "    </tr>\n",
       "    <tr>\n",
       "      <th>1</th>\n",
       "      <td>1</td>\n",
       "      <td>Negative</td>\n",
       "      <td>Оформляя рассрочку в м. Видео в меге тёплый ст...</td>\n",
       "      <td>Оформляя рассрочку в м. Видео в меге тёплый ст...</td>\n",
       "    </tr>\n",
       "    <tr>\n",
       "      <th>2</th>\n",
       "      <td>2</td>\n",
       "      <td>Positive</td>\n",
       "      <td>Очень порадовала оперативность работы в банке....</td>\n",
       "      <td>Очень порадовала оперативность работы в банке....</td>\n",
       "    </tr>\n",
       "    <tr>\n",
       "      <th>3</th>\n",
       "      <td>3</td>\n",
       "      <td>Negative</td>\n",
       "      <td>Имела неосторожность оформить потреб. кредит в...</td>\n",
       "      <td>Имела неосторожность оформить потреб. кредит в...</td>\n",
       "    </tr>\n",
       "    <tr>\n",
       "      <th>4</th>\n",
       "      <td>4</td>\n",
       "      <td>Negative</td>\n",
       "      <td>Небольшая предыстория: Нашел на сайте MDM банк...</td>\n",
       "      <td>Небольшая предыстория: Нашел на сайте MDM банк...</td>\n",
       "    </tr>\n",
       "  </tbody>\n",
       "</table>\n",
       "</div>"
      ],
      "text/plain": [
       "   idx     Score                                               Text  \\\n",
       "0    0  Positive  В Альфа-Банке работает замечательная девушка -...   \n",
       "1    1  Negative  Оформляя рассрочку в м. Видео в меге тёплый ст...   \n",
       "2    2  Positive  Очень порадовала оперативность работы в банке....   \n",
       "3    3  Negative  Имела неосторожность оформить потреб. кредит в...   \n",
       "4    4  Negative  Небольшая предыстория: Нашел на сайте MDM банк...   \n",
       "\n",
       "                                           Full_Text  \n",
       "0  В Альфа-Банке работает замечательная девушка -...  \n",
       "1  Оформляя рассрочку в м. Видео в меге тёплый ст...  \n",
       "2  Очень порадовала оперативность работы в банке....  \n",
       "3  Имела неосторожность оформить потреб. кредит в...  \n",
       "4  Небольшая предыстория: Нашел на сайте MDM банк...  "
      ]
     },
     "execution_count": 7,
     "metadata": {},
     "output_type": "execute_result"
    }
   ],
   "source": [
    "\n",
    "data = pd.read_csv('bank.csv', sep='\\t', comment='#')\n",
    "data[\"Full_Text\"] = data[\"Text\"]\n",
    "\n",
    "data.head()"
   ]
  },
  {
   "cell_type": "code",
   "execution_count": 8,
   "metadata": {},
   "outputs": [
    {
     "data": {
      "text/html": [
       "<div>\n",
       "<style scoped>\n",
       "    .dataframe tbody tr th:only-of-type {\n",
       "        vertical-align: middle;\n",
       "    }\n",
       "\n",
       "    .dataframe tbody tr th {\n",
       "        vertical-align: top;\n",
       "    }\n",
       "\n",
       "    .dataframe thead th {\n",
       "        text-align: right;\n",
       "    }\n",
       "</style>\n",
       "<table border=\"1\" class=\"dataframe\">\n",
       "  <thead>\n",
       "    <tr style=\"text-align: right;\">\n",
       "      <th></th>\n",
       "      <th>idx</th>\n",
       "      <th>Score</th>\n",
       "      <th>Text</th>\n",
       "      <th>Full_Text</th>\n",
       "      <th>word count</th>\n",
       "    </tr>\n",
       "  </thead>\n",
       "  <tbody>\n",
       "    <tr>\n",
       "      <th>0</th>\n",
       "      <td>0</td>\n",
       "      <td>Positive</td>\n",
       "      <td>[альфабанк, работа, замечательн, девушк, ильяс...</td>\n",
       "      <td>В Альфа-Банке работает замечательная девушка -...</td>\n",
       "      <td>110</td>\n",
       "    </tr>\n",
       "    <tr>\n",
       "      <th>1</th>\n",
       "      <td>1</td>\n",
       "      <td>Negative</td>\n",
       "      <td>[оформл, рассрочк, м, виде, мег, тепл, стан, п...</td>\n",
       "      <td>Оформляя рассрочку в м. Видео в меге тёплый ст...</td>\n",
       "      <td>273</td>\n",
       "    </tr>\n",
       "    <tr>\n",
       "      <th>2</th>\n",
       "      <td>2</td>\n",
       "      <td>Positive</td>\n",
       "      <td>[очен, порадова, оперативн, работ, банке, зака...</td>\n",
       "      <td>Очень порадовала оперативность работы в банке....</td>\n",
       "      <td>177</td>\n",
       "    </tr>\n",
       "    <tr>\n",
       "      <th>3</th>\n",
       "      <td>3</td>\n",
       "      <td>Negative</td>\n",
       "      <td>[имел, неосторожн, оформ, потреб, кред, альфаб...</td>\n",
       "      <td>Имела неосторожность оформить потреб. кредит в...</td>\n",
       "      <td>155</td>\n",
       "    </tr>\n",
       "    <tr>\n",
       "      <th>4</th>\n",
       "      <td>4</td>\n",
       "      <td>Negative</td>\n",
       "      <td>[небольш, предыстория, нашел, сайт, mdm, банк,...</td>\n",
       "      <td>Небольшая предыстория: Нашел на сайте MDM банк...</td>\n",
       "      <td>548</td>\n",
       "    </tr>\n",
       "  </tbody>\n",
       "</table>\n",
       "</div>"
      ],
      "text/plain": [
       "   idx     Score                                               Text  \\\n",
       "0    0  Positive  [альфабанк, работа, замечательн, девушк, ильяс...   \n",
       "1    1  Negative  [оформл, рассрочк, м, виде, мег, тепл, стан, п...   \n",
       "2    2  Positive  [очен, порадова, оперативн, работ, банке, зака...   \n",
       "3    3  Negative  [имел, неосторожн, оформ, потреб, кред, альфаб...   \n",
       "4    4  Negative  [небольш, предыстория, нашел, сайт, mdm, банк,...   \n",
       "\n",
       "                                           Full_Text  word count  \n",
       "0  В Альфа-Банке работает замечательная девушка -...         110  \n",
       "1  Оформляя рассрочку в м. Видео в меге тёплый ст...         273  \n",
       "2  Очень порадовала оперативность работы в банке....         177  \n",
       "3  Имела неосторожность оформить потреб. кредит в...         155  \n",
       "4  Небольшая предыстория: Нашел на сайте MDM банк...         548  "
      ]
     },
     "execution_count": 8,
     "metadata": {},
     "output_type": "execute_result"
    }
   ],
   "source": [
    "data['word count'] = data['Text'].apply(num_of_words)\n",
    "data = data.drop_duplicates('Text')\n",
    "data.Text = data['Text'].apply(lambda x: stemming(x))\n",
    "data.Text = data['Text'].apply(preprocess_re)\n",
    "data.head()"
   ]
  },
  {
   "cell_type": "code",
   "execution_count": 9,
   "metadata": {},
   "outputs": [
    {
     "data": {
      "text/html": [
       "<div>\n",
       "<style scoped>\n",
       "    .dataframe tbody tr th:only-of-type {\n",
       "        vertical-align: middle;\n",
       "    }\n",
       "\n",
       "    .dataframe tbody tr th {\n",
       "        vertical-align: top;\n",
       "    }\n",
       "\n",
       "    .dataframe thead th {\n",
       "        text-align: right;\n",
       "    }\n",
       "</style>\n",
       "<table border=\"1\" class=\"dataframe\">\n",
       "  <thead>\n",
       "    <tr style=\"text-align: right;\">\n",
       "      <th></th>\n",
       "      <th>idx</th>\n",
       "      <th>Score</th>\n",
       "      <th>Text</th>\n",
       "      <th>Full_Text</th>\n",
       "      <th>word count</th>\n",
       "    </tr>\n",
       "  </thead>\n",
       "  <tbody>\n",
       "    <tr>\n",
       "      <th>0</th>\n",
       "      <td>0</td>\n",
       "      <td>1</td>\n",
       "      <td>[альфабанк, работа, замечательн, девушк, ильяс...</td>\n",
       "      <td>В Альфа-Банке работает замечательная девушка -...</td>\n",
       "      <td>110</td>\n",
       "    </tr>\n",
       "    <tr>\n",
       "      <th>1</th>\n",
       "      <td>1</td>\n",
       "      <td>2</td>\n",
       "      <td>[оформл, рассрочк, м, виде, мег, тепл, стан, п...</td>\n",
       "      <td>Оформляя рассрочку в м. Видео в меге тёплый ст...</td>\n",
       "      <td>273</td>\n",
       "    </tr>\n",
       "    <tr>\n",
       "      <th>2</th>\n",
       "      <td>2</td>\n",
       "      <td>1</td>\n",
       "      <td>[очен, порадова, оперативн, работ, банке, зака...</td>\n",
       "      <td>Очень порадовала оперативность работы в банке....</td>\n",
       "      <td>177</td>\n",
       "    </tr>\n",
       "    <tr>\n",
       "      <th>3</th>\n",
       "      <td>3</td>\n",
       "      <td>2</td>\n",
       "      <td>[имел, неосторожн, оформ, потреб, кред, альфаб...</td>\n",
       "      <td>Имела неосторожность оформить потреб. кредит в...</td>\n",
       "      <td>155</td>\n",
       "    </tr>\n",
       "    <tr>\n",
       "      <th>4</th>\n",
       "      <td>4</td>\n",
       "      <td>2</td>\n",
       "      <td>[небольш, предыстория, нашел, сайт, mdm, банк,...</td>\n",
       "      <td>Небольшая предыстория: Нашел на сайте MDM банк...</td>\n",
       "      <td>548</td>\n",
       "    </tr>\n",
       "  </tbody>\n",
       "</table>\n",
       "</div>"
      ],
      "text/plain": [
       "   idx  Score                                               Text  \\\n",
       "0    0      1  [альфабанк, работа, замечательн, девушк, ильяс...   \n",
       "1    1      2  [оформл, рассрочк, м, виде, мег, тепл, стан, п...   \n",
       "2    2      1  [очен, порадова, оперативн, работ, банке, зака...   \n",
       "3    3      2  [имел, неосторожн, оформ, потреб, кред, альфаб...   \n",
       "4    4      2  [небольш, предыстория, нашел, сайт, mdm, банк,...   \n",
       "\n",
       "                                           Full_Text  word count  \n",
       "0  В Альфа-Банке работает замечательная девушка -...         110  \n",
       "1  Оформляя рассрочку в м. Видео в меге тёплый ст...         273  \n",
       "2  Очень порадовала оперативность работы в банке....         177  \n",
       "3  Имела неосторожность оформить потреб. кредит в...         155  \n",
       "4  Небольшая предыстория: Нашел на сайте MDM банк...         548  "
      ]
     },
     "execution_count": 9,
     "metadata": {},
     "output_type": "execute_result"
    }
   ],
   "source": [
    "data.Score.replace(\"Positive\", 1, inplace=True)\n",
    "data.Score.replace(\"Negative\", 2, inplace=True)\n",
    "data.head()"
   ]
  },
  {
   "cell_type": "code",
   "execution_count": 10,
   "metadata": {},
   "outputs": [],
   "source": [
    "pos_scores = data[data.Score == 1]\n"
   ]
  },
  {
   "cell_type": "code",
   "execution_count": 11,
   "metadata": {},
   "outputs": [
    {
     "data": {
      "text/plain": [
       "array([list(['альфабанк', 'работа', 'замечательн', 'девушк', 'ильясов', 'орна', 'вежливая', 'отзывчивая', 'действительн', 'участв', 'запрос', 'клиента', 'приход', 'подряд', 'ровн', 'дня', 'кажд', 'ден', 'помн', 'врем', 'мо', 'прихода', 'помогл', 'оформ', 'кред', 'размер', '1млн', 'рублей', 'когд', 'пришл', 'партнер', 'передава', 'е', 'получен', 'кред', 'покупа', 'мно', 'авто', 'специалист', 'ильясов', 'орн', 'помогл', 'нам', 'вывест', 'сумм', 'ден', 'эт', 'непросто', 'сделк', 'состоя', 'оста', 'довольны', 'мо', 'знаком', 'конц', 'всег', 'добавила', 'тепер', 'поняла', 'поч', 'пришл', 'эт', 'отделение', 'эт', 'девушкепобольш', 'замечательн', 'специалистов', 'приобрета', 'программ', 'здоровье', 'вообщ', 'связа', 'альфабанком', 'тепер', 'буд', 'тольк']),\n",
       "       list(['очен', 'порадова', 'оперативн', 'работ', 'банке', 'заказа', 'интернет', 'карт', 'visa', 'classic', 'потребова', 'подойт', 'банк', 'подписан', 'заявления', 'ден', 'откр', 'текущ', 'счет', 'доступ', 'интернет', 'услуг', 'альфаклик', 'течен', 'недел', 'долж', 'получ', 'карту', 'научен', 'сбербанк', 'ожида', 'обещанное', 'удивился', 'когд', 'карт', 'правд', 'пришл', 'вовремя', 'эт', 'выда', 'е', 'минут', '5', 'опя', 'очен', 'порадовало', 'оператор', 'воронежск', 'отделен', 'прте', 'революц', 'оказа', 'очен', 'добродушными', 'проконсультирова', 'всем', 'ситуациям', 'котор', 'уточнялпосл', 'эт', 'захотел', 'подключ', 'услуг', 'альфамобайл', 'управлен', 'счет', 'телефон', 'заб', 'сво', 'логин', 'позвон', 'горяч', 'линии', 'девушк', 'подсказа', 'логин', 'подключ', 'услуг', 'обращен', 'банк', 'высла', 'sms', 'ссылк', 'приложение', 'ест', 'сервис', 'должн', 'уровнев', 'настоя', 'момент', 'явля', 'клиент', 'московск', 'индустриальн', 'банка', 'втб', '24', 'сбербанка', 'сотрудничеств', 'последн', '2мя', 'полност', 'разочаровало', 'эт', 'друг', 'историяединственное', 'хотел', 'посоветовать', 'эт', 'расшир', 'клиентск', 'зон', 'отделен', 'банк', 'г', 'воронеж', 'прте', 'революции', 'совс', 'тесновато']),\n",
       "       list(['конц', 'феврал', 'оформ', 'кредитн', 'карт', 'банк', 'авангард', 'качеств', 'страховки', 'всяк', 'непредвиден', 'случай', 'тогд', 'удивл', 'скоростн', 'профессиональн', 'обслуживан', 'миниофис', 'санктпетербурге', 'пражск', 'ул', '4850', 'трк', 'южн', 'полюс', 'вся', 'процедур', 'заня', '1015', 'минп', 'прошеств', 'времен', 'обнаруж', 'нехватк', 'депозитн', 'счет', 'ощущен', 'полнот', 'свободы', 'всяк', 'колебан', 'обрат', 'миниофис', 'се', 'прост', 'потрясена', 'получ', 'шест', 'счет', 'депозит', 'разн', 'валют', 'текущих', 'такж', 'разн', 'валюты', 'уверена', 'вскор', 'оцен', 'несомнен', 'преимуществафантастик', 'заключа', 'вышл', 'офис', 'счастлив', 'обладательниц', 'заветн', 'депозит', 'буквальн', '10', 'минут', 'благодар', 'оперативн', 'работ', 'сотрудник', 'банк', 'локтионов', 'ан', 'ивановне', 'кстати', 'уверена', '5', 'ма', 'банк', 'работают', 'случа', 'удачи', 'настро', 'потрат', 'времен', '23', 'счастлив', 'довольна', 'viva', 'авангард']),\n",
       "       ...,\n",
       "       list(['обслужива', 'офис', 'чернореченск', '42а', 'физ', 'лиц', 'год', 'офис', 'дел', 'никогд', 'очереди', 'всегд', 'ест', 'свободн', 'сотрудник', 'котор', 'гот', 'помоч', 'люб', 'вопросе', 'дистанцион', 'обслуживан', 'трудност', 'тож', 'никак', 'возникло', 'коллцентр', 'отвеча', 'быстро', 'вопрос', 'реша', 'оперативн', 'приветливо', 'наш', 'врем', 'встреча', 'нечасто', 'вопросы', 'котор', 'возника', 'работ', 'сайт', 'ил', 'личн', 'кабинет', 'проблем', 'регистрацией', 'сотрудник', 'разъясня', 'подробно', 'очен', 'удобн', 'личн', 'мен', 'проблем', 'обща', 'автоматическ', 'сервисами', 'спокойн', 'разговарива', 'живым', 'сотрудник', 'чтот', 'особен', 'отмет', 'могу', 'прост', 'виж', 'хорош', 'качествен', 'работ', 'русфинанс', 'банка', 'удовольств', 'буд', 'сотруднича', 'эт', 'банк', 'дальше']),\n",
       "       list(['попа', 'сегодн', 'очен', 'неприятн', 'ситуацию', 'реш', 'погас', 'долг', 'карте', 'пришл', 'банкомат', 'пр', 'дзержинского', '14', 'банкомат', 'деньг', 'принял', 'выда', 'чек', 'зачислении', 'вернул', 'карту', 'напоследок', 'пришл', 'смс', 'отм', 'операц', 'сумм', 'мо', 'перечислен', 'денег', 'ест', 'деньг', 'мо', 'счет', 'поступили', 'людьм', 'случа', 'инфаркты', 'сумм', 'довольн', 'крупная', 'вся', 'мо', 'зарплата', 'позвон', 'центр', 'поддержки', 'очен', 'мил', 'девушк', 'мно', 'обща', 'расстройств', 'даж', 'запомнила', 'успокоила', 'зарегистрирова', 'претензию', 'полчас', 'назад', 'пришл', 'деньги', 'есл', 'честн', 'ожидала', 'готов', 'худшему', 'пот', 'чита', 'мног', 'отзыв', 'трудн', 'долг', 'возвраща', 'деньгиконечно', 'хоч', 'сказа', 'больш', 'спасиб', 'всем', 'занима', 'выполнен', 'эт', 'работы', 'огромн', 'спасиб', 'девушк', 'оператор', 'коллцентра', 'котор', 'внимательн', 'сочувствен', 'мен', 'выслуша', 'успоко', 'врем', 'звонк', '1304', 'местноен', 'ест', 'претенз', 'работ', 'банкомата', 'конкретн', 'пр', 'дзержинского', '14', 'постоя', 'проблемы', 'прост', 'неизвестн', 'причин', 'работает', 'работа', 'наличных', 'плюс', 'инцидент', 'произошедш', 'мно', 'сегодня']),\n",
       "       list(['добр', 'день', 'давн', 'явля', 'клиент', 'банк', 'русск', 'стандарт', 'зарплатн', 'карту', '7', 'октябр', 'обрат', 'отделен', 'свободн', 'проспект', 'возл', 'станц', 'метр', 'новогиреев', 'проблемой', 'могл', 'получ', 'пин', 'код', 'сво', 'карт', 'банк', 'кармане', 'обслужива', 'мен', 'девушк', 'ермаков', 'екатерина', 'котор', 'внимательн', 'мен', 'выслушала', 'вникл', 'сут', 'проблемы', 'поменя', 'номер', 'телефон', 'кодов', 'слово', 'собственно', 'изз', 'выяснилось', 'могл', 'получ', 'пин', 'код', 'предлож', 'оформ', 'карт', 'льготн', 'период', 'накоплен', 'бонусов', 'предложен', 'мен', 'заинтересовало', 'эт', 'навязчиво', 'понятн', 'интересн', 'обязательн', 'верн', 'дополнительн', 'документ', 'оформления', 'посл', 'чег', 'пыта', 'безуспешн', 'дозвон', 'горяч', 'линию', 'ко', 'подошл', 'друг', 'девушка', 'заместител', 'эт', 'отделен', 'анастасия', 'предлож', 'помощь', 'радост', 'согласилась', 'помогл', 'течен', '2', 'минут', 'дозвон', 'горяч', 'линию', 'получ', 'долгожда', 'пинкод', 'хоч', 'выраз', 'благодарн', 'ермаков', 'екатерин', 'гаврилов', 'анастас', 'помощ', 'терпении', 'очен', 'доброжелательн', 'приветлив', 'девушки'])],\n",
       "      dtype=object)"
      ]
     },
     "execution_count": 11,
     "metadata": {},
     "output_type": "execute_result"
    }
   ],
   "source": [
    "pos_scores[\"Text\"].values"
   ]
  },
  {
   "cell_type": "code",
   "execution_count": 12,
   "metadata": {},
   "outputs": [
    {
     "data": {
      "text/plain": [
       "[('банк', 18923),\n",
       " ('эт', 13745),\n",
       " ('карт', 8525),\n",
       " ('мо', 7966),\n",
       " ('мен', 7609),\n",
       " ('очен', 6901),\n",
       " ('котор', 5929),\n",
       " ('сво', 5094),\n",
       " ('отделен', 4977),\n",
       " ('сотрудник', 4885),\n",
       " ('ещ', 3848),\n",
       " ('друг', 3798),\n",
       " ('клиент', 3762),\n",
       " ('тольк', 3723),\n",
       " ('счет', 3699)]"
      ]
     },
     "execution_count": 12,
     "metadata": {},
     "output_type": "execute_result"
    }
   ],
   "source": [
    "count = Counter()\n",
    "for text in pos_scores['Text'].values:\n",
    "    for word in text:\n",
    "        count[word] +=1\n",
    "count.most_common(15)"
   ]
  },
  {
   "cell_type": "code",
   "execution_count": 13,
   "metadata": {},
   "outputs": [],
   "source": [
    "def num_of_words(text):\n",
    "    words = text.split() if type(text) == str else text\n",
    "    word_count = len(words)\n",
    "    return word_count\n"
   ]
  },
  {
   "cell_type": "code",
   "execution_count": 14,
   "metadata": {},
   "outputs": [
    {
     "data": {
      "text/html": [
       "<div>\n",
       "<style scoped>\n",
       "    .dataframe tbody tr th:only-of-type {\n",
       "        vertical-align: middle;\n",
       "    }\n",
       "\n",
       "    .dataframe tbody tr th {\n",
       "        vertical-align: top;\n",
       "    }\n",
       "\n",
       "    .dataframe thead th {\n",
       "        text-align: right;\n",
       "    }\n",
       "</style>\n",
       "<table border=\"1\" class=\"dataframe\">\n",
       "  <thead>\n",
       "    <tr style=\"text-align: right;\">\n",
       "      <th></th>\n",
       "      <th>idx</th>\n",
       "      <th>Score</th>\n",
       "      <th>Text</th>\n",
       "      <th>Full_Text</th>\n",
       "      <th>word count</th>\n",
       "    </tr>\n",
       "  </thead>\n",
       "  <tbody>\n",
       "    <tr>\n",
       "      <th>0</th>\n",
       "      <td>0</td>\n",
       "      <td>1</td>\n",
       "      <td>[альфабанк, работа, замечательн, девушк, ильяс...</td>\n",
       "      <td>В Альфа-Банке работает замечательная девушка -...</td>\n",
       "      <td>110</td>\n",
       "    </tr>\n",
       "    <tr>\n",
       "      <th>2</th>\n",
       "      <td>2</td>\n",
       "      <td>1</td>\n",
       "      <td>[очен, порадова, оперативн, работ, банке, зака...</td>\n",
       "      <td>Очень порадовала оперативность работы в банке....</td>\n",
       "      <td>177</td>\n",
       "    </tr>\n",
       "    <tr>\n",
       "      <th>5</th>\n",
       "      <td>5</td>\n",
       "      <td>1</td>\n",
       "      <td>[конц, феврал, оформ, кредитн, карт, банк, ава...</td>\n",
       "      <td>В конце февраля оформила кредитную карту банка...</td>\n",
       "      <td>143</td>\n",
       "    </tr>\n",
       "    <tr>\n",
       "      <th>10</th>\n",
       "      <td>10</td>\n",
       "      <td>1</td>\n",
       "      <td>[год, назад, получ, кредитку, выбра, банк, изз...</td>\n",
       "      <td>Год назад получила кредитку, выбрала банк из-з...</td>\n",
       "      <td>201</td>\n",
       "    </tr>\n",
       "    <tr>\n",
       "      <th>11</th>\n",
       "      <td>11</td>\n",
       "      <td>1</td>\n",
       "      <td>[отделен, автозаводск, 01072015, пополня, сво,...</td>\n",
       "      <td>В отделении на Автозаводской 01.07.2015 пополн...</td>\n",
       "      <td>43</td>\n",
       "    </tr>\n",
       "  </tbody>\n",
       "</table>\n",
       "</div>"
      ],
      "text/plain": [
       "    idx  Score                                               Text  \\\n",
       "0     0      1  [альфабанк, работа, замечательн, девушк, ильяс...   \n",
       "2     2      1  [очен, порадова, оперативн, работ, банке, зака...   \n",
       "5     5      1  [конц, феврал, оформ, кредитн, карт, банк, ава...   \n",
       "10   10      1  [год, назад, получ, кредитку, выбра, банк, изз...   \n",
       "11   11      1  [отделен, автозаводск, 01072015, пополня, сво,...   \n",
       "\n",
       "                                            Full_Text  word count  \n",
       "0   В Альфа-Банке работает замечательная девушка -...         110  \n",
       "2   Очень порадовала оперативность работы в банке....         177  \n",
       "5   В конце февраля оформила кредитную карту банка...         143  \n",
       "10  Год назад получила кредитку, выбрала банк из-з...         201  \n",
       "11  В отделении на Автозаводской 01.07.2015 пополн...          43  "
      ]
     },
     "execution_count": 14,
     "metadata": {},
     "output_type": "execute_result"
    }
   ],
   "source": [
    "pos_texts = data[data.Score == 1]\n",
    "pos_texts.head()"
   ]
  },
  {
   "cell_type": "code",
   "execution_count": 15,
   "metadata": {},
   "outputs": [
    {
     "data": {
      "text/plain": [
       "[('банк', 18923),\n",
       " ('эт', 13745),\n",
       " ('карт', 8525),\n",
       " ('мо', 7966),\n",
       " ('мен', 7609),\n",
       " ('очен', 6901),\n",
       " ('котор', 5929),\n",
       " ('сво', 5094),\n",
       " ('отделен', 4977),\n",
       " ('сотрудник', 4885),\n",
       " ('ещ', 3848),\n",
       " ('друг', 3798),\n",
       " ('клиент', 3762),\n",
       " ('тольк', 3723),\n",
       " ('счет', 3699)]"
      ]
     },
     "execution_count": 15,
     "metadata": {},
     "output_type": "execute_result"
    }
   ],
   "source": [
    "count = Counter()\n",
    "for text in pos_texts['Text'].values:\n",
    "    for word in text:\n",
    "        count[word] +=1\n",
    "count.most_common(15)"
   ]
  },
  {
   "cell_type": "code",
   "execution_count": 16,
   "metadata": {},
   "outputs": [
    {
     "data": {
      "text/html": [
       "<div>\n",
       "<style scoped>\n",
       "    .dataframe tbody tr th:only-of-type {\n",
       "        vertical-align: middle;\n",
       "    }\n",
       "\n",
       "    .dataframe tbody tr th {\n",
       "        vertical-align: top;\n",
       "    }\n",
       "\n",
       "    .dataframe thead th {\n",
       "        text-align: right;\n",
       "    }\n",
       "</style>\n",
       "<table border=\"1\" class=\"dataframe\">\n",
       "  <thead>\n",
       "    <tr style=\"text-align: right;\">\n",
       "      <th></th>\n",
       "      <th>word</th>\n",
       "      <th>count</th>\n",
       "    </tr>\n",
       "  </thead>\n",
       "  <tbody>\n",
       "    <tr>\n",
       "      <th>0</th>\n",
       "      <td>банк</td>\n",
       "      <td>18923</td>\n",
       "    </tr>\n",
       "    <tr>\n",
       "      <th>1</th>\n",
       "      <td>эт</td>\n",
       "      <td>13745</td>\n",
       "    </tr>\n",
       "    <tr>\n",
       "      <th>2</th>\n",
       "      <td>карт</td>\n",
       "      <td>8525</td>\n",
       "    </tr>\n",
       "    <tr>\n",
       "      <th>3</th>\n",
       "      <td>мо</td>\n",
       "      <td>7966</td>\n",
       "    </tr>\n",
       "    <tr>\n",
       "      <th>4</th>\n",
       "      <td>мен</td>\n",
       "      <td>7609</td>\n",
       "    </tr>\n",
       "    <tr>\n",
       "      <th>5</th>\n",
       "      <td>очен</td>\n",
       "      <td>6901</td>\n",
       "    </tr>\n",
       "    <tr>\n",
       "      <th>6</th>\n",
       "      <td>котор</td>\n",
       "      <td>5929</td>\n",
       "    </tr>\n",
       "    <tr>\n",
       "      <th>7</th>\n",
       "      <td>сво</td>\n",
       "      <td>5094</td>\n",
       "    </tr>\n",
       "    <tr>\n",
       "      <th>8</th>\n",
       "      <td>отделен</td>\n",
       "      <td>4977</td>\n",
       "    </tr>\n",
       "    <tr>\n",
       "      <th>9</th>\n",
       "      <td>сотрудник</td>\n",
       "      <td>4885</td>\n",
       "    </tr>\n",
       "    <tr>\n",
       "      <th>10</th>\n",
       "      <td>ещ</td>\n",
       "      <td>3848</td>\n",
       "    </tr>\n",
       "    <tr>\n",
       "      <th>11</th>\n",
       "      <td>друг</td>\n",
       "      <td>3798</td>\n",
       "    </tr>\n",
       "    <tr>\n",
       "      <th>12</th>\n",
       "      <td>клиент</td>\n",
       "      <td>3762</td>\n",
       "    </tr>\n",
       "    <tr>\n",
       "      <th>13</th>\n",
       "      <td>тольк</td>\n",
       "      <td>3723</td>\n",
       "    </tr>\n",
       "    <tr>\n",
       "      <th>14</th>\n",
       "      <td>счет</td>\n",
       "      <td>3699</td>\n",
       "    </tr>\n",
       "  </tbody>\n",
       "</table>\n",
       "</div>"
      ],
      "text/plain": [
       "         word  count\n",
       "0        банк  18923\n",
       "1          эт  13745\n",
       "2        карт   8525\n",
       "3          мо   7966\n",
       "4         мен   7609\n",
       "5        очен   6901\n",
       "6       котор   5929\n",
       "7         сво   5094\n",
       "8     отделен   4977\n",
       "9   сотрудник   4885\n",
       "10         ещ   3848\n",
       "11       друг   3798\n",
       "12     клиент   3762\n",
       "13      тольк   3723\n",
       "14       счет   3699"
      ]
     },
     "execution_count": 16,
     "metadata": {},
     "output_type": "execute_result"
    }
   ],
   "source": [
    "pos_texts = pd.DataFrame(count.most_common(15))\n",
    "pos_texts.columns = ['word', 'count']\n",
    "pos_texts.head(15)"
   ]
  },
  {
   "cell_type": "code",
   "execution_count": 17,
   "metadata": {},
   "outputs": [
    {
     "data": {
      "text/html": [
       "<div>\n",
       "<style scoped>\n",
       "    .dataframe tbody tr th:only-of-type {\n",
       "        vertical-align: middle;\n",
       "    }\n",
       "\n",
       "    .dataframe tbody tr th {\n",
       "        vertical-align: top;\n",
       "    }\n",
       "\n",
       "    .dataframe thead th {\n",
       "        text-align: right;\n",
       "    }\n",
       "</style>\n",
       "<table border=\"1\" class=\"dataframe\">\n",
       "  <thead>\n",
       "    <tr style=\"text-align: right;\">\n",
       "      <th></th>\n",
       "      <th>idx</th>\n",
       "      <th>Score</th>\n",
       "      <th>Text</th>\n",
       "      <th>Full_Text</th>\n",
       "      <th>word count</th>\n",
       "    </tr>\n",
       "  </thead>\n",
       "  <tbody>\n",
       "    <tr>\n",
       "      <th>1</th>\n",
       "      <td>1</td>\n",
       "      <td>2</td>\n",
       "      <td>[оформл, рассрочк, м, виде, мег, тепл, стан, п...</td>\n",
       "      <td>Оформляя рассрочку в м. Видео в меге тёплый ст...</td>\n",
       "      <td>273</td>\n",
       "    </tr>\n",
       "    <tr>\n",
       "      <th>3</th>\n",
       "      <td>3</td>\n",
       "      <td>2</td>\n",
       "      <td>[имел, неосторожн, оформ, потреб, кред, альфаб...</td>\n",
       "      <td>Имела неосторожность оформить потреб. кредит в...</td>\n",
       "      <td>155</td>\n",
       "    </tr>\n",
       "    <tr>\n",
       "      <th>4</th>\n",
       "      <td>4</td>\n",
       "      <td>2</td>\n",
       "      <td>[небольш, предыстория, нашел, сайт, mdm, банк,...</td>\n",
       "      <td>Небольшая предыстория: Нашел на сайте MDM банк...</td>\n",
       "      <td>548</td>\n",
       "    </tr>\n",
       "    <tr>\n",
       "      <th>6</th>\n",
       "      <td>6</td>\n",
       "      <td>2</td>\n",
       "      <td>[месяц, назад, взял, автокредит, эт, ход, разн...</td>\n",
       "      <td>Месяц назад взял автокредит. До этого ходили п...</td>\n",
       "      <td>387</td>\n",
       "    </tr>\n",
       "    <tr>\n",
       "      <th>7</th>\n",
       "      <td>7</td>\n",
       "      <td>2</td>\n",
       "      <td>[говор, махинац, бонусами, остановл, процент, ...</td>\n",
       "      <td>Не говоря про махинации с бонусами, остановлюс...</td>\n",
       "      <td>119</td>\n",
       "    </tr>\n",
       "  </tbody>\n",
       "</table>\n",
       "</div>"
      ],
      "text/plain": [
       "   idx  Score                                               Text  \\\n",
       "1    1      2  [оформл, рассрочк, м, виде, мег, тепл, стан, п...   \n",
       "3    3      2  [имел, неосторожн, оформ, потреб, кред, альфаб...   \n",
       "4    4      2  [небольш, предыстория, нашел, сайт, mdm, банк,...   \n",
       "6    6      2  [месяц, назад, взял, автокредит, эт, ход, разн...   \n",
       "7    7      2  [говор, махинац, бонусами, остановл, процент, ...   \n",
       "\n",
       "                                           Full_Text  word count  \n",
       "1  Оформляя рассрочку в м. Видео в меге тёплый ст...         273  \n",
       "3  Имела неосторожность оформить потреб. кредит в...         155  \n",
       "4  Небольшая предыстория: Нашел на сайте MDM банк...         548  \n",
       "6  Месяц назад взял автокредит. До этого ходили п...         387  \n",
       "7  Не говоря про махинации с бонусами, остановлюс...         119  "
      ]
     },
     "execution_count": 17,
     "metadata": {},
     "output_type": "execute_result"
    }
   ],
   "source": [
    "neg_texts = data[data.Score == 2]\n",
    "neg_texts.head()"
   ]
  },
  {
   "cell_type": "code",
   "execution_count": 18,
   "metadata": {},
   "outputs": [
    {
     "data": {
      "text/plain": [
       "[('банк', 23105),\n",
       " ('эт', 20136),\n",
       " ('мо', 13707),\n",
       " ('карт', 12196),\n",
       " ('мен', 9974),\n",
       " ('котор', 8149),\n",
       " ('счет', 7355),\n",
       " ('сотрудник', 7216),\n",
       " ('сво', 5867),\n",
       " ('отделен', 5458),\n",
       " ('банка', 5426),\n",
       " ('ещ', 5355),\n",
       " ('дан', 5200),\n",
       " ('кредитн', 5043),\n",
       " ('ответ', 4876)]"
      ]
     },
     "execution_count": 18,
     "metadata": {},
     "output_type": "execute_result"
    }
   ],
   "source": [
    "count = Counter()\n",
    "for text in neg_texts['Text'].values:\n",
    "    for word in text:\n",
    "        count[word] +=1\n",
    "count.most_common(15)"
   ]
  },
  {
   "cell_type": "code",
   "execution_count": 19,
   "metadata": {},
   "outputs": [
    {
     "data": {
      "text/html": [
       "<div>\n",
       "<style scoped>\n",
       "    .dataframe tbody tr th:only-of-type {\n",
       "        vertical-align: middle;\n",
       "    }\n",
       "\n",
       "    .dataframe tbody tr th {\n",
       "        vertical-align: top;\n",
       "    }\n",
       "\n",
       "    .dataframe thead th {\n",
       "        text-align: right;\n",
       "    }\n",
       "</style>\n",
       "<table border=\"1\" class=\"dataframe\">\n",
       "  <thead>\n",
       "    <tr style=\"text-align: right;\">\n",
       "      <th></th>\n",
       "      <th>word</th>\n",
       "      <th>count</th>\n",
       "    </tr>\n",
       "  </thead>\n",
       "  <tbody>\n",
       "    <tr>\n",
       "      <th>0</th>\n",
       "      <td>банк</td>\n",
       "      <td>23105</td>\n",
       "    </tr>\n",
       "    <tr>\n",
       "      <th>1</th>\n",
       "      <td>эт</td>\n",
       "      <td>20136</td>\n",
       "    </tr>\n",
       "    <tr>\n",
       "      <th>2</th>\n",
       "      <td>мо</td>\n",
       "      <td>13707</td>\n",
       "    </tr>\n",
       "    <tr>\n",
       "      <th>3</th>\n",
       "      <td>карт</td>\n",
       "      <td>12196</td>\n",
       "    </tr>\n",
       "    <tr>\n",
       "      <th>4</th>\n",
       "      <td>мен</td>\n",
       "      <td>9974</td>\n",
       "    </tr>\n",
       "  </tbody>\n",
       "</table>\n",
       "</div>"
      ],
      "text/plain": [
       "   word  count\n",
       "0  банк  23105\n",
       "1    эт  20136\n",
       "2    мо  13707\n",
       "3  карт  12196\n",
       "4   мен   9974"
      ]
     },
     "execution_count": 19,
     "metadata": {},
     "output_type": "execute_result"
    }
   ],
   "source": [
    "neg_texts = pd.DataFrame(count.most_common(15))\n",
    "neg_texts.columns = ['word', 'count']\n",
    "neg_texts.head()"
   ]
  },
  {
   "cell_type": "code",
   "execution_count": 20,
   "metadata": {},
   "outputs": [],
   "source": [
    "vect = TfidfVectorizer()\n",
    "X = vect.fit_transform(data[\"Full_Text\"])\n",
    "Y = data['Score']"
   ]
  },
  {
   "cell_type": "code",
   "execution_count": 21,
   "metadata": {},
   "outputs": [],
   "source": [
    "x_train, x_test, y_train, y_test = train_test_split(X, Y, test_size = .3)"
   ]
  },
  {
   "cell_type": "code",
   "execution_count": 22,
   "metadata": {},
   "outputs": [
    {
     "name": "stdout",
     "output_type": "stream",
     "text": [
      "Accuracy = 95.2%\n"
     ]
    }
   ],
   "source": [
    "log_regression = LogisticRegression()\n",
    "log_regression.fit(x_train, y_train)\n",
    "log_predict = log_regression.predict(x_test)\n",
    "log_accuracy = accuracy_score(log_predict, y_test)\n",
    "print(\"Accuracy = {:.1%}\".format(log_accuracy))"
   ]
  },
  {
   "cell_type": "code",
   "execution_count": 23,
   "metadata": {},
   "outputs": [],
   "source": [
    "train_d = data.iloc[:12000]\n",
    "test_d = data.iloc[12000:]"
   ]
  },
  {
   "cell_type": "code",
   "execution_count": 24,
   "metadata": {},
   "outputs": [],
   "source": [
    "x_train_d = train_d['Text']\n",
    "y_train_d = train_d['Score'] - 1\n",
    "texts = x_train_d\n",
    "tokenizer = Tokenizer(num_words=num_words)\n",
    "tokenizer.fit_on_texts(texts)\n",
    "sequences = tokenizer.texts_to_sequences(texts)\n",
    "x_train_d = pad_sequences(sequences, maxlen=max_review_len)"
   ]
  },
  {
   "cell_type": "code",
   "execution_count": 25,
   "metadata": {},
   "outputs": [
    {
     "name": "stdout",
     "output_type": "stream",
     "text": [
      "WARNING:tensorflow:From c:\\Users\\Евгений\\AppData\\Local\\Programs\\Python\\Python310\\lib\\site-packages\\keras\\src\\backend.py:873: The name tf.get_default_graph is deprecated. Please use tf.compat.v1.get_default_graph instead.\n",
      "\n",
      "WARNING:tensorflow:From c:\\Users\\Евгений\\AppData\\Local\\Programs\\Python\\Python310\\lib\\site-packages\\keras\\src\\optimizers\\__init__.py:309: The name tf.train.Optimizer is deprecated. Please use tf.compat.v1.train.Optimizer instead.\n",
      "\n",
      "Model: \"sequential\"\n",
      "_________________________________________________________________\n",
      " Layer (type)                Output Shape              Param #   \n",
      "=================================================================\n",
      " embedding (Embedding)       (None, 100, 64)           640000    \n",
      "                                                                 \n",
      " conv1d (Conv1D)             (None, 96, 250)           80250     \n",
      "                                                                 \n",
      " global_max_pooling1d (Glob  (None, 250)               0         \n",
      " alMaxPooling1D)                                                 \n",
      "                                                                 \n",
      " dense (Dense)               (None, 128)               32128     \n",
      "                                                                 \n",
      " dropout (Dropout)           (None, 128)               0         \n",
      "                                                                 \n",
      " dense_1 (Dense)             (None, 1)                 129       \n",
      "                                                                 \n",
      "=================================================================\n",
      "Total params: 752507 (2.87 MB)\n",
      "Trainable params: 752507 (2.87 MB)\n",
      "Non-trainable params: 0 (0.00 Byte)\n",
      "_________________________________________________________________\n"
     ]
    }
   ],
   "source": [
    "model = Sequential()\n",
    "model.add(Embedding(num_words, 64, input_length=max_review_len))\n",
    "model.add(Conv1D(250, 5, padding='valid', activation='relu'))\n",
    "model.add(GlobalMaxPooling1D())\n",
    "model.add(Dense(128, activation='relu'))\n",
    "model.add(Dropout(0.2))\n",
    "model.add(Dense(1, activation='sigmoid'))\n",
    "\n",
    "model.compile(optimizer='adam', \n",
    "              loss='binary_crossentropy', \n",
    "              metrics=['accuracy'])\n",
    "model.summary()"
   ]
  },
  {
   "cell_type": "code",
   "execution_count": 26,
   "metadata": {},
   "outputs": [
    {
     "name": "stdout",
     "output_type": "stream",
     "text": [
      "Epoch 1/4\n",
      "WARNING:tensorflow:From c:\\Users\\Евгений\\AppData\\Local\\Programs\\Python\\Python310\\lib\\site-packages\\keras\\src\\utils\\tf_utils.py:492: The name tf.ragged.RaggedTensorValue is deprecated. Please use tf.compat.v1.ragged.RaggedTensorValue instead.\n",
      "\n",
      "WARNING:tensorflow:From c:\\Users\\Евгений\\AppData\\Local\\Programs\\Python\\Python310\\lib\\site-packages\\keras\\src\\engine\\base_layer_utils.py:384: The name tf.executing_eagerly_outside_functions is deprecated. Please use tf.compat.v1.executing_eagerly_outside_functions instead.\n",
      "\n",
      "85/85 [==============================] - 7s 72ms/step - loss: 0.5080 - accuracy: 0.7297 - val_loss: 0.2352 - val_accuracy: 0.9175\n",
      "Epoch 2/4\n",
      "85/85 [==============================] - 6s 72ms/step - loss: 0.1619 - accuracy: 0.9431 - val_loss: 0.2109 - val_accuracy: 0.9158\n",
      "Epoch 3/4\n",
      "85/85 [==============================] - 6s 71ms/step - loss: 0.0612 - accuracy: 0.9835 - val_loss: 0.2507 - val_accuracy: 0.9133\n",
      "Epoch 4/4\n",
      "85/85 [==============================] - 7s 77ms/step - loss: 0.0163 - accuracy: 0.9973 - val_loss: 0.3095 - val_accuracy: 0.9092\n"
     ]
    }
   ],
   "source": [
    "history = model.fit(x_train_d, \n",
    "                    y_train_d, \n",
    "                    epochs=4,\n",
    "                    batch_size=128,\n",
    "                    validation_split=0.1)"
   ]
  },
  {
   "cell_type": "code",
   "execution_count": 27,
   "metadata": {},
   "outputs": [
    {
     "data": {
      "image/png": "[encoded data removed]",
      "text/plain": [
       "<Figure size 640x480 with 1 Axes>"
      ]
     },
     "metadata": {},
     "output_type": "display_data"
    }
   ],
   "source": [
    "plt.plot(history.history['accuracy'], \n",
    "         label='Доля верных ответов на обучающем наборе')\n",
    "plt.plot(history.history['val_accuracy'], \n",
    "         label='Доля верных ответов на проверочном наборе')\n",
    "plt.xlabel('Эпоха обучения')\n",
    "plt.ylabel('Доля верных ответов')\n",
    "plt.legend()\n",
    "plt.show()"
   ]
  },
  {
   "cell_type": "code",
   "execution_count": 28,
   "metadata": {},
   "outputs": [],
   "source": [
    "test_sequences = tokenizer.texts_to_sequences(test_d['Text'])"
   ]
  },
  {
   "cell_type": "code",
   "execution_count": 29,
   "metadata": {},
   "outputs": [],
   "source": [
    "x_test = pad_sequences(test_sequences, maxlen=max_review_len)\n",
    "y_test = test_d['Score'] - 1"
   ]
  },
  {
   "cell_type": "code",
   "execution_count": 30,
   "metadata": {},
   "outputs": [
    {
     "name": "stdout",
     "output_type": "stream",
     "text": [
      "63/63 [==============================] - 0s 7ms/step - loss: 0.2392 - accuracy: 0.9274\n"
     ]
    },
    {
     "data": {
      "text/plain": [
       "[0.23919011652469635, 0.9274274110794067]"
      ]
     },
     "execution_count": 30,
     "metadata": {},
     "output_type": "execute_result"
    }
   ],
   "source": [
    "model.evaluate(x_test, y_test, verbose=1)"
   ]
  },
  {
   "cell_type": "code",
   "execution_count": 31,
   "metadata": {},
   "outputs": [],
   "source": [
    "def seed_all(seed_value):\n",
    "    random.seed(seed_value)\n",
    "    np.random.seed(seed_value)\n",
    "    torch.manual_seed(seed_value)\n",
    "    if torch.cuda.is_available():\n",
    "        torch.cuda.manual_seed(seed_value)\n",
    "        torch.cuda.manual_seed_all(seed_value)\n",
    "        torch.backends.cudnn.benchmark = True\n",
    "        torch.backends.cudnn.deterministic = False\n",
    "seed_all(42)"
   ]
  },
  {
   "cell_type": "code",
   "execution_count": 32,
   "metadata": {},
   "outputs": [
    {
     "name": "stderr",
     "output_type": "stream",
     "text": [
      "Some weights of BertForSequenceClassification were not initialized from the model checkpoint at DeepPavlov/rubert-base-cased and are newly initialized: ['classifier.bias', 'classifier.weight']\n",
      "You should probably TRAIN this model on a down-stream task to be able to use it for predictions and inference.\n"
     ]
    }
   ],
   "source": [
    "model = BertForSequenceClassification.from_pretrained('DeepPavlov/rubert-base-cased', num_labels=2)\n",
    "tokenizer = BertTokenizer.from_pretrained('DeepPavlov/rubert-base-cased')"
   ]
  },
  {
   "cell_type": "code",
   "execution_count": 33,
   "metadata": {},
   "outputs": [],
   "source": [
    "new_sentences = [\"Хорошие консультанты и  выгодные предложения мы берем ипотеку.\",\n",
    "                 \"Банк плохой консультанты грубили мне я отказываюсь от ипотеки.\"]\n",
    "tokens = []\n",
    "nlp = spacy.load(\"ru_core_news_sm\")\n",
    "for i in data[\"Full_Text\"]:\n",
    "    doc = nlp(i)\n",
    "    token = [token.text for token in doc if not token.is_stop and not token.is_punct]\n",
    "    tokens.append(token)\n",
    "data['Text_Tokens'] = tokens\n",
    "\n"
   ]
  },
  {
   "cell_type": "code",
   "execution_count": 34,
   "metadata": {},
   "outputs": [
    {
     "name": "stdout",
     "output_type": "stream",
     "text": [
      "Предложение: Хорошие консультанты и  выгодные предложения мы берем ипотеку.\n",
      "Классификация: Positive\n",
      "\n",
      "Предложение: Банк плохой консультанты грубили мне я отказываюсь от ипотеки.\n",
      "Классификация: Positive\n",
      "\n"
     ]
    }
   ],
   "source": [
    "x_train_vectorized = vect.fit_transform(data['Text_Tokens'].apply(lambda x: ' '.join(x)))\n",
    "new_sentences_vectorized = vect.transform(pd.Series(new_sentences).apply(lambda x: ' '.join(x)))\n",
    "\n",
    "svm_model = SVC()\n",
    "svm_model.fit(x_train_vectorized, data['Score'])\n",
    "\n",
    "predictions = svm_model.predict(new_sentences_vectorized)\n",
    "\n",
    "for sentence, prediction in zip(new_sentences, predictions):\n",
    "    if prediction == 1:\n",
    "        print(f\"Предложение: {sentence}\\nКлассификация: Positive\\n\")\n",
    "    else:\n",
    "        print(f\"Предложение: {sentence}\\nКлассификация: Negative\\n\")\n"
   ]
  },
  {
   "cell_type": "code",
   "execution_count": 35,
   "metadata": {},
   "outputs": [
    {
     "name": "stderr",
     "output_type": "stream",
     "text": [
      "Some weights of BertForSequenceClassification were not initialized from the model checkpoint at bert-base-multilingual-cased and are newly initialized: ['classifier.bias', 'classifier.weight']\n",
      "You should probably TRAIN this model on a down-stream task to be able to use it for predictions and inference.\n"
     ]
    },
    {
     "name": "stdout",
     "output_type": "stream",
     "text": [
      "Предложение: Это хороший пример.\n",
      "Классификация: Negative\n",
      "\n",
      "Предложение: Это не очень хороший пример.\n",
      "Классификация: Negative\n",
      "\n",
      "Точность модели: 0.5\n"
     ]
    }
   ],
   "source": [
    "model_name = \"bert-base-multilingual-cased\"\n",
    "tokenizer = AutoTokenizer.from_pretrained(model_name)\n",
    "model = AutoModelForSequenceClassification.from_pretrained(model_name)\n",
    "\n",
    "new_sentences = [\"Это хороший пример.\", \"Это не очень хороший пример.\"]\n",
    "\n",
    "encoded_inputs = tokenizer(new_sentences, padding=True, truncation=True, return_tensors=\"pt\")\n",
    "with torch.no_grad():\n",
    "    outputs = model(**encoded_inputs)\n",
    "    logits = outputs.logits\n",
    "    predictions = torch.argmax(logits, dim=1)\n",
    "\n",
    "label_map = {0: \"Negative\", 1: \"Positive\"}\n",
    "for sentence, prediction in zip(new_sentences, predictions):\n",
    "    sentiment = label_map[prediction.item()]\n",
    "    print(f\"Предложение: {sentence}\\nКлассификация: {sentiment}\\n\")\n",
    "\n",
    "x_test = np.array([\"Тестовое предложение 1\", \"Тестовое предложение 2\"])  \n",
    "y_test = np.array([1, 0])  \n",
    "\n",
    "x_test_encoded = tokenizer(x_test.tolist(), padding=True, truncation=True, return_tensors=\"pt\")\n",
    "with torch.no_grad():\n",
    "    outputs = model(**x_test_encoded)\n",
    "    logits = outputs.logits\n",
    "    predictions = torch.argmax(logits, dim=1)\n",
    "\n",
    "accuracy = (predictions == torch.tensor(y_test)).sum().item() / len(y_test)\n",
    "print(f\"Точность модели: {accuracy}\")"
   ]
  }
 ],
 "metadata": {
  "kernelspec": {
   "display_name": "Python 3",
   "language": "python",
   "name": "python3"
  },
  "language_info": {
   "codemirror_mode": {
    "name": "ipython",
    "version": 3
   },
   "file_extension": ".py",
   "mimetype": "text/x-python",
   "name": "python",
   "nbconvert_exporter": "python",
   "pygments_lexer": "ipython3",
   "version": "3.10.11"
  }
 },
 "nbformat": 4,
 "nbformat_minor": 2
}
