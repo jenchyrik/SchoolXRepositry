{
 "cells": [
  {
   "cell_type": "code",
   "execution_count": 143,
   "metadata": {},
   "outputs": [],
   "source": [
    "class Character():\n",
    "    def __init__(self, sila, lovcost, intelect, skorost, uron, name):\n",
    "        self.sila = sila\n",
    "        self.lovcost = lovcost\n",
    "        self.intelect = intelect\n",
    "        self.skorost = lovcost * 1.8\n",
    "        self.uron = sila*intelect * 2.5\n",
    "        self.hp = 100\n",
    "        self.attack_uron = (self.sila + self.lovcost + self.intelect + self.skorost + self.uron)/15\n",
    "        self.name = name  \n",
    "    \n",
    "    def trade(self):\n",
    "        print('I trade')\n",
    "    def wait(self):\n",
    "        print('I wait')\n",
    "    def think(self):\n",
    "        print('I think')\n",
    "    def move(self): \n",
    "        print('I move')\n",
    "    def attack (self, other): \n",
    "        other.hp = round (other.hp - self.attack_uron, 2)\n",
    "        print(self.name, 'attack')"
   ]
  },
  {
   "cell_type": "code",
   "execution_count": 144,
   "metadata": {},
   "outputs": [],
   "source": [
    "class Hero(Character):\n",
    "    def jump(self):\n",
    "        jump = self.sila * self.lovcost\n",
    "        self.hp = self.hp +(jump * 0.1)\n",
    "    "
   ]
  },
  {
   "cell_type": "code",
   "execution_count": 145,
   "metadata": {},
   "outputs": [],
   "source": [
    "class Villain(Character):\n",
    "    def run(self):\n",
    "        run = self.sila * self.skorost\n",
    "        self.hp = self.hp +(run * 0.1)\n",
    "    "
   ]
  },
  {
   "cell_type": "code",
   "execution_count": 146,
   "metadata": {},
   "outputs": [],
   "source": [
    "class Policeman(Hero):\n",
    "    def megajump(self):\n",
    "        megajump = self.sila * self.jump\n",
    "        self.hp = self.hp +(megajump * 0.15)"
   ]
  },
  {
   "cell_type": "code",
   "execution_count": 147,
   "metadata": {},
   "outputs": [],
   "source": [
    "class Theif(Villain):\n",
    "    def megarun(self):\n",
    "        megarun = self.sila * self.run\n",
    "        self.hp = self.hp +(megarun * 0.15)"
   ]
  },
  {
   "cell_type": "code",
   "execution_count": 148,
   "metadata": {},
   "outputs": [
    {
     "name": "stdout",
     "output_type": "stream",
     "text": [
      "stepanich attack\n",
      "ivanich attack\n",
      "HP Степаныча - {82.05} HP Иваныча - {90.72}\n"
     ]
    }
   ],
   "source": [
    "stepanich = Policeman(10,9,4,5,5,'stepanich')\n",
    "stepanich.jump\n",
    "stepanich.megajump\n",
    "ivanich = Theif (10,9,9,2,6,'ivanich')\n",
    "ivanich.run\n",
    "ivanich.megarun\n",
    "stepanich.attack(ivanich)\n",
    "ivanich.attack(stepanich)\n",
    "print('HP Степаныча -',{stepanich.hp},'HP Иваныча -',{ivanich.hp})"
   ]
  },
  {
   "cell_type": "code",
   "execution_count": 149,
   "metadata": {},
   "outputs": [
    {
     "name": "stdout",
     "output_type": "stream",
     "text": [
      "9.28\n",
      "17.946666666666665\n"
     ]
    }
   ],
   "source": [
    "print (stepanich.attack_uron)\n",
    "print (ivanich.attack_uron)\n",
    "# для проврки"
   ]
  }
 ],
 "metadata": {
  "kernelspec": {
   "display_name": "Python 3",
   "language": "python",
   "name": "python3"
  },
  "language_info": {
   "codemirror_mode": {
    "name": "ipython",
    "version": 3
   },
   "file_extension": ".py",
   "mimetype": "text/x-python",
   "name": "python",
   "nbconvert_exporter": "python",
   "pygments_lexer": "ipython3",
   "version": "3.11.5"
  },
  "orig_nbformat": 4
 },
 "nbformat": 4,
 "nbformat_minor": 2
}
