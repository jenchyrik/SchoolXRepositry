{
 "cells": [
  {
   "cell_type": "code",
   "execution_count": 4,
   "metadata": {},
   "outputs": [
    {
     "ename": "TypeError",
     "evalue": "unhashable type: 'dict'",
     "output_type": "error",
     "traceback": [
      "\u001b[1;31m---------------------------------------------------------------------------\u001b[0m",
      "\u001b[1;31mTypeError\u001b[0m                                 Traceback (most recent call last)",
      "\u001b[1;32mc:\\Users\\Евгений\\PythonLess\\less 7\\recursion.ipynb Ячейка 1\u001b[0m line \u001b[0;36m2\n\u001b[0;32m      <a href='vscode-notebook-cell:/c%3A/Users/%D0%95%D0%B2%D0%B3%D0%B5%D0%BD%D0%B8%D0%B9/PythonLess/less%207/recursion.ipynb#W0sZmlsZQ%3D%3D?line=0'>1</a>\u001b[0m tree \u001b[39m=\u001b[39m {\n\u001b[1;32m----> <a href='vscode-notebook-cell:/c%3A/Users/%D0%95%D0%B2%D0%B3%D0%B5%D0%BD%D0%B8%D0%B9/PythonLess/less%207/recursion.ipynb#W0sZmlsZQ%3D%3D?line=1'>2</a>\u001b[0m             {\n\u001b[0;32m      <a href='vscode-notebook-cell:/c%3A/Users/%D0%95%D0%B2%D0%B3%D0%B5%D0%BD%D0%B8%D0%B9/PythonLess/less%207/recursion.ipynb#W0sZmlsZQ%3D%3D?line=2'>3</a>\u001b[0m                 {\n\u001b[0;32m      <a href='vscode-notebook-cell:/c%3A/Users/%D0%95%D0%B2%D0%B3%D0%B5%D0%BD%D0%B8%D0%B9/PythonLess/less%207/recursion.ipynb#W0sZmlsZQ%3D%3D?line=3'>4</a>\u001b[0m                     \u001b[39m1\u001b[39m: \u001b[39m'\u001b[39m\u001b[39mtext\u001b[39m\u001b[39m'\u001b[39m,\n\u001b[0;32m      <a href='vscode-notebook-cell:/c%3A/Users/%D0%95%D0%B2%D0%B3%D0%B5%D0%BD%D0%B8%D0%B9/PythonLess/less%207/recursion.ipynb#W0sZmlsZQ%3D%3D?line=4'>5</a>\u001b[0m                     \u001b[39m2\u001b[39m: \u001b[39m'\u001b[39m\u001b[39mtext\u001b[39m\u001b[39m'\u001b[39m,\n\u001b[0;32m      <a href='vscode-notebook-cell:/c%3A/Users/%D0%95%D0%B2%D0%B3%D0%B5%D0%BD%D0%B8%D0%B9/PythonLess/less%207/recursion.ipynb#W0sZmlsZQ%3D%3D?line=5'>6</a>\u001b[0m                     \u001b[39m3\u001b[39m: \u001b[39m'\u001b[39m\u001b[39mtext\u001b[39m\u001b[39m'\u001b[39m,\n\u001b[0;32m      <a href='vscode-notebook-cell:/c%3A/Users/%D0%95%D0%B2%D0%B3%D0%B5%D0%BD%D0%B8%D0%B9/PythonLess/less%207/recursion.ipynb#W0sZmlsZQ%3D%3D?line=6'>7</a>\u001b[0m                 },\n\u001b[0;32m      <a href='vscode-notebook-cell:/c%3A/Users/%D0%95%D0%B2%D0%B3%D0%B5%D0%BD%D0%B8%D0%B9/PythonLess/less%207/recursion.ipynb#W0sZmlsZQ%3D%3D?line=7'>8</a>\u001b[0m             },\n\u001b[0;32m      <a href='vscode-notebook-cell:/c%3A/Users/%D0%95%D0%B2%D0%B3%D0%B5%D0%BD%D0%B8%D0%B9/PythonLess/less%207/recursion.ipynb#W0sZmlsZQ%3D%3D?line=8'>9</a>\u001b[0m             {\n\u001b[0;32m     <a href='vscode-notebook-cell:/c%3A/Users/%D0%95%D0%B2%D0%B3%D0%B5%D0%BD%D0%B8%D0%B9/PythonLess/less%207/recursion.ipynb#W0sZmlsZQ%3D%3D?line=9'>10</a>\u001b[0m                 {\n\u001b[0;32m     <a href='vscode-notebook-cell:/c%3A/Users/%D0%95%D0%B2%D0%B3%D0%B5%D0%BD%D0%B8%D0%B9/PythonLess/less%207/recursion.ipynb#W0sZmlsZQ%3D%3D?line=10'>11</a>\u001b[0m                     {\n\u001b[0;32m     <a href='vscode-notebook-cell:/c%3A/Users/%D0%95%D0%B2%D0%B3%D0%B5%D0%BD%D0%B8%D0%B9/PythonLess/less%207/recursion.ipynb#W0sZmlsZQ%3D%3D?line=11'>12</a>\u001b[0m                         {\n\u001b[0;32m     <a href='vscode-notebook-cell:/c%3A/Users/%D0%95%D0%B2%D0%B3%D0%B5%D0%BD%D0%B8%D0%B9/PythonLess/less%207/recursion.ipynb#W0sZmlsZQ%3D%3D?line=12'>13</a>\u001b[0m                             \u001b[39m1\u001b[39m: \u001b[39m'\u001b[39m\u001b[39mfolder\u001b[39m\u001b[39m'\u001b[39m,\n\u001b[0;32m     <a href='vscode-notebook-cell:/c%3A/Users/%D0%95%D0%B2%D0%B3%D0%B5%D0%BD%D0%B8%D0%B9/PythonLess/less%207/recursion.ipynb#W0sZmlsZQ%3D%3D?line=13'>14</a>\u001b[0m                             \u001b[39m2\u001b[39m: \u001b[39m'\u001b[39m\u001b[39mfolder\u001b[39m\u001b[39m'\u001b[39m,\n\u001b[0;32m     <a href='vscode-notebook-cell:/c%3A/Users/%D0%95%D0%B2%D0%B3%D0%B5%D0%BD%D0%B8%D0%B9/PythonLess/less%207/recursion.ipynb#W0sZmlsZQ%3D%3D?line=14'>15</a>\u001b[0m                             \u001b[39m3\u001b[39m: \u001b[39m'\u001b[39m\u001b[39mfolder\u001b[39m\u001b[39m'\u001b[39m,\n\u001b[0;32m     <a href='vscode-notebook-cell:/c%3A/Users/%D0%95%D0%B2%D0%B3%D0%B5%D0%BD%D0%B8%D0%B9/PythonLess/less%207/recursion.ipynb#W0sZmlsZQ%3D%3D?line=15'>16</a>\u001b[0m                         },\n\u001b[0;32m     <a href='vscode-notebook-cell:/c%3A/Users/%D0%95%D0%B2%D0%B3%D0%B5%D0%BD%D0%B8%D0%B9/PythonLess/less%207/recursion.ipynb#W0sZmlsZQ%3D%3D?line=16'>17</a>\u001b[0m                \n\u001b[0;32m     <a href='vscode-notebook-cell:/c%3A/Users/%D0%95%D0%B2%D0%B3%D0%B5%D0%BD%D0%B8%D0%B9/PythonLess/less%207/recursion.ipynb#W0sZmlsZQ%3D%3D?line=17'>18</a>\u001b[0m                     }\n\u001b[0;32m     <a href='vscode-notebook-cell:/c%3A/Users/%D0%95%D0%B2%D0%B3%D0%B5%D0%BD%D0%B8%D0%B9/PythonLess/less%207/recursion.ipynb#W0sZmlsZQ%3D%3D?line=18'>19</a>\u001b[0m                 }\n\u001b[0;32m     <a href='vscode-notebook-cell:/c%3A/Users/%D0%95%D0%B2%D0%B3%D0%B5%D0%BD%D0%B8%D0%B9/PythonLess/less%207/recursion.ipynb#W0sZmlsZQ%3D%3D?line=19'>20</a>\u001b[0m             }\n\u001b[0;32m     <a href='vscode-notebook-cell:/c%3A/Users/%D0%95%D0%B2%D0%B3%D0%B5%D0%BD%D0%B8%D0%B9/PythonLess/less%207/recursion.ipynb#W0sZmlsZQ%3D%3D?line=20'>21</a>\u001b[0m         }   \n",
      "\u001b[1;31mTypeError\u001b[0m: unhashable type: 'dict'"
     ]
    }
   ],
   "source": [
    "tree = {\n",
    "            {\n",
    "                {\n",
    "                    1: 'text',\n",
    "                    2: 'text',\n",
    "                    3: 'text',\n",
    "                },\n",
    "            },\n",
    "            {\n",
    "                {\n",
    "                    {\n",
    "                        {\n",
    "                            1: 'folder',\n",
    "                            2: 'folder',\n",
    "                            3: 'folder',\n",
    "                        },\n",
    "               \n",
    "                    }\n",
    "                }\n",
    "            }\n",
    "        }   "
   ]
  },
  {
   "cell_type": "code",
   "execution_count": null,
   "metadata": {},
   "outputs": [],
   "source": [
    "def rec_find(tree : dict, name: str):\n",
    "    for key, value in tree.items():\n",
    "        print('ключ - {key}, значение - {value}\\n')"
   ]
  },
  {
   "cell_type": "code",
   "execution_count": null,
   "metadata": {},
   "outputs": [],
   "source": [
    "rec_find(tree : dict, name: str)"
   ]
  }
 ],
 "metadata": {
  "kernelspec": {
   "display_name": "Python 3",
   "language": "python",
   "name": "python3"
  },
  "language_info": {
   "codemirror_mode": {
    "name": "ipython",
    "version": 3
   },
   "file_extension": ".py",
   "mimetype": "text/x-python",
   "name": "python",
   "nbconvert_exporter": "python",
   "pygments_lexer": "ipython3",
   "version": "3.11.5"
  },
  "orig_nbformat": 4
 },
 "nbformat": 4,
 "nbformat_minor": 2
}
