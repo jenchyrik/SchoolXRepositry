{
 "cells": [
  {
   "cell_type": "code",
   "execution_count": 1,
   "metadata": {},
   "outputs": [],
   "source": [
    "import csv\n",
    "import re\n",
    "from googletrans import Translator\n",
    "# 我住在北京。我的父母最近搬到了西安. 现在找房子非常困难。我真的很想帮忙，但我没有钱。 所以我今天要去找工作"
   ]
  },
  {
   "cell_type": "code",
   "execution_count": 2,
   "metadata": {},
   "outputs": [],
   "source": [
    "ch_text = input(\"Введите китайский текст: \")"
   ]
  },
  {
   "cell_type": "code",
   "execution_count": 3,
   "metadata": {},
   "outputs": [
    {
     "name": "stdout",
     "output_type": "stream",
     "text": [
      "{'\\ufeffeng': 'rus', 'a': 'а', 'ai': 'ай', 'an': 'ан', 'ang': 'анъ', 'ao': 'ао', 'ba': 'ба', 'be': 'бэ', 'bai': 'бай', 'ban': 'бан', 'bang': 'банъ', 'bao': 'бао', 'bei': 'бэй', 'ben': 'бэн', 'beng': 'бэнъ', 'bi': 'би', 'bian': 'бьен', 'biao': 'бьяо', 'bie': 'бье', 'bin': 'бин', 'bing': 'бинъ', 'bo': 'бо', 'bu': 'бу', 'ca': 'цха', 'cai': 'цхай', 'can': 'цхан', 'cang': 'цханъ', 'cao': 'цхао', 'ce': 'цхэ', 'cen': 'цхэн', 'ceng': 'цхэнъ', 'cha': 'чха', 'chai': 'чхай', 'chan': 'чхан', 'chang': 'чханъ', 'chao': 'чхао', 'che': 'чхэ', 'chen': 'чхэн', 'cheng': 'чхэнъ', 'chi': 'чши', 'chong': 'чхунъ', 'chou': 'чхоу', 'chu': 'чху', 'chuai': 'чхуай', 'chuan': 'чхуан', 'chuang': 'чхуанъ', 'chui': 'чхуй', 'chun': 'чхун', 'chuo': 'чхуо', 'ci': 'цхы', 'cong': 'цхунъ', 'cou': 'цхоу', 'cu': 'цху', 'cuan': 'цхуан', 'cui': 'цхуй', 'cun': 'цхун', 'cuo': 'цхуо', 'da': 'да', 'dai': 'дай', 'dan': 'дан', 'dang': 'данъ', 'dao': 'дао', 'de': 'дэ', 'dei': 'дэй', 'deng': 'дэнъ', 'di': 'ди', 'dia': 'дья', 'dian': 'дьен', 'diao': 'дьяо', 'die': 'дье', 'ding': 'динъ', 'diu': 'диу', 'dong': 'дунъ', 'dou': 'доу', 'du': 'ду', 'duan': 'дуан', 'dui': 'дуй', 'dun': 'дун', 'duo': 'дуо', 'e': 'э', 'ei': 'эй', 'en': 'эн', 'eng': 'энъ', 'er': 'ар', 'fa': 'фа', 'fan': 'фан', 'fang': 'фанъ', 'fe': 'фэй', 'fei': 'фэй', 'fen': 'фэн', 'feng': 'фэнъ', 'fo': 'фо', 'fou': 'фоу', 'fu': 'фу', 'ga': 'га', 'gai': 'гай', 'gan': 'ган', 'gang': 'ганъ', 'gao': 'гао', 'ge': 'гэ', 'gei': 'гэй', 'gen': 'гэн', 'geng': 'гэнъ', 'go': 'го', 'gong': 'гунъ', 'gou': 'гоу', 'gu': 'гу', 'gua': 'гуа', 'guai': 'гуай', 'guan': 'гуан', 'guang': 'гуанъ', 'gui': 'гуй', 'gun': 'гун', 'guo': 'гуо', 'ha': 'ха', 'hai': 'хай', 'han': 'хан', 'hang': 'ханъ', 'hao': 'хао', 'he': 'хэ', 'hei': 'хэй', 'hen': 'хэн', 'heng': 'хэнъ', 'hong': 'хунъ', 'hu': 'ху', 'hua': 'хуа', 'huai': 'хуай', 'huan': 'хуан', 'huang': 'хуанъ', 'hui': 'хуй', 'hun': 'хун', 'huo': 'хуо', 'i': 'и', 'ji': 'дзи', 'jia': 'дзя', 'jian': 'дзьен', 'jiang': 'дзянъ', 'jiao': 'дзяо', 'jie': 'дзье', 'jin': 'дзин', 'jing': 'дзинъ', 'jiong': 'дзьёнъ', 'jiu': 'дзиу', 'ju': 'дзю', 'juan': 'дзюан', 'jue': 'дзюэ', 'jun': 'дзюн', 'ka': 'кха', 'kai': 'кхай', 'kan': 'кхан', 'kang': 'кханъ', 'kao': 'кхао', 'ke': 'кхэ', 'ken': 'кхэн', 'keng': 'кхэнъ', 'kong': 'кхунъ', 'kou': 'кхоу', 'ku': 'кху', 'kua': 'кхуа', 'kuai': 'кхуай', 'kuan': 'кхуан', 'kuang': 'кхуанъ', 'kui': 'кхуй', 'kun': 'кхун', 'kuo': 'кхуо', 'la': 'ла', 'lai': 'лай', 'lan': 'лан', 'lang': 'ланъ', 'lao': 'лао', 'le': 'лэ', 'lei': 'лэй', 'leng': 'лэнъ', 'li': 'ли', 'lia': 'лья', 'lian': 'льен', 'liang': 'льянъ', 'liao': 'льяо', 'lie': 'лье', 'lin': 'лин', 'ling': 'линъ', 'liu': 'лиу', 'long': 'лунъ', 'lou': 'лоу', 'lü': 'лйю', 'lu': 'лу', 'luan': 'луан', 'lüe': 'лйюэ', 'lun': 'лун', 'luo': 'луо', 'm': 'м', 'ma': 'ма', 'mai': 'май', 'man': 'ман', 'mang': 'манъ', 'mao': 'мао', 'me': 'мэ', 'mei': 'мэй', 'men': 'мэн', 'meng': 'мэнъ', 'mi': 'ми', 'mian': 'мьен', 'miao': 'мьао', 'mie': 'мье', 'min': 'мин', 'ming': 'минъ', 'miu': 'миу', 'mo': 'мо', 'mou': 'моу', 'mu': 'му', 'n': 'н', 'na': 'на', 'nai': 'най', 'nan': 'нан', 'nang': 'нанъ', 'nao': 'нао', 'ne': 'нэ', 'nei': 'нэй', 'nen': 'нэнь', 'neng': 'нэн', 'ng': 'нъ', 'ni': 'ни', 'nian': 'ньен', 'niang': 'ньянъ', 'niao': 'ньяо', 'nie': 'нье', 'nin': 'нин', 'ning': 'нинъ', 'niu': 'ниу', 'nong': 'нунъ', 'nü': 'нйю', 'nu': 'ну', 'nuan': 'нуан', 'nüe': 'нйюэ', 'nuo': 'нуо', 'o': 'о', 'ou': 'оу', 'pa': 'пха', 'pai': 'пхай', 'pan': 'пхан', 'pang': 'пханъ', 'pao': 'пхао', 'pei': 'пхэй', 'pen': 'пхэн', 'peng': 'пхэнъ', 'pi': 'пхи', 'pian': 'пхьен', 'piao': 'пхьяо', 'pie': 'пхье', 'pin': 'пхин', 'ping': 'пхинъ', 'po': 'пхо', 'pou': 'пхоу', 'pu': 'пху', 'qi': 'тьси', 'qia': 'ться', 'qian': 'тьсьен', 'qiang': 'тьсьянъ', 'qiao': 'тьсяо', 'qie': 'тьсье', 'qin': 'тьсин', 'qing': 'тьсинъ', 'qiong': 'тьсёнъ', 'qiu': 'тьсиу', 'qu': 'тьсю', 'quan': 'тьсюан', 'que': 'тьсюэ', 'qun': 'тьсун', 'ran': 'жан', 'rang': 'жанъ', 'rao': 'жао', 're': 'жэ', 'ren': 'жэн', 'reng': 'жэнъ', 'ri': 'жи', 'rong': 'жунъ', 'rou': 'жоу', 'ru': 'жу', 'ruan': 'жуан', 'rui': 'жуй', 'run': 'жун', 'ruo': 'жуо', 'sa': 'са', 'sai': 'сай', 'san': 'сан', 'sang': 'санъ', 'sao': 'сао', 'se': 'сэ', 'sen': 'сэн', 'seng': 'сэнъ', 'sha': 'ша', 'shai': 'шай', 'shan': 'шан', 'shang': 'шанъ', 'shao': 'шао', 'she': 'шэ', 'shei': 'шэй', 'shen': 'шэн', 'sheng': 'шэнъ', 'shi': 'ши', 'shou': 'шоу', 'shu': 'шу', 'shua': 'шуа', 'shuai': 'шуай', 'shuan': 'шуан', 'shuang': 'шуанъ', 'shui': 'шуй', 'shun': 'шун', 'shuo': 'шуо', 'si': 'сы', 'song': 'сунъ', 'sou': 'соу', 'su': 'су', 'suan': 'суан', 'sui': 'суй', 'sun': 'сун', 'suo': 'суо', 'ta': 'тха', 'tai': 'тхай', 'tan': 'тхан', 'tang': 'тхан', 'tao': 'тхао', 'te': 'тхэ', 'ten': 'тхэн', 'teng': 'тхэнъ', 'ti': 'тхи', 'tian': 'тхьен', 'tiao': 'тхяо', 'tie': 'тхье', 'ting': 'тхинъ', 'tong': 'тхунъ', 'tou': 'тхоу', 'tu': 'тху', 'tuan': 'тхуан', 'tui': 'тхуй', 'tun': 'тхун', 'tuo': 'тхуо', 'u': 'у', 'wa': 'ва', 'wai': 'вай', 'wan': 'ван', 'wang': 'ванъ', 'wei': 'вэй', 'wen': 'вэн', 'weng': 'вэнъ', 'wo': 'во', 'wu': 'ву', 'xi': 'си', 'xia': 'сья', 'xian': 'сьен', 'xiang': 'сьянъ', 'xiao': 'сяо', 'xie': 'сье', 'xin': 'син', 'xing': 'син', 'xiong': 'сьёнъ', 'xiu': 'сиу', 'xu': 'сю', 'xuan': 'сюан', 'xue': 'сюэ', 'xun': 'сюн', 'ya': 'я', 'yan': 'ен', 'yang': 'янъ', 'yao': 'яо', 'ye': 'е', 'yi': 'йи', 'yin': 'йин', 'ying': 'йинъ', 'yong': 'ёнъ', 'you': 'йоу', 'yu': 'ю', 'yuan': 'юан', 'yue': 'юэ', 'yun': 'юн', 'za': 'дза', 'zai': 'дзай', 'zan': 'дзан', 'zang': 'дзанъ', 'zao': 'дзао', 'ze': 'дзэ', 'zei': 'дзэй', 'zen': 'дзэн', 'zeng': 'дзэнъ', 'zha': 'джа', 'zhai': 'джай', 'zhan': 'джан', 'zhang': 'джанъ', 'zhao': 'джао', 'zhe': 'джэ', 'zhei': 'джэй', 'zhen': 'джэн', 'zheng': 'джэнъ', 'zhi': 'джи', 'zhong': 'джунъ', 'zhou': 'джоу', 'zhu': 'джу', 'zhua': 'джуа', 'zhuai': 'джуай', 'zhuan': 'джуан', 'zhuang': 'джуанъ', 'zhui': 'джуй', 'zhun': 'джун', 'zhuo': 'джуо', 'zi': 'дзы', 'zong': 'дзунъ', 'zou': 'дзоу', 'zu': 'дзу', 'zuan': 'дзуан', 'zui': 'дзуй', 'zun': 'дзун', 'zuo': 'дзуо'}\n"
     ]
    }
   ],
   "source": [
    "with open('slovar.csv', newline='', encoding='utf-8') as csvfile:\n",
    "    reader = csv.reader(csvfile)\n",
    "    dataset_dict = {}\n",
    "    for row in reader:\n",
    "        key = row[0]  \n",
    "        value = row[1]  \n",
    "        dataset_dict[key] = value  \n",
    "print(dataset_dict)"
   ]
  },
  {
   "cell_type": "code",
   "execution_count": 4,
   "metadata": {},
   "outputs": [
    {
     "name": "stdout",
     "output_type": "stream",
     "text": [
      "# wǒ zhù zài běijīng. wǒ de fùmǔ zuìjìn bān dàole xī'ān. xiànzài zhǎo fángzi fēicháng kùnnán. wǒ zhēn de hěn xiǎng bāngmáng, dàn wǒ méiyǒu qián. suǒyǐ wǒ jīntiān yào qù zhǎo gōngzuò\n"
     ]
    }
   ],
   "source": [
    "translator = Translator()\n",
    "SENTENSE = ch_text\n",
    "LANGUAGE_CODE = translator.detect(SENTENSE).lang\n",
    "\n",
    "k = translator.translate(SENTENSE, dest=LANGUAGE_CODE)\n",
    "pinyuin_procesed = k.pronunciation.lower()\n",
    "print(pinyuin_procesed)\n"
   ]
  },
  {
   "cell_type": "code",
   "execution_count": 5,
   "metadata": {},
   "outputs": [
    {
     "name": "stdout",
     "output_type": "stream",
     "text": [
      "[\"# wo3 zhu4 za4i be3iji1ng. wo3 de fu4mu3 zui4ji4n ba1n da4ole xi1'a1n. xia4nza4i zha3o fa2ngzi fe1icha2ng ku4nna2n. wo3 zhe1n de he3n xia3ng ba1ngma2ng, da4n wo3 me2iyo3u qia2n. suo3yi3 wo3 ji1ntia1n ya4o qu4 zha3o go1ngzuo4\"]\n"
     ]
    }
   ],
   "source": [
    "def replace_tones(text):\n",
    "    tone_replacements = {\n",
    "        'ā': 'a1', 'á': 'a2', 'ǎ': 'a3', 'à': 'a4',\n",
    "        'ē': 'e1', 'é': 'e2', 'ě': 'e3', 'è': 'e4',\n",
    "        'ī': 'i1', 'í': 'i2', 'ǐ': 'i3', 'ì': 'i4',\n",
    "        'ō': 'o1', 'ó': 'o2', 'ǒ': 'o3', 'ò': 'o4',\n",
    "        'ū': 'u1', 'ú': 'u2', 'ǔ': 'u3', 'ù': 'u4',    }\n",
    "\n",
    "    for vowel, replacement in tone_replacements.items():\n",
    "        text = re.sub(vowel, replacement, text)\n",
    "\n",
    "    return text\n",
    "\n",
    "result = [replace_tones(pinyuin_procesed)]\n",
    "print(result) "
   ]
  },
  {
   "cell_type": "code",
   "execution_count": 6,
   "metadata": {},
   "outputs": [
    {
     "name": "stdout",
     "output_type": "stream",
     "text": [
      "[\"# во3 джу4 дза4и бэ3идзи1нъ. во3 дэ фу4му3 дзуй4дзи4н ба1н да4олэ си1'а1н. сья4ндза4и джа3о фа2нъдзы фэй1ичха2нъ кху4нна2н. во3 джэ1н дэ хэ3н сья3нъ ба1нъма2нъ, да4н во3 мэ2иyо3у ться2н. суо3йи3 во3 дзи1нтхиа1н я4о тьсю4 джа3о го1нъдзуо4\"]\n"
     ]
    }
   ],
   "source": [
    "original_texts = result  \n",
    "replacement_dataset = dataset_dict\n",
    "\n",
    "def replace_text_with_dataset(text, dataset):\n",
    "    sorted_keys = sorted(dataset.keys(), key=len, reverse=True)\n",
    "    pattern = re.compile('|'.join(re.escape(key) for key in sorted_keys))\n",
    "    replaced_text = pattern.sub(lambda match: dataset[match.group(0)], text)\n",
    "    return replaced_text\n",
    "\n",
    "result_texts = [replace_text_with_dataset(text, replacement_dataset) for text in original_texts]\n",
    "\n",
    "print(result_texts)\n"
   ]
  }
 ],
 "metadata": {
  "kernelspec": {
   "display_name": "Python 3 (ipykernel)",
   "language": "python",
   "name": "python3"
  },
  "language_info": {
   "codemirror_mode": {
    "name": "ipython",
    "version": 3
   },
   "file_extension": ".py",
   "mimetype": "text/x-python",
   "name": "python",
   "nbconvert_exporter": "python",
   "pygments_lexer": "ipython3",
   "version": "3.10.11"
  }
 },
 "nbformat": 4,
 "nbformat_minor": 4
}
