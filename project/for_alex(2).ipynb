{
 "cells": [
  {
   "cell_type": "code",
   "execution_count": 50,
   "metadata": {},
   "outputs": [],
   "source": [
    "import pypinyin\n",
    "from pypinyin import pinyin, Style\n",
    "import numpy as np\n",
    "import re\n",
    "import pandas as pd\n",
    "import csv"
   ]
  },
  {
   "cell_type": "code",
   "execution_count": 51,
   "metadata": {},
   "outputs": [],
   "source": [
    "ch_text = input(\"Введите китайский текст: \")"
   ]
  },
  {
   "cell_type": "code",
   "execution_count": 52,
   "metadata": {},
   "outputs": [
    {
     "name": "stdout",
     "output_type": "stream",
     "text": [
      "{'\\ufeffeng': 'rus', 'a': 'а', 'ai': 'ай', 'an': 'ан', 'ang': 'анъ', 'ao': 'ао', 'ba': 'ба', 'bai': 'бай', 'ban': 'бан', 'bang': 'банъ', 'bao': 'бао', 'bei': 'бэй', 'ben': 'бэн', 'beng': 'бэнъ', 'bi': 'би', 'bian': 'бьен', 'biao': 'бьяо', 'bie': 'бье', 'bin': 'бин', 'bing': 'бинъ', 'bo': 'бо', 'bu': 'бу', 'ca': 'цха', 'cai': 'цхай', 'can': 'цхан', 'cang': 'цханъ', 'cao': 'цхао', 'ce': 'цхэ', 'cen': 'цхэн', 'ceng': 'цхэнъ', 'cha': 'чха', 'chai': 'чхай', 'chan': 'чхан', 'chang': 'чханъ', 'chao': 'чхао', 'che': 'чхэ', 'chen': 'чхэн', 'cheng': 'чхэнъ', 'chi': 'чши', 'chong': 'чхунъ', 'chou': 'чхоу', 'chu': 'чху', 'chuai': 'чхуай', 'chuan': 'чхуан', 'chuang': 'чхуанъ', 'chui': 'чхуй', 'chun': 'чхун', 'chuo': 'чхуо', 'ci': 'цхы', 'cong': 'цхунъ', 'cou': 'цхоу', 'cu': 'цху', 'cuan': 'цхуан', 'cui': 'цхуй', 'cun': 'цхун', 'cuo': 'цхуо', 'da': 'да', 'dai': 'дай', 'dan': 'дан', 'dang': 'данъ', 'dao': 'дао', 'de': 'дэ', 'dei': 'дэй', 'deng': 'дэнъ', 'di': 'ди', 'dia': 'дья', 'dian': 'дьен', 'diao': 'дьяо', 'die': 'дье', 'ding': 'динъ', 'diu': 'диу', 'dong': 'дунъ', 'dou': 'доу', 'du': 'ду', 'duan': 'дуан', 'dui': 'дуй', 'dun': 'дун', 'duo': 'дуо', 'e': 'э', 'ei': 'эй', 'en': 'эн', 'eng': 'энъ', 'er': 'ар', 'fa': 'фа', 'fan': 'фан', 'fang': 'фанъ', 'fei': 'фэй', 'fen': 'фэн', 'feng': 'фэнъ', 'fo': 'фо', 'fou': 'фоу', 'fu': 'фу', 'ga': 'га', 'gai': 'гай', 'gan': 'ган', 'gang': 'ганъ', 'gao': 'гао', 'ge': 'гэ', 'gei': 'гэй', 'gen': 'гэн', 'geng': 'гэнъ', 'gong': 'гунъ', 'gou': 'гоу', 'gu': 'гу', 'gua': 'гуа', 'guai': 'гуай', 'guan': 'гуан', 'guang': 'гуанъ', 'gui': 'гуй', 'gun': 'гун', 'guo': 'гуо', 'ha': 'ха', 'hai': 'хай', 'han': 'хан', 'hang': 'ханъ', 'hao': 'хао', 'he': 'хэ', 'hei': 'хэй', 'hen': 'хэн', 'heng': 'хэнъ', 'hong': 'хунъ', 'hu': 'ху', 'hua': 'хуа', 'huai': 'хуай', 'huan': 'хуан', 'huang': 'хуанъ', 'hui': 'хуй', 'hun': 'хун', 'huo': 'хуо', 'ji': 'дзи', 'jia': 'дзя', 'jian': 'дзьен', 'jiang': 'дзянъ', 'jiao': 'дзяо', 'jie': 'дзье', 'jin': 'дзин', 'jing': 'дзинъ', 'jiong': 'дзьёнъ', 'jiu': 'дзиу', 'ju': 'дзю', 'juan': 'дзюан', 'jue': 'дзюэ', 'jun': 'дзюн', 'ka': 'кха', 'kai': 'кхай', 'kan': 'кхан', 'kang': 'кханъ', 'kao': 'кхао', 'ke': 'кхэ', 'ken': 'кхэн', 'keng': 'кхэнъ', 'kong': 'кхунъ', 'kou': 'кхоу', 'ku': 'кху', 'kua': 'кхуа', 'kuai': 'кхуай', 'kuan': 'кхуан', 'kuang': 'кхуанъ', 'kui': 'кхуй', 'kun': 'кхун', 'kuo': 'кхуо', 'la': 'ла', 'lai': 'лай', 'lan': 'лан', 'lang': 'ланъ', 'lao': 'лао', 'le': 'лэ', 'lei': 'лэй', 'leng': 'лэнъ', 'li': 'ли', 'lia': 'лья', 'lian': 'льен', 'liang': 'льянъ', 'liao': 'льяо', 'lie': 'лье', 'lin': 'лин', 'ling': 'линъ', 'liu': 'лиу', 'long': 'лунъ', 'lou': 'лоу', 'lü': 'лйю', 'lu': 'лу', 'luan': 'луан', 'lüe': 'лйюэ', 'lun': 'лун', 'luo': 'луо', 'm': 'м', 'ma': 'ма', 'mai': 'май', 'man': 'ман', 'mang': 'манъ', 'mao': 'мао', 'me': 'мэ', 'mei': 'мэй', 'men': 'мэн', 'meng': 'мэнъ', 'mi': 'ми', 'mian': 'мьен', 'miao': 'мьао', 'mie': 'мье', 'min': 'мин', 'ming': 'минъ', 'miu': 'миу', 'mo': 'мо', 'mou': 'моу', 'mu': 'му', 'n': 'н', 'na': 'на', 'nai': 'най', 'nan': 'нан', 'nang': 'нанъ', 'nao': 'нао', 'ne': 'нэ', 'nei': 'нэй', 'nen': 'нэнь', 'neng': 'нэн', 'ng': 'нг', 'ni': 'ни', 'nian': 'ньен', 'niang': 'ньянъ', 'niao': 'ньяо', 'nie': 'нье', 'nin': 'нин', 'ning': 'нинъ', 'niu': 'ниу', 'nong': 'нунъ', 'nü': 'нйю', 'nu': 'ну', 'nuan': 'нуан', 'nüe': 'нйюэ', 'nuo': 'нуо', 'o': 'о', 'ou': 'оу', 'pa': 'пха', 'pai': 'пхай', 'pan': 'пхан', 'pang': 'пханъ', 'pao': 'пхао', 'pei': 'пхэй', 'pen': 'пхэн', 'peng': 'пхэнъ', 'pi': 'пхи', 'pian': 'пхьен', 'piao': 'пхьяо', 'pie': 'пхье', 'pin': 'пхин', 'ping': 'пхинъ', 'po': 'пхо', 'pou': 'пхоу', 'pu': 'пху', 'qi': 'тьси', 'qia': 'ться', 'qian': 'тьсьен', 'qiang': 'тьсьянъ', 'qiao': 'тьсяо', 'qie': 'тьсье', 'qin': 'тьсин', 'qing': 'тьсинъ', 'qiong': 'тьсёнъ', 'qiu': 'тьсиу', 'qu': 'тьсю', 'quan': 'тьсюан', 'que': 'тьсюэ', 'qun': 'тьсун', 'ran': 'жан', 'rang': 'жанъ', 'rao': 'жао', 're': 'жэ', 'ren': 'жэн', 'reng': 'жэнъ', 'ri': 'жи', 'rong': 'жунъ', 'rou': 'жоу', 'ru': 'жу', 'ruan': 'жуан', 'rui': 'жуй', 'run': 'жун', 'ruo': 'жуо', 'sa': 'са', 'sai': 'сай', 'san': 'сан', 'sang': 'санъ', 'sao': 'сао', 'se': 'сэ', 'sen': 'сэн', 'seng': 'сэнъ', 'sha': 'ша', 'shai': 'шай', 'shan': 'шан', 'shang': 'шанъ', 'shao': 'шао', 'she': 'шэ', 'shei': 'шэй', 'shen': 'шэн', 'sheng': 'шэнъ', 'shi': 'ши', 'shou': 'шоу', 'shu': 'шу', 'shua': 'шуа', 'shuai': 'шуай', 'shuan': 'шуан', 'shuang': 'шуанъ', 'shui': 'шуй', 'shun': 'шун', 'shuo': 'шуо', 'si': 'сы', 'song': 'сунъ', 'sou': 'соу', 'su': 'су', 'suan': 'суан', 'sui': 'суй', 'sun': 'сун', 'suo': 'суо', 'ta': 'тха', 'tai': 'тхай', 'tan': 'тхан', 'tang': 'тхан', 'tao': 'тхао', 'te': 'тхэ', 'ten': 'тхэн', 'teng': 'тхэнъ', 'ti': 'тхи', 'tian': 'тхьен', 'tiao': 'тхяо', 'tie': 'тхье', 'ting': 'тхинъ', 'tong': 'тхунъ', 'tou': 'тхоу', 'tu': 'тху', 'tuan': 'тхуан', 'tui': 'тхуй', 'tun': 'тхун', 'tuo': 'тхуо', 'wa': 'ва', 'wai': 'вай', 'wan': 'ван', 'wang': 'ванъ', 'wei': 'вэй', 'wen': 'вэн', 'weng': 'вэнъ', 'wo': 'во', 'wu': 'ву', 'xi': 'си', 'xia': 'сья', 'xian': 'сьен', 'xiang': 'сьянъ', 'xiao': 'сяо', 'xie': 'сье', 'xin': 'син', 'xing': 'син', 'xiong': 'сьёнъ', 'xiu': 'сиу', 'xu': 'сю', 'xuan': 'сюан', 'xue': 'сюэ', 'xun': 'сюн', 'ya': 'я', 'yan': 'ен', 'yang': 'янъ', 'yao': 'яо', 'ye': 'е', 'yi': 'йи', 'yin': 'йин', 'ying': 'йинъ', 'yong': 'ёнъ', 'you': 'йоу', 'yu': 'ю', 'yuan': 'юан', 'yue': 'юэ', 'yun': 'юн', 'za': 'дза', 'zai': 'дзай', 'zan': 'дзан', 'zang': 'дзанъ', 'zao': 'дзао', 'ze': 'дзэ', 'zei': 'дзэй', 'zen': 'дзэн', 'zeng': 'дзэнъ', 'zha': 'джа', 'zhai': 'джай', 'zhan': 'джан', 'zhang': 'джанъ', 'zhao': 'джао', 'zhe': 'джэ', 'zhei': 'джэй', 'zhen': 'джэн', 'zheng': 'джэнъ', 'zhi': 'джи', 'zhong': 'джунъ', 'zhou': 'джоу', 'zhu': 'джу', 'zhua': 'джуа', 'zhuai': 'джуай', 'zhuan': 'джуан', 'zhuang': 'джуанъ', 'zhui': 'джуй', 'zhun': 'джун', 'zhuo': 'джуо', 'zi': 'дзы', 'zong': 'дзунъ', 'zou': 'дзоу', 'zu': 'дзу', 'zuan': 'дзуан', 'zui': 'дзуй', 'zun': 'дзун', 'zuo': 'дзуо'}\n"
     ]
    }
   ],
   "source": [
    "with open('achko.csv', newline='', encoding='utf-8') as csvfile:\n",
    "    reader = csv.reader(csvfile)\n",
    "    dataset_dict = {}\n",
    "    for row in reader:\n",
    "        key = row[0]  \n",
    "        value = row[1]  \n",
    "        dataset_dict[key] = value  \n",
    "print(dataset_dict)"
   ]
  },
  {
   "cell_type": "code",
   "execution_count": 53,
   "metadata": {},
   "outputs": [
    {
     "name": "stdout",
     "output_type": "stream",
     "text": [
      "Requirement already satisfied: googletrans in c:\\users\\евгений\\appdata\\local\\programs\\python\\python310\\lib\\site-packages (3.1.0a0)\n",
      "Requirement already satisfied: httpx==0.13.3 in c:\\users\\евгений\\appdata\\local\\programs\\python\\python310\\lib\\site-packages (from googletrans) (0.13.3)\n",
      "Requirement already satisfied: idna==2.* in c:\\users\\евгений\\appdata\\local\\programs\\python\\python310\\lib\\site-packages (from httpx==0.13.3->googletrans) (2.10)\n",
      "Requirement already satisfied: sniffio in c:\\users\\евгений\\appdata\\local\\programs\\python\\python310\\lib\\site-packages (from httpx==0.13.3->googletrans) (1.3.0)\n",
      "Requirement already satisfied: chardet==3.* in c:\\users\\евгений\\appdata\\local\\programs\\python\\python310\\lib\\site-packages (from httpx==0.13.3->googletrans) (3.0.4)\n",
      "Requirement already satisfied: httpcore==0.9.* in c:\\users\\евгений\\appdata\\local\\programs\\python\\python310\\lib\\site-packages (from httpx==0.13.3->googletrans) (0.9.1)\n",
      "Requirement already satisfied: hstspreload in c:\\users\\евгений\\appdata\\local\\programs\\python\\python310\\lib\\site-packages (from httpx==0.13.3->googletrans) (2023.1.1)\n",
      "Requirement already satisfied: rfc3986<2,>=1.3 in c:\\users\\евгений\\appdata\\local\\programs\\python\\python310\\lib\\site-packages (from httpx==0.13.3->googletrans) (1.5.0)\n",
      "Requirement already satisfied: certifi in c:\\users\\евгений\\appdata\\local\\programs\\python\\python310\\lib\\site-packages (from httpx==0.13.3->googletrans) (2023.11.17)\n",
      "Requirement already satisfied: h2==3.* in c:\\users\\евгений\\appdata\\local\\programs\\python\\python310\\lib\\site-packages (from httpcore==0.9.*->httpx==0.13.3->googletrans) (3.2.0)\n",
      "Requirement already satisfied: h11<0.10,>=0.8 in c:\\users\\евгений\\appdata\\local\\programs\\python\\python310\\lib\\site-packages (from httpcore==0.9.*->httpx==0.13.3->googletrans) (0.9.0)\n",
      "Requirement already satisfied: hyperframe<6,>=5.2.0 in c:\\users\\евгений\\appdata\\local\\programs\\python\\python310\\lib\\site-packages (from h2==3.*->httpcore==0.9.*->httpx==0.13.3->googletrans) (5.2.0)\n",
      "Requirement already satisfied: hpack<4,>=3.0 in c:\\users\\евгений\\appdata\\local\\programs\\python\\python310\\lib\\site-packages (from h2==3.*->httpcore==0.9.*->httpx==0.13.3->googletrans) (3.0.0)\n",
      "Note: you may need to restart the kernel to use updated packages.\n"
     ]
    },
    {
     "name": "stderr",
     "output_type": "stream",
     "text": [
      "\n",
      "[notice] A new release of pip is available: 23.0.1 -> 23.3.2\n",
      "[notice] To update, run: python.exe -m pip install --upgrade pip\n"
     ]
    }
   ],
   "source": [
    "%pip install googletrans"
   ]
  },
  {
   "cell_type": "code",
   "execution_count": 54,
   "metadata": {},
   "outputs": [
    {
     "name": "stdout",
     "output_type": "stream",
     "text": [
      "bàba chīle wǒ de xīguā\n"
     ]
    }
   ],
   "source": [
    "from googletrans import Translator\n",
    "\n",
    "translator = Translator()\n",
    "\n",
    "SENTENSE = ch_text\n",
    "LANGUAGE_CODE = translator.detect(SENTENSE).lang\n",
    "\n",
    "k = translator.translate(SENTENSE, dest=LANGUAGE_CODE)\n",
    "pinyuin_procesed = k.pronunciation.lower()\n",
    "print(pinyuin_procesed)\n"
   ]
  },
  {
   "cell_type": "code",
   "execution_count": 55,
   "metadata": {},
   "outputs": [
    {
     "name": "stdout",
     "output_type": "stream",
     "text": [
      "['ba4ba5 chi1le5 wo3 de5 xi1gu5a1']\n"
     ]
    }
   ],
   "source": [
    "def replace_tones(text):\n",
    "    tone_replacements = {\n",
    "        'a': 'a5','ā': 'a1', 'á': 'a2', 'ǎ': 'a3', 'à': 'a4',\n",
    "        'e': 'e5','ē': 'e1', 'é': 'e2', 'ě': 'e3', 'è': 'e4',\n",
    "        'i': 'i5','ī': 'i1', 'í': 'i2', 'ǐ': 'i3', 'ì': 'i4',\n",
    "        'o': 'o5','ō': 'o1', 'ó': 'o2', 'ǒ': 'o3', 'ò': 'o4',\n",
    "        'u': 'u5','ū': 'u1', 'ú': 'u2', 'ǔ': 'u3', 'ù': 'u4',    }\n",
    "\n",
    "    for vowel, replacement in tone_replacements.items():\n",
    "        text = re.sub(vowel, replacement, text)\n",
    "\n",
    "    return text\n",
    "\n",
    "\n",
    "\n",
    "\n",
    "result = [replace_tones(pinyuin_procesed)]\n",
    "\n",
    "print(result) #добавить чистку пробелов, сделать неразрывными слоги, добавтить правила"
   ]
  },
  {
   "cell_type": "code",
   "execution_count": 56,
   "metadata": {},
   "outputs": [
    {
     "name": "stdout",
     "output_type": "stream",
     "text": [
      "['ба4ба5 чши1лэ5 во3 дэ5 си1гу5а1']\n"
     ]
    }
   ],
   "source": [
    "original_texts = result  \n",
    "#original_texts  = ['ba4 ', 'bang ', 'ni ', 'ha '] # в словаре пробелы\n",
    "replacement_dataset = dataset_dict\n",
    "\n",
    "def replace_text_with_dataset(text, dataset):\n",
    "    sorted_keys = sorted(dataset.keys(), key=len, reverse=True)\n",
    "    pattern = re.compile('|'.join(re.escape(key) for key in sorted_keys))\n",
    "    replaced_text = pattern.sub(lambda match: dataset[match.group(0)], text)\n",
    "    return replaced_text\n",
    "\n",
    "\n",
    "result_texts = [replace_text_with_dataset(text, replacement_dataset) for text in original_texts]\n",
    "\n",
    "\n",
    "print(result_texts)\n"
   ]
  }
 ],
 "metadata": {
  "kernelspec": {
   "display_name": "Python 3 (ipykernel)",
   "language": "python",
   "name": "python3"
  },
  "language_info": {
   "codemirror_mode": {
    "name": "ipython",
    "version": 3
   },
   "file_extension": ".py",
   "mimetype": "text/x-python",
   "name": "python",
   "nbconvert_exporter": "python",
   "pygments_lexer": "ipython3",
   "version": "3.10.11"
  }
 },
 "nbformat": 4,
 "nbformat_minor": 4
}
