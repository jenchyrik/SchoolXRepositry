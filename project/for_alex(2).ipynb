{
 "cells": [
  {
   "cell_type": "code",
   "execution_count": 1,
   "metadata": {},
   "outputs": [],
   "source": [
    "import pypinyin\n",
    "from pypinyin import pinyin, Style\n",
    "import numpy as np\n",
    "import re\n",
    "import pandas as pd\n",
    "import csv"
   ]
  },
  {
   "cell_type": "code",
   "execution_count": 2,
   "metadata": {},
   "outputs": [
    {
     "name": "stdout",
     "output_type": "stream",
     "text": [
      "[['bà'], ['bà'], [' '], ['nǐ'], ['hǎo'], [' '], ['bà'], ['bà'], [' '], ['nǐ'], ['hǎo'], [' '], ['bà'], ['bà'], [' '], ['nǐ'], ['hǎo'], [' '], ['bà'], ['bà'], [' '], ['nǐ'], ['hǎo'], [' '], ['bà'], ['bà'], [' '], ['nǐ'], ['hǎo']]\n"
     ]
    }
   ],
   "source": [
    "ch_text = '爸爸 你好 爸爸 你好 爸爸 你好 爸爸 你好 爸爸 你好'\n",
    "result1 = pinyin(ch_text, style= Style.TONE)\n",
    "print(result1)"
   ]
  },
  {
   "cell_type": "code",
   "execution_count": 3,
   "metadata": {},
   "outputs": [
    {
     "name": "stdout",
     "output_type": "stream",
     "text": [
      "['ba4', 'ba4', ' ', 'ni3', 'ha3o5', ' ', 'ba4', 'ba4', ' ', 'ni3', 'ha3o5', ' ', 'ba4', 'ba4', ' ', 'ni3', 'ha3o5', ' ', 'ba4', 'ba4', ' ', 'ni3', 'ha3o5', ' ', 'ba4', 'ba4', ' ', 'ni3', 'ha3o5']\n"
     ]
    }
   ],
   "source": [
    "def replace_tones(text):\n",
    "    tone_replacements = {\n",
    "        'a': 'a5','ā': 'a1', 'á': 'a2', 'ǎ': 'a3', 'à': 'a4',\n",
    "        'e': 'e5','ē': 'e1', 'é': 'e2', 'ě': 'e3', 'è': 'e4',\n",
    "        'i': 'i5','ī': 'i1', 'í': 'i2', 'ǐ': 'i3', 'ì': 'i4',\n",
    "        'o': 'o5','ō': 'o1', 'ó': 'o2', 'ǒ': 'o3', 'ò': 'o4',\n",
    "        'u': 'u5','ū': 'u1', 'ú': 'u2', 'ǔ': 'u3', 'ù': 'u4',    }\n",
    "\n",
    "    for vowel, replacement in tone_replacements.items():\n",
    "        text = re.sub(vowel, replacement, text)\n",
    "\n",
    "    return text\n",
    "\n",
    "\n",
    "\n",
    "\n",
    "result = [replace_tones(word[0]) for word in result1]\n",
    "\n",
    "print(result) #добавить чистку пробелов, сделать неразрывными слоги, добавтить правила"
   ]
  },
  {
   "cell_type": "code",
   "execution_count": 4,
   "metadata": {},
   "outputs": [
    {
     "name": "stdout",
     "output_type": "stream",
     "text": [
      "ба4 ба4   ни3 хао3   ба4 ба4   ни3 хао3   ба4 ба4   ни3 хао3   ба4 ба4   ни3 хао3   ба4 ба4   ни3 хао3\n"
     ]
    }
   ],
   "source": [
    "# транслитерация библиотекой, палладий, заказчику не понравилось\n",
    "text = ' '.join([item[0] for item in result])\n",
    "trans_text = ' '.join([x[0] for x in pinyin(ch_text, style= Style.CYRILLIC)])\n",
    "print(trans_text) "
   ]
  },
  {
   "cell_type": "code",
   "execution_count": 6,
   "metadata": {},
   "outputs": [
    {
     "data": {
      "text/html": [
       "<div>\n",
       "<style scoped>\n",
       "    .dataframe tbody tr th:only-of-type {\n",
       "        vertical-align: middle;\n",
       "    }\n",
       "\n",
       "    .dataframe tbody tr th {\n",
       "        vertical-align: top;\n",
       "    }\n",
       "\n",
       "    .dataframe thead th {\n",
       "        text-align: right;\n",
       "    }\n",
       "</style>\n",
       "<table border=\"1\" class=\"dataframe\">\n",
       "  <thead>\n",
       "    <tr style=\"text-align: right;\">\n",
       "      <th></th>\n",
       "      <th>eng</th>\n",
       "      <th>rus</th>\n",
       "    </tr>\n",
       "  </thead>\n",
       "  <tbody>\n",
       "    <tr>\n",
       "      <th>0</th>\n",
       "      <td>a</td>\n",
       "      <td>а</td>\n",
       "    </tr>\n",
       "    <tr>\n",
       "      <th>1</th>\n",
       "      <td>ai</td>\n",
       "      <td>ай</td>\n",
       "    </tr>\n",
       "    <tr>\n",
       "      <th>2</th>\n",
       "      <td>an</td>\n",
       "      <td>ан</td>\n",
       "    </tr>\n",
       "    <tr>\n",
       "      <th>3</th>\n",
       "      <td>ang</td>\n",
       "      <td>анъ</td>\n",
       "    </tr>\n",
       "    <tr>\n",
       "      <th>4</th>\n",
       "      <td>ao</td>\n",
       "      <td>ао</td>\n",
       "    </tr>\n",
       "    <tr>\n",
       "      <th>...</th>\n",
       "      <td>...</td>\n",
       "      <td>...</td>\n",
       "    </tr>\n",
       "    <tr>\n",
       "      <th>402</th>\n",
       "      <td>zu</td>\n",
       "      <td>дзу</td>\n",
       "    </tr>\n",
       "    <tr>\n",
       "      <th>403</th>\n",
       "      <td>zuan</td>\n",
       "      <td>дзуан</td>\n",
       "    </tr>\n",
       "    <tr>\n",
       "      <th>404</th>\n",
       "      <td>zui</td>\n",
       "      <td>дзуй</td>\n",
       "    </tr>\n",
       "    <tr>\n",
       "      <th>405</th>\n",
       "      <td>zun</td>\n",
       "      <td>дзун</td>\n",
       "    </tr>\n",
       "    <tr>\n",
       "      <th>406</th>\n",
       "      <td>zuo</td>\n",
       "      <td>дзуо</td>\n",
       "    </tr>\n",
       "  </tbody>\n",
       "</table>\n",
       "<p>407 rows × 2 columns</p>\n",
       "</div>"
      ],
      "text/plain": [
       "       eng    rus\n",
       "0       a       а\n",
       "1      ai      ай\n",
       "2      an      ан\n",
       "3     ang     анъ\n",
       "4      ao      ао\n",
       "..     ...    ...\n",
       "402    zu     дзу\n",
       "403  zuan   дзуан\n",
       "404   zui    дзуй\n",
       "405   zun    дзун\n",
       "406   zuo    дзуо\n",
       "\n",
       "[407 rows x 2 columns]"
      ]
     },
     "execution_count": 6,
     "metadata": {},
     "output_type": "execute_result"
    }
   ],
   "source": [
    "# чистим датасет от неразрывных пробелов\n",
    "data = pd.read_csv('aaa3 (3).csv')\n",
    "data.replace(to_replace=r'\\xa0', value=' ', regex=True, inplace=True)\n",
    "data.replace(to_replace=r'\\xa0', value='', regex=True, inplace=True)\n",
    "data.to_csv('aaa3.csv', index=False)\n",
    "data"
   ]
  },
  {
   "cell_type": "code",
   "execution_count": 118,
   "metadata": {},
   "outputs": [],
   "source": [
    "# import csv\n",
    "\n",
    "# def csv_to_dict(csv_file_path):\n",
    "#     data_dict = {}\n",
    "#     with open(csv_file_path, mode='r', encoding='utf-8') as csv_file:\n",
    "#         csv_reader = csv.reader(csv_file)\n",
    "#         for row in csv_reader:\n",
    "#             if len(row) >= 2:  # Убедимся, что в строке есть хотя бы два значения\n",
    "#                 data_dict[row[0]] = row[1]\n",
    "#     return data_dict\n",
    "\n",
    "# # Пример использования:\n",
    "# csv_file_path = 'aaa3.csv'  # Укажите путь к вашему CSV-файлу\n",
    "# result_dict = csv_to_dict(csv_file_path)\n",
    "# print(result_dict)\n"
   ]
  },
  {
   "cell_type": "code",
   "execution_count": 7,
   "metadata": {},
   "outputs": [
    {
     "name": "stdout",
     "output_type": "stream",
     "text": [
      "{'eng': 'rus', 'a ': 'а', 'ai ': 'ай', 'an ': 'ан', 'ang ': 'анъ', 'ao ': 'ао', 'ba ': 'ба', 'bai ': 'бай', 'ban ': 'бан', 'bang ': 'банъ', 'bao ': 'бао', 'bei ': 'бэй', 'ben ': 'бэн', 'beng ': 'бэнъ', 'bi ': 'би', 'bian ': 'бьен', 'biao ': 'бьяо', 'bie ': 'бье', 'bin ': 'бин', 'bing ': 'бинъ', 'bo ': 'бо', 'bu ': 'бу', 'ca ': 'цха', 'cai ': 'цхай', 'can ': 'цхан', 'cang ': 'цханъ', 'cao ': 'цхао', 'ce ': 'цхэ', 'cen ': 'цхэн', 'ceng ': 'цхэнъ', 'cha ': 'чха', 'chai ': 'чхай', 'chan ': 'чхан', 'chang ': 'чханъ', 'chao ': 'чхао', 'che ': 'чхэ', 'chen ': 'чхэн', 'cheng ': 'чхэнъ', 'chi ': 'чши', 'chong ': 'чхунъ', 'chou ': 'чхоу', 'chu ': 'чху', 'chuai ': 'чхуай', 'chuan ': 'чхуан', 'chuang ': 'чхуанъ', 'chui ': 'чхуй', 'chun ': 'чхун', 'chuo ': 'чхуо', 'ci ': 'цхы', 'cong ': 'цхунъ', 'cou ': 'цхоу', 'cu ': 'цху', 'cuan ': 'цхуан', 'cui ': 'цхуй', 'cun ': 'цхун', 'cuo ': 'цхуо', 'da ': 'да', 'dai ': 'дай', 'dan ': 'дан', 'dang ': 'данъ', 'dao ': 'дао', 'de ': 'дэ', 'dei ': 'дэй', 'deng ': 'дэнъ', 'di ': 'ди', 'dia ': 'дья', 'dian ': 'дьен', 'diao ': 'дьяо', 'die ': 'дье', 'ding ': 'динъ', 'diu ': 'диу', 'dong ': 'дунъ', 'dou ': 'доу', 'du ': 'ду', 'duan ': 'дуан', 'dui ': 'дуй', 'dun ': 'дун', 'duo ': 'дуо', 'e ': 'э', 'ei ': 'эй', 'en ': 'эн', 'eng ': 'энъ', 'er ': 'ар', 'fa ': 'фа', 'fan ': 'фан', 'fang ': 'фанъ', 'fei ': 'фэй', 'fen ': 'фэн', 'feng ': 'фэнъ', 'fo ': 'фо', 'fou ': 'фоу', 'fu ': 'фу', 'ga ': 'га', 'gai ': 'гай', 'gan ': 'ган', 'gang ': 'ганъ', 'gao ': 'гао', 'ge ': 'гэ', 'gei ': 'гэй', 'gen ': 'гэн', 'geng ': 'гэнъ', 'gong ': 'гунъ', 'gou ': 'гоу', 'gu ': 'гу', 'gua ': 'гуа', 'guai ': 'гуай', 'guan ': 'гуан', 'guang ': 'гуанъ', 'gui ': 'гуй', 'gun ': 'гун', 'guo ': 'гуо', 'ha ': 'ха', 'hai ': 'хай', 'han ': 'хан', 'hang ': 'ханъ', 'hao ': 'хао', 'he ': 'хэ', 'hei ': 'хэй', 'hen ': 'хэн', 'heng ': 'хэнъ', 'hong ': 'хунъ', 'hu ': 'ху', 'hua ': 'хуа', 'huai ': 'хуай', 'huan ': 'хуан', 'huang ': 'хуанъ', 'hui ': 'хуй', 'hun ': 'хун', 'huo ': 'хуо', 'ji ': 'дзи', 'jia ': 'дзя', 'jian ': 'дзьен', 'jiang ': 'дзянъ', 'jiao ': 'дзяо', 'jie ': 'дзье', 'jin ': 'дзин', 'jing ': 'дзинъ', 'jiong ': 'дзьёнъ', 'jiu ': 'дзиу', 'ju ': 'дзю', 'juan ': 'дзюан', 'jue ': 'дзюэ', 'jun ': 'дзюн', 'ka ': 'кха', 'kai ': 'кхай', 'kan ': 'кхан', 'kang ': 'кханъ', 'kao ': 'кхао', 'ke ': 'кхэ', 'ken ': 'кхэн', 'keng ': 'кхэнъ', 'kong ': 'кхунъ', 'kou ': 'кхоу', 'ku ': 'кху', 'kua ': 'кхуа', 'kuai ': 'кхуай', 'kuan ': 'кхуан', 'kuang ': 'кхуанъ', 'kui ': 'кхуй', 'kun ': 'кхун', 'kuo ': 'кхуо', 'la ': 'ла', 'lai ': 'лай', 'lan ': 'лан', 'lang ': 'ланъ', 'lao ': 'лао', 'le ': 'лэ', 'lei ': 'лэй', 'leng ': 'лэнъ', 'li ': 'ли', 'lia ': 'лья', 'lian ': 'льен', 'liang ': 'льянъ', 'liao ': 'льяо', 'lie ': 'лье', 'lin ': 'лин', 'ling ': 'линъ', 'liu ': 'лиу', 'long ': 'лунъ', 'lou ': 'лоу', 'lü ': 'лйю', 'lu ': 'лу', 'luan ': 'луан', 'lüe ': 'лйюэ', 'lun ': 'лун', 'luo ': 'луо', 'm ': 'м', 'ma ': 'ма', 'mai ': 'май', 'man ': 'ман', 'mang ': 'манъ', 'mao ': 'мао', 'me ': 'мэ', 'mei ': 'мэй', 'men ': 'мэн', 'meng ': 'мэнъ', 'mi ': 'ми', 'mian ': 'мьен', 'miao ': 'мьао', 'mie ': 'мье', 'min ': 'мин', 'ming ': 'минъ', 'miu ': 'миу', 'mo ': 'мо', 'mou ': 'моу', 'mu ': 'му', 'n ': 'н', 'na ': 'на', 'nai ': 'най', 'nan ': 'нан', 'nang ': 'нанъ', 'nao ': 'нао', 'ne ': 'нэ', 'nei ': 'нэй', 'nen ': 'нэнь', 'neng ': 'нэн', 'ng ': 'нг', 'ni ': 'ни', 'nian ': 'ньен', 'niang ': 'ньянъ', 'niao ': 'ньяо', 'nie ': 'нье', 'nin ': 'нин', 'ning ': 'нинъ', 'niu ': 'ниу', 'nong ': 'нунъ', 'nü ': 'нйю', 'nu ': 'ну', 'nuan ': 'нуан', 'nüe ': 'нйюэ', 'nuo ': 'нуо', 'o ': 'о', 'ou ': 'оу', 'pa ': 'пха', 'pai ': 'пхай', 'pan ': 'пхан', 'pang ': 'пханъ', 'pao ': 'пхао', 'pei ': 'пхэй', 'pen ': 'пхэн', 'peng ': 'пхэнъ', 'pi ': 'пхи', 'pian ': 'пхьен', 'piao ': 'пхьяо', 'pie ': 'пхье', 'pin ': 'пхин', 'ping ': 'пхинъ', 'po ': 'пхо', 'pou ': 'пхоу', 'pu ': 'пху', 'qi ': 'тьси', 'qia ': 'ться', 'qian ': 'тьсьен', 'qiang ': 'тьсьянъ', 'qiao ': 'тьсяо', 'qie ': 'тьсье', 'qin ': 'тьсин', 'qing ': 'тьсинъ', 'qiong ': 'тьсёнъ', 'qiu ': 'тьсиу', 'qu ': 'тьсю', 'quan ': 'тьсюан', 'que ': 'тьсюэ', 'qun ': 'тьсун', 'ran ': 'жан', 'rang ': 'жанъ', 'rao ': 'жао', 're ': 'жэ', 'ren ': 'жэн', 'reng ': 'жэнъ', 'ri ': 'жи', 'rong ': 'жунъ', 'rou ': 'жоу', 'ru ': 'жу', 'ruan ': 'жуан', 'rui ': 'жуй', 'run ': 'жун', 'ruo ': 'жуо', 'sa ': 'са', 'sai ': 'сай', 'san ': 'сан', 'sang ': 'санъ', 'sao ': 'сао', 'se ': 'сэ', 'sen ': 'сэн', 'seng ': 'сэнъ', 'sha ': 'ша', 'shai ': 'шай', 'shan ': 'шан', 'shang ': 'шанъ', 'shao ': 'шао', 'she ': 'шэ', 'shei ': 'шэй', 'shen ': 'шэн', 'sheng ': 'шэнъ', 'shi ': 'ши', 'shou ': 'шоу', 'shu ': 'шу', 'shua ': 'шуа', 'shuai ': 'шуай', 'shuan ': 'шуан', 'shuang ': 'шуанъ', 'shui ': 'шуй', 'shun ': 'шун', 'shuo ': 'шуо', 'si ': 'сы', 'song ': 'сунъ', 'sou ': 'соу', 'su ': 'су', 'suan ': 'суан', 'sui ': 'суй', 'sun ': 'сун', 'suo ': 'суо', 'ta ': 'тха', 'tai ': 'тхай', 'tan ': 'тхан', 'tang ': 'тхан', 'tao ': 'тхао', 'te ': 'тхэ', 'ten ': 'тхэн', 'teng ': 'тхэнъ', 'ti ': 'тхи', 'tian ': 'тхьен', 'tiao ': 'тхяо', 'tie ': 'тхье', 'ting ': 'тхинъ', 'tong ': 'тхунъ', 'tou ': 'тхоу', 'tu ': 'тху', 'tuan ': 'тхуан', 'tui ': 'тхуй', 'tun ': 'тхун', 'tuo ': 'тхуо', 'wa ': 'ва', 'wai ': 'вай', 'wan ': 'ван', 'wang ': 'ванъ', 'wei ': 'вэй', 'wen ': 'вэн', 'weng ': 'вэнъ', 'wo ': 'во', 'wu ': 'ву', 'xi ': 'си', 'xia ': 'сья', 'xian ': 'сьен', 'xiang ': 'сьянъ', 'xiao ': 'сяо', 'xie ': 'сье', 'xin ': 'син', 'xing ': 'син', 'xiong ': 'сьёнъ', 'xiu ': 'сиу', 'xu ': 'сю', 'xuan ': 'сюан', 'xue ': 'сюэ', 'xun ': 'сюн', 'ya ': 'я', 'yan ': 'ен', 'yang ': 'янъ', 'yao ': 'яо', 'ye ': 'е', 'yi ': 'йи', 'yin ': 'йин', 'ying ': 'йинъ', 'yong ': 'ёнъ', 'you ': 'йоу', 'yu ': 'ю', 'yuan ': 'юан', 'yue ': 'юэ', 'yun ': 'юн', 'za ': 'дза', 'zai ': 'дзай', 'zan ': 'дзан', 'zang ': 'дзанъ', 'zao ': 'дзао', 'ze ': 'дзэ', 'zei ': 'дзэй', 'zen ': 'дзэн', 'zeng ': 'дзэнъ', 'zha ': 'джа', 'zhai ': 'джай', 'zhan ': 'джан', 'zhang ': 'джанъ', 'zhao ': 'джао', 'zhe ': 'джэ', 'zhei ': 'джэй', 'zhen ': 'джэн', 'zheng ': 'джэнъ', 'zhi ': 'джи', 'zhong ': 'джунъ', 'zhou ': 'джоу', 'zhu ': 'джу', 'zhua ': 'джуа', 'zhuai ': 'джуай', 'zhuan ': 'джуан', 'zhuang ': 'джуанъ', 'zhui ': 'джуй', 'zhun ': 'джун', 'zhuo ': 'джуо', 'zi ': 'дзы', 'zong ': 'дзунъ', 'zou ': 'дзоу', 'zu ': 'дзу', 'zuan ': 'дзуан', 'zui ': 'дзуй', 'zun ': 'дзун', 'zuo ': 'дзуо'}\n"
     ]
    }
   ],
   "source": [
    "\n",
    "# ДАТАСЕТ В СЛОВАРЬ\n",
    "with open('aaa3 (3).csv', newline='', encoding='utf-8') as csvfile:\n",
    "    reader = csv.reader(csvfile)\n",
    "    dataset_dict = {}\n",
    "    for row in reader:\n",
    "        key = row[0]  \n",
    "        value = row[1]  \n",
    "        dataset_dict[key] = value  \n",
    "print(dataset_dict)"
   ]
  },
  {
   "cell_type": "code",
   "execution_count": 18,
   "metadata": {},
   "outputs": [
    {
     "name": "stdout",
     "output_type": "stream",
     "text": [
      "['ба', 'ба', 'ни', 'ха']\n"
     ]
    }
   ],
   "source": [
    "#original_texts = result  \n",
    "original_texts  = ['ba ', 'ba ', 'ni ', 'ha '] # в словаре пробелы\n",
    "replacement_dataset = dataset_dict\n",
    "\n",
    "def replace_text_with_dataset(text, dataset):\n",
    "    sorted_keys = sorted(dataset.keys(), key=len, reverse=True)\n",
    "    pattern = re.compile('|'.join(re.escape(key) for key in sorted_keys))\n",
    "    replaced_text = pattern.sub(lambda match: dataset[match.group(0)], text)\n",
    "    return replaced_text\n",
    "\n",
    "\n",
    "result_texts = [replace_text_with_dataset(text, replacement_dataset) for text in original_texts]\n",
    "\n",
    "\n",
    "print(result_texts)\n"
   ]
  },
  {
   "cell_type": "code",
   "execution_count": null,
   "metadata": {},
   "outputs": [
    {
     "name": "stdout",
     "output_type": "stream",
     "text": [
      "ni3hao3ma？\n"
     ]
    }
   ],
   "source": [
    "#баловство\n",
    "from pypinyin import pinyin, Style\n",
    "\n",
    "input_str = \"你好吗？\"\n",
    "transcribed = pinyin(input_str, style=Style.TONE3)\n",
    "result = [item[0] for item in transcribed]\n",
    "print(\"\".join(result))\n"
   ]
  },
  {
   "cell_type": "code",
   "execution_count": null,
   "metadata": {},
   "outputs": [
    {
     "name": "stdout",
     "output_type": "stream",
     "text": [
      "nin2-ke3-yi3-shi3-yong4-xun2-huan2-huo4-lie4-biao3-sheng1-cheng2-qi4-jiang1-lie4-biao3-shu4-zu3-zhuan3-huan4-wei4-dan1-ge4-wen2-ben3-zi4-fu2-chuan4-。-zhe4-shi4-  -zhong1-de5-shi4-li4-dai4-ma3\n"
     ]
    }
   ],
   "source": [
    "#баловство\n",
    "from xpinyin import Pinyin\n",
    "\n",
    "input_str = \"您可以使用循环或列表生成器将列表数组转换为单个文本字符串。这是  中的示例代码\"\n",
    "p = Pinyin()\n",
    "transcribed = p.get_pinyin(input_str, tone_marks='numbers')\n",
    "print(transcribed)\n"
   ]
  }
 ],
 "metadata": {
  "kernelspec": {
   "display_name": "Python 3 (ipykernel)",
   "language": "python",
   "name": "python3"
  },
  "language_info": {
   "codemirror_mode": {
    "name": "ipython",
    "version": 3
   },
   "file_extension": ".py",
   "mimetype": "text/x-python",
   "name": "python",
   "nbconvert_exporter": "python",
   "pygments_lexer": "ipython3",
   "version": "3.10.12"
  }
 },
 "nbformat": 4,
 "nbformat_minor": 4
}
