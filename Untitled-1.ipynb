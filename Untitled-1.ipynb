{
 "cells": [
  {
   "cell_type": "code",
   "execution_count": 1,
   "metadata": {},
   "outputs": [],
   "source": [
    "class Bird:\n",
    "    def __init__ (\n",
    "        self,\n",
    "        wings_lenght : float = 12.5,\n",
    "        legs_lenght = 3.5,\n",
    "        color: str = 'red',\n",
    "    ):\n",
    "        self.wings_lenght : wings_lenght\n",
    "        self.legs_lenght = legs_lenght\n",
    "        self.color = color\n",
    "        print('Bird Instalized')\n",
    "\n",
    "    def fly(self):\n",
    "        print('i fly')\n",
    "    def swim(self):\n",
    "        print('i swim')\n",
    "    def walk(self):\n",
    "        print('i walk')\n",
    "    def make_noise(self):\n",
    "        print('i Tweet')\n",
    "class RubberToy:\n",
    "    def __init__(\n",
    "            self,\n",
    "            toxic: bool = False,\n",
    "            size: float = 12,\n",
    "            color: str = 'yellow',\n",
    "    ):\n",
    "        self.wings_lenght : wings_lenght\n",
    "        self.legs_lenght = legs_lenght\n",
    "        self.color = color\n",
    "        print('RubberToy Instalized')\n",
    "\n",
    "        def bounce(self):\n",
    "            print('plums')\n",
    "    \n",
    "        def deforms(self):\n",
    "            print('morphing time')\n",
    "\n",
    "        def make_noise(self):\n",
    "            print('peep')"
   ]
  },
  {
   "cell_type": "code",
   "execution_count": 3,
   "metadata": {},
   "outputs": [
    {
     "name": "stdout",
     "output_type": "stream",
     "text": [
      "Bird Instalized\n"
     ]
    }
   ],
   "source": [
    "bird1 = Bird()"
   ]
  },
  {
   "cell_type": "code",
   "execution_count": null,
   "metadata": {},
   "outputs": [],
   "source": []
  }
 ],
 "metadata": {
  "kernelspec": {
   "display_name": "Python 3",
   "language": "python",
   "name": "python3"
  },
  "language_info": {
   "codemirror_mode": {
    "name": "ipython",
    "version": 3
   },
   "file_extension": ".py",
   "mimetype": "text/x-python",
   "name": "python",
   "nbconvert_exporter": "python",
   "pygments_lexer": "ipython3",
   "version": "3.11.5"
  },
  "orig_nbformat": 4
 },
 "nbformat": 4,
 "nbformat_minor": 2
}
