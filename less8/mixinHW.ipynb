{
 "cells": [
  {
   "cell_type": "code",
   "execution_count": 21,
   "metadata": {},
   "outputs": [],
   "source": [
    "class Character:\n",
    "        # self.skorost = skorost\n",
    "        # self.intelect = intelect\n",
    "        # self.massa = massa\n",
    "        # self.zaschita = zaschita\n",
    "        # self.hp = 100\n",
    "        # self.name = name\n",
    "\n",
    "    def __init__(self, skorost,intelect,massa,zaschita,name ):\n",
    "        self.skorost = skorost\n",
    "        self.intelect = intelect\n",
    "        self.massa = massa\n",
    "        self.zaschita = zaschita\n",
    "        self.hp = 100\n",
    "        self.name = name  \n",
    "    \n",
    "    # def stay(self):\n",
    "    #     print({self.name}, 'stay')\n",
    "    # def think(self):\n",
    "    #     print({self.name}, 'think')\n",
    "    # def run(self): \n",
    "    #     print({self.name}, 'run')\n",
    "    # def seet(self): \n",
    "    #     print({self.name}, 'seet')\n",
    "\n",
    "     # ПОКА НЕ НАДО"
   ]
  },
  {
   "cell_type": "code",
   "execution_count": 22,
   "metadata": {},
   "outputs": [],
   "source": [
    "class Harry(Character):\n",
    "    pass"
   ]
  },
  {
   "cell_type": "code",
   "execution_count": 23,
   "metadata": {},
   "outputs": [],
   "source": [
    "class Hagrid(Character):\n",
    "    pass"
   ]
  },
  {
   "cell_type": "code",
   "execution_count": 24,
   "metadata": {},
   "outputs": [],
   "source": [
    "class Shrek(Character):\n",
    "    pass"
   ]
  },
  {
   "cell_type": "code",
   "execution_count": 25,
   "metadata": {},
   "outputs": [],
   "source": [
    "class MixinStay(Character):\n",
    "    def stay(self):\n",
    "        print('Я',{self.name},'и я стою')\n",
    "\n",
    "class MixinLie(Character):\n",
    "    def lie(self):\n",
    "        print('Я',{self.name},'и я лежу')\n",
    "\n",
    "class MixinSeet(Character):\n",
    "    def seet(self):\n",
    "        print('Я',{self.name},'и я сижу')\n",
    "\n",
    "class MixinСollectdust(Character):\n",
    "    def collectdust(self):\n",
    "        print('Я',{self.name},'и я собираю пыль')\n",
    "\n",
    "class MixinJump(Character):\n",
    "    def jump(self):\n",
    "        print('Я',{self.name},'и я прыгаю')\n",
    "        \n",
    "class MixinTalk(Character):\n",
    "    def talk(self):\n",
    "        print('Я',{self.name},'и я говорю')\n"
   ]
  },
  {
   "cell_type": "code",
   "execution_count": 26,
   "metadata": {},
   "outputs": [],
   "source": [
    "class MixinFunkopop(MixinStay,\n",
    "                 MixinLie,\n",
    "                 MixinСollectdust):\n",
    "        pass\n",
    "\n",
    "class MixinPlayable(MixinTalk,\n",
    "                    MixinJump,\n",
    "                    MixinSeet,\n",
    "                    MixinStay):\n",
    "        pass"
   ]
  },
  {
   "cell_type": "code",
   "execution_count": 27,
   "metadata": {},
   "outputs": [],
   "source": [
    "class PlayableHarry(Harry,  MixinPlayable):\n",
    "    def megajump(self):\n",
    "        megajump = self.skorost * (self.massa/100)\n",
    "        print(\"я могу прыгнуть на \", megajump, \"метров\")\n",
    "class FunkoPopHarry(Harry, MixinFunkopop):\n",
    "    pass\n",
    "class PlayableHagrid(Hagrid,  MixinPlayable):\n",
    "    def megarun(self):\n",
    "        megarun = (self.skorost * self.massa)/2\n",
    "        print(\"я могу бежать \", megarun, \"метров\")\n",
    "class FunkoPopHagrid(Hagrid, MixinFunkopop):\n",
    "    pass\n",
    "class PlayableShrek(Shrek,  MixinPlayable):\n",
    "    def megathink(self):\n",
    "        megathink = self.intelect * 1.5\n",
    "        print(\"я могу думать, мой интелект\", megathink,\"IQ\")\n",
    "class FunkoPopShrek(Shrek, MixinFunkopop):\n",
    "    pass"
   ]
  },
  {
   "cell_type": "code",
   "execution_count": 31,
   "metadata": {},
   "outputs": [
    {
     "name": "stdout",
     "output_type": "stream",
     "text": [
      "я могу прыгнуть на  0.01 метров\n"
     ]
    }
   ],
   "source": [
    "ivanich = PlayableHarry(1,1,1,1,1)\n",
    "ivanich.megajump()"
   ]
  }
 ],
 "metadata": {
  "kernelspec": {
   "display_name": "Python 3",
   "language": "python",
   "name": "python3"
  },
  "language_info": {
   "codemirror_mode": {
    "name": "ipython",
    "version": 3
   },
   "file_extension": ".py",
   "mimetype": "text/x-python",
   "name": "python",
   "nbconvert_exporter": "python",
   "pygments_lexer": "ipython3",
   "version": "3.11.5"
  },
  "orig_nbformat": 4
 },
 "nbformat": 4,
 "nbformat_minor": 2
}
