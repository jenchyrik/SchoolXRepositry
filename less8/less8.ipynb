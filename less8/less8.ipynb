{
 "cells": [
  {
   "cell_type": "code",
   "execution_count": 8,
   "metadata": {},
   "outputs": [],
   "source": [
    "class mosquitosCloud:\n",
    "    damage_per_mosquito: float = 1.7\n",
    "    mosquitos_in_cloud: int = 5\n",
    "\n",
    "    damage = damage_per_mosquito * mosquitos_in_cloud\n",
    "    def __init__(\n",
    "            self,\n",
    "            damage_per_mosquito: float = 1.7,\n",
    "            mosquitos_in_cloud = 5\n",
    "        ):\n",
    "            if damage_per_mosquito is not None and mosquitos_in_cloud is not None:\n",
    "                  self.damage_per_mosquito = damage_per_mosquito\n",
    "                  self.mosquitos_in_cloud = mosquitos_in_cloud\n",
    "                  self.damage = damage_per_mosquito * mosquitos_in_cloud"
   ]
  },
  {
   "cell_type": "code",
   "execution_count": 9,
   "metadata": {},
   "outputs": [
    {
     "data": {
      "text/plain": [
       "8.5"
      ]
     },
     "execution_count": 9,
     "metadata": {},
     "output_type": "execute_result"
    }
   ],
   "source": [
    "mcloud1 = mosquitosCloud()\n",
    "mcloud1.damage"
   ]
  },
  {
   "cell_type": "code",
   "execution_count": 11,
   "metadata": {},
   "outputs": [
    {
     "data": {
      "text/plain": [
       "120"
      ]
     },
     "execution_count": 11,
     "metadata": {},
     "output_type": "execute_result"
    }
   ],
   "source": [
    "mcloud2 = mosquitosCloud(\n",
    "    12,\n",
    "    mosquitos_in_cloud = 10\n",
    ")\n",
    "mcloud2.damage"
   ]
  }
 ],
 "metadata": {
  "kernelspec": {
   "display_name": "Python 3",
   "language": "python",
   "name": "python3"
  },
  "language_info": {
   "codemirror_mode": {
    "name": "ipython",
    "version": 3
   },
   "file_extension": ".py",
   "mimetype": "text/x-python",
   "name": "python",
   "nbconvert_exporter": "python",
   "pygments_lexer": "ipython3",
   "version": "3.11.5"
  },
  "orig_nbformat": 4
 },
 "nbformat": 4,
 "nbformat_minor": 2
}
